{
 "cells": [
  {
   "cell_type": "markdown",
   "metadata": {},
   "source": [
    "<img src=\"header.png\" align=\"left\"/>"
   ]
  },
  {
   "cell_type": "markdown",
   "metadata": {},
   "source": [
    "# Exercise Sentiment Classification (10 points)\n",
    "\n",
    "The goal of this example is to classify movie reviews as positive or negative sentiments. This can be used to classify for example social media postings.\n",
    "\n",
    "Parts of the example are taken from [1]. The code used the Glove model [2].\n",
    "\n",
    "- [1] [https://stackabuse.com/python-for-nlp-movie-sentiment-analysis-using-deep-learning-in-keras/](https://stackabuse.com/python-for-nlp-movie-sentiment-analysis-using-deep-learning-in-keras/)\n",
    "- [2] [https://nlp.stanford.edu/pubs/glove.pdf](https://nlp.stanford.edu/pubs/glove.pdf)\n",
    "\n",
    "\n",
    "Citation GloVe [4] and dataset [5]:\n",
    "```\n",
    "[4] Jeffrey Pennington, Richard Socher, and Christopher D. Manning. 2014. GloVe: Global Vectors for Word Representation.\n",
    "\n",
    "[5] Maas, Andrew L.  and  Daly, Raymond E.  and  Pham, Peter T.  and  Huang, Dan  and  Ng, Andrew Y.  and  Potts, Christopher, Learning Word Vectors for Sentiment Analysis, Proceedings of the 49th Annual Meeting of the Association for Computational Linguistics: Human Language Technologies, June 2011, Portland, Oregon, USA, Association for Computational Linguistics, http://www.aclweb.org/anthology/P11-1015\n",
    "\n",
    "```\n",
    "\n",
    "**NOTE**\n",
    "\n",
    "Document your results by simply adding a markdown cell or a python cell (as comment) and writing your statements into this cell. For some tasks the result cell is already available.\n"
   ]
  },
  {
   "cell_type": "code",
   "execution_count": null,
   "metadata": {},
   "outputs": [],
   "source": [
    "# Zeitmessung für die gesammte Notebook-Ausführung\n",
    "from datetime import datetime # für den TimeStamp\n",
    "tstart = datetime.now()"
   ]
  },
  {
   "cell_type": "code",
   "execution_count": 1,
   "metadata": {},
   "outputs": [
    {
     "data": {
      "text/plain": [
       "'\\nVersuch TF GPU auf meinem HP 8570w laufen zu lassen. Derzeit ist eine \"NVIDIA QUADRO K2000M\" verbaut\\n# Installation notes GPU\\n# https://towardsdatascience.com/installing-tensorflow-with-cuda-cudnn-and-gpu-support-on-windows-10-60693e46e781\\n\\n# 1) Install  Visual Studio 2019 Community\\n#https://visualstudio.microsoft.com/de/thank-you-downloading-visual-studio/?sku=Community&rel=16\\nBei der Installation benötigt es keine Workloads, sprich 750 mb reichen\\n\\n2) isntall Cuda-Toolkit\\nhttps://developer.nvidia.com/cuda-downloads?target_os=Windows&target_arch=x86_64&target_version=10&target_type=exenetwork\\nich habe version cuda 11.0 heruntergeladen\\n\\n3) download & install CUDNN==11.0\\nhttps://developer.nvidia.com/rdp/cudnn-download\\ndie Credentials sind entpsrechend hinterlegt\\n'"
      ]
     },
     "execution_count": 1,
     "metadata": {},
     "output_type": "execute_result"
    }
   ],
   "source": [
    "'''\n",
    "Versuch TF GPU auf meinem HP 8570w laufen zu lassen. Derzeit ist eine \"NVIDIA QUADRO K2000M\" verbaut\n",
    "# Installation notes GPU\n",
    "# https://towardsdatascience.com/installing-tensorflow-with-cuda-cudnn-and-gpu-support-on-windows-10-60693e46e781\n",
    "\n",
    "# 1) Install  Visual Studio 2019 Community\n",
    "#https://visualstudio.microsoft.com/de/thank-you-downloading-visual-studio/?sku=Community&rel=16\n",
    "Bei der Installation benötigt es keine Workloads, sprich 750 mb reichen\n",
    "\n",
    "2) isntall Cuda-Toolkit\n",
    "https://developer.nvidia.com/cuda-downloads?target_os=Windows&target_arch=x86_64&target_version=10&target_type=exenetwork\n",
    "ich habe version cuda 11.0 heruntergeladen\n",
    "\n",
    "3) download & install CUDNN==11.0\n",
    "https://developer.nvidia.com/rdp/cudnn-download\n",
    "die Credentials sind entpsrechend hinterlegt\n",
    "'''"
   ]
  },
  {
   "cell_type": "code",
   "execution_count": 2,
   "metadata": {},
   "outputs": [],
   "source": [
    "#!pip install nltk"
   ]
  },
  {
   "cell_type": "markdown",
   "metadata": {},
   "source": [
    "# Import of Modules"
   ]
  },
  {
   "cell_type": "code",
   "execution_count": 3,
   "metadata": {},
   "outputs": [],
   "source": [
    "#\n",
    "# Import of modules\n",
    "#\n",
    "import os\n",
    "import re\n",
    "import string\n",
    "from urllib.request import urlretrieve\n",
    "import tarfile\n",
    "import zipfile\n",
    "from glob import glob\n",
    "\n",
    "import pandas as pd\n",
    "import numpy as np\n",
    "from numpy import array\n",
    "import matplotlib.pyplot as plt\n",
    "\n",
    "import nltk\n",
    "from nltk.corpus import stopwords\n",
    "\n",
    "from sklearn.linear_model import LogisticRegression\n",
    "from sklearn.feature_extraction.text import CountVectorizer\n",
    "\n",
    "from keras.preprocessing.text import one_hot\n",
    "from keras.preprocessing.sequence import pad_sequences\n",
    "from keras.models import Sequential\n",
    "from keras.layers.core import Activation, Dropout, Dense, SpatialDropout1D\n",
    "from keras.layers import Flatten, LSTM\n",
    "from keras.layers import GlobalMaxPooling1D\n",
    "from keras.layers.embeddings import Embedding\n",
    "from sklearn.model_selection import train_test_split\n",
    "from keras.preprocessing.text import Tokenizer\n",
    "\n",
    "from datetime import datetime # für den TimeStamp\n",
    "\n",
    "import random\n",
    "\n",
    "import re"
   ]
  },
  {
   "cell_type": "code",
   "execution_count": 4,
   "metadata": {},
   "outputs": [],
   "source": [
    "#\n",
    "# Turn off error messages\n",
    "#\n",
    "from warnings import simplefilter\n",
    "# ignore all future warnings\n",
    "simplefilter(action='ignore', category=FutureWarning)\n",
    "simplefilter(action='ignore', category=Warning)"
   ]
  },
  {
   "cell_type": "code",
   "execution_count": 5,
   "metadata": {},
   "outputs": [
    {
     "name": "stdout",
     "output_type": "stream",
     "text": [
      "2.3.0\n"
     ]
    }
   ],
   "source": [
    "#\n",
    "# GPU support\n",
    "#\n",
    "import tensorflow as tf\n",
    "print ( tf.__version__ ) \n",
    "\n",
    "tf.compat.v1.logging.set_verbosity(tf.compat.v1.logging.ERROR )\n",
    "physical_devices = tf.config.experimental.list_physical_devices('GPU')\n",
    "if len(physical_devices) > 0:\n",
    "    tf.config.experimental.set_memory_growth(physical_devices[0], True)\n",
    "config = tf.compat.v1.ConfigProto()\n",
    "config.gpu_options.allow_growth = True\n",
    "tf.compat.v1.keras.backend.set_session(tf.compat.v1.Session(config=config))"
   ]
  },
  {
   "cell_type": "markdown",
   "metadata": {},
   "source": [
    "# Constants"
   ]
  },
  {
   "cell_type": "code",
   "execution_count": 6,
   "metadata": {},
   "outputs": [],
   "source": [
    "#\n",
    "# Path and URL constants\n",
    "#\n",
    "urlDataSource = 'http://ai.stanford.edu/~amaas/data/sentiment/aclImdb_v1.tar.gz'\n",
    "localExtractionFolder = 'data/moviereviews'\n",
    "localDataArchive = localExtractionFolder + '/aclImdb_v1.tar.gz'\n",
    "textData = localExtractionFolder + '/aclImdb/'"
   ]
  },
  {
   "cell_type": "markdown",
   "metadata": {},
   "source": [
    "# Support functions"
   ]
  },
  {
   "cell_type": "code",
   "execution_count": 7,
   "metadata": {},
   "outputs": [],
   "source": [
    "#\n",
    "# Load data from URL\n",
    "#\n",
    "def download_dataset(url,dataset_file_path,extraction_directory):\n",
    "    if (not os.path.exists(extraction_directory)):\n",
    "        os.makedirs(extraction_directory)\n",
    "    if os.path.exists(dataset_file_path):\n",
    "        print(\"archive already downloaded.\")\n",
    "    else:\n",
    "        print(\"started loading archive from url {}\".format(url))\n",
    "        filename, headers = urlretrieve(url, dataset_file_path)\n",
    "        print(\"finished loading archive from url {} to {}\".format(url,filename))\n",
    "\n",
    "def extract_dataset(dataset_file_path, extraction_directory):\n",
    "    if (not os.path.exists(extraction_directory)):\n",
    "        os.makedirs(extraction_directory)\n",
    "    if (dataset_file_path.endswith(\"tar.gz\") or dataset_file_path.endswith(\".tgz\")):\n",
    "        tar = tarfile.open(dataset_file_path, \"r:gz\")\n",
    "        tar.extractall(path=extraction_directory)\n",
    "        tar.close()\n",
    "    elif (dataset_file_path.endswith(\"tar\")):\n",
    "        tar = tarfile.open(dataset_file_path, \"r:\")\n",
    "        tar.extractall(path=extraction_directory)\n",
    "        tar.close()\n",
    "    print(\"extraction of dataset from {} to {} done.\".format(dataset_file_path,extraction_directory) )"
   ]
  },
  {
   "cell_type": "markdown",
   "metadata": {},
   "source": [
    "# Load the data"
   ]
  },
  {
   "cell_type": "code",
   "execution_count": 8,
   "metadata": {},
   "outputs": [
    {
     "name": "stdout",
     "output_type": "stream",
     "text": [
      "archive already downloaded.\n"
     ]
    }
   ],
   "source": [
    "#\n",
    "# Download if not already loaded\n",
    "#\n",
    "download_dataset(urlDataSource,localDataArchive,localExtractionFolder)"
   ]
  },
  {
   "cell_type": "raw",
   "metadata": {},
   "source": [
    "#\n",
    "# Extract from archive\n",
    "#\n",
    "extract_dataset(localDataArchive,localExtractionFolder)"
   ]
  },
  {
   "cell_type": "markdown",
   "metadata": {},
   "source": [
    "# How are the files organized on the file system?\n",
    "\n",
    "Take a quick look how the files are organized on the file system.\n",
    "\n",
    "![Folder-Strucutre](./imgs/MovieReviewsDataFolderStructure.png)\n"
   ]
  },
  {
   "cell_type": "code",
   "execution_count": 9,
   "metadata": {},
   "outputs": [],
   "source": [
    "#\n",
    "# Collect data from the files\n",
    "#\n",
    "def load_texts_labels_from_folders(path, folders):\n",
    "    print('scanning path {}'.format(path))\n",
    "    texts,labels = [],[]\n",
    "    for idx,label in enumerate(folders):\n",
    "        print('scanning {}'.format(idx))\n",
    "        for fname in glob(os.path.join(path, label, '*.*')):\n",
    "            texts.append(open(fname, 'rb').read())\n",
    "            labels.append(idx)\n",
    "    return texts, np.array(labels).astype(np.int8)"
   ]
  },
  {
   "cell_type": "code",
   "execution_count": 10,
   "metadata": {},
   "outputs": [
    {
     "name": "stdout",
     "output_type": "stream",
     "text": [
      "scanning path data/moviereviews/aclImdb/train/\n",
      "scanning 0\n",
      "scanning 1\n",
      "scanning path data/moviereviews/aclImdb/test/\n",
      "scanning 0\n",
      "scanning 1\n",
      "Der Lauf dieses Tasks dauert: 0:15:50.724429\n"
     ]
    }
   ],
   "source": [
    "# # Loading of positive and negative examples\n",
    "#\n",
    "\n",
    "tstart_task = datetime.now()\n",
    "classes = ['neg','pos']\n",
    "x_train,y_train = load_texts_labels_from_folders( textData + 'train/', classes)\n",
    "x_test,y_test = load_texts_labels_from_folders( textData + 'test/', classes)\n",
    "tend_task = datetime.now()\n",
    "print(\"Der Lauf dieses Tasks dauert: \" + str(tend_task-tstart_task))"
   ]
  },
  {
   "cell_type": "markdown",
   "metadata": {},
   "source": [
    "# First checks on the data"
   ]
  },
  {
   "cell_type": "code",
   "execution_count": 11,
   "metadata": {},
   "outputs": [
    {
     "data": {
      "text/plain": [
       "(25000, 25000, 25000, 25000)"
      ]
     },
     "execution_count": 11,
     "metadata": {},
     "output_type": "execute_result"
    }
   ],
   "source": [
    "#\n",
    "# Check shapes of data\n",
    "#\n",
    "len(x_train),len(y_train),len(x_test),len(y_test)"
   ]
  },
  {
   "cell_type": "code",
   "execution_count": 12,
   "metadata": {},
   "outputs": [
    {
     "data": {
      "text/plain": [
       "(list, numpy.ndarray)"
      ]
     },
     "execution_count": 12,
     "metadata": {},
     "output_type": "execute_result"
    }
   ],
   "source": [
    "#\n",
    "# Check data types\n",
    "#\n",
    "(type(x_train),type(y_train))"
   ]
  },
  {
   "cell_type": "code",
   "execution_count": 13,
   "metadata": {},
   "outputs": [
    {
     "data": {
      "text/plain": [
       "array([0, 1], dtype=int8)"
      ]
     },
     "execution_count": 13,
     "metadata": {},
     "output_type": "execute_result"
    }
   ],
   "source": [
    "#\n",
    "# Check classes\n",
    "#\n",
    "np.unique(y_train)"
   ]
  },
  {
   "cell_type": "code",
   "execution_count": 14,
   "metadata": {},
   "outputs": [
    {
     "name": "stdout",
     "output_type": "stream",
     "text": [
      "b\"Story of a man who has unnatural feelings for a pig. Starts out with a opening scene that is a terrific example of absurd comedy. A formal orchestra audience is turned into an insane, violent mob by the crazy chantings of it's singers. Unfortunately it stays absurd the WHOLE time with no general narrative eventually making it just too off putting. Even those from the era should be turned off. The cryptic dialogue would make Shakespeare seem easy to a third grader. On a technical level it's better than you might think with some good cinematography by future great Vilmos Zsigmond. Future stars Sally Kirkland and Frederic Forrest can be seen briefly.\"\n",
      "label 0\n",
      "\n"
     ]
    }
   ],
   "source": [
    "#\n",
    "# Print some negative examples\n",
    "#\n",
    "for index in range (0,1):\n",
    "    print(x_train[index])\n",
    "    print(\"label {}\".format(y_train[index]))\n",
    "    print()"
   ]
  },
  {
   "cell_type": "code",
   "execution_count": 15,
   "metadata": {},
   "outputs": [
    {
     "name": "stdout",
     "output_type": "stream",
     "text": [
      "b'\"Before Sunrise\" is a wonderful love story and has to be among my Top 5 favorite movies ever. Dialog and acting are great. I love the characters and their ideas and thoughts. Of course, the romantic Vienna, introduced in the movie does not exist (you won\\'t find a poet sitting by the river in the middle of the night) and it isn\\'t possible to get to all the places in only one night, either (especially if you\\'re a stranger and it\\'s your first night in Vienna). But that\\'s not the point. The relationship of the two characters is much more important and this part of the story is not at all unrealistic. Although, nothing ever really happens, the movie never gets boring. The ending is genuinely sad without being \"Titanic\" or something. Even if you don\\'t like love stories you should watch this film! I\\'m a little skeptic about the sequel that is going to be released in summer. The first part is perfect as it is, in my opinion.'\n",
      "label 1\n",
      "\n"
     ]
    }
   ],
   "source": [
    "#\n",
    "# Print some positive examples\n",
    "#\n",
    "for index in range (13001,13002):\n",
    "    print(x_train[index])\n",
    "    print(\"label {}\".format(y_train[index]))\n",
    "    print()\n"
   ]
  },
  {
   "cell_type": "markdown",
   "metadata": {},
   "source": [
    "# Task: Clean text (1 points)\n",
    "\n",
    "Write a function called preprocess_text(text) which takes a text piece and **cleans out** the following artifacts:\n",
    "\n",
    "1. html tags, but leave text between tags intact => why the Tag-Content a? href...?...???\n",
    "1. punctuations and numbers => Clear\n",
    "1. single characters => a ,i ... => clear\n",
    "1. multiple white spaces => clear"
   ]
  },
  {
   "cell_type": "code",
   "execution_count": 16,
   "metadata": {},
   "outputs": [],
   "source": [
    "def preprocess_text(sen):\n",
    "    # Transfer into string\n",
    "    sentence = sen.decode(\"utf-8\") # transform byte to string\n",
    "    sentence = re.sub(r\"\\b[a-zA-Z]\\b\", \" \", sentence) #single characters\n",
    "    sentence = re.sub(r\"\\d+\", \" \", sentence)\n",
    "    \n",
    "    sentence = re.sub(r'[^\\w\\s]',' ',sentence) #punctuations and numbers && html tags, but leave text between tags intact\n",
    "    #sentence = re.sub(r'[^\\d]','',sentence)\n",
    "    sentence = (re.sub('\\s+',' ',sentence)) #multiple white spaces\n",
    "    return(sentence)\n",
    "    \n",
    "#cleanedSentence =  preprocess_text(x_train[1])\n",
    "#print(x_train[1])\n",
    "#print(cleanedSentence)\n"
   ]
  },
  {
   "cell_type": "code",
   "execution_count": 17,
   "metadata": {},
   "outputs": [
    {
     "name": "stdout",
     "output_type": "stream",
     "text": [
      "X-Train-Cleaning\n",
      "0/25000\n",
      "2020-08-15 21:37:52.984802\n",
      "\n",
      "5000/25000\n",
      "2020-08-15 21:37:56.616800\n",
      "\n",
      "10000/25000\n",
      "2020-08-15 21:38:00.400801\n",
      "\n",
      "15000/25000\n",
      "2020-08-15 21:38:04.268802\n",
      "\n",
      "20000/25000\n",
      "2020-08-15 21:38:08.693799\n",
      "\n",
      "X-Test-Cleaning\n",
      "0/25000\n",
      "2020-08-15 21:38:12.385800\n",
      "\n",
      "5000/25000\n",
      "2020-08-15 21:38:15.604798\n",
      "\n",
      "10000/25000\n",
      "2020-08-15 21:38:19.420799\n",
      "\n",
      "15000/25000\n",
      "2020-08-15 21:38:23.437801\n",
      "\n",
      "20000/25000\n",
      "2020-08-15 21:38:27.189799\n",
      "\n"
     ]
    }
   ],
   "source": [
    "#\n",
    "# Clean all texts\n",
    "#\n",
    "\n",
    "x_train_clean = []\n",
    "print(\"X-Train-Cleaning\")\n",
    "j = 0\n",
    "for review in x_train:\n",
    "    if(j%5000 == 0):\n",
    "        tnow = datetime.now()\n",
    "        print(str(j) + \"/\" +str(len(x_train)))\n",
    "        print(tnow)\n",
    "        print()\n",
    "    x_train_clean.append(preprocess_text(review))\n",
    "    j = j+1\n",
    "\n",
    "print(\"X-Test-Cleaning\")\n",
    "j = 0\n",
    "x_test_clean = []\n",
    "for review in x_test:\n",
    "    if(j%5000 == 0):\n",
    "        tnow = datetime.now()\n",
    "        print(str(j) + \"/\" +str(len(x_test)))\n",
    "        print(tnow)\n",
    "        print()\n",
    "    x_test_clean.append(preprocess_text(review))\n",
    "    j = j+1\n",
    "    \n",
    "x_test = x_test_clean\n",
    "x_train = x_train_clean"
   ]
  },
  {
   "cell_type": "code",
   "execution_count": 18,
   "metadata": {},
   "outputs": [],
   "source": [
    "# CHeck x_train, y_train || x_test, y_tets"
   ]
  },
  {
   "cell_type": "markdown",
   "metadata": {},
   "source": [
    "# Find mean text length"
   ]
  },
  {
   "cell_type": "code",
   "execution_count": 19,
   "metadata": {},
   "outputs": [
    {
     "name": "stdout",
     "output_type": "stream",
     "text": [
      "text character length mean 1247.70244\n"
     ]
    },
    {
     "data": {
      "image/png": "[encoded data removed]",
      "text/plain": [
       "<Figure size 432x288 with 1 Axes>"
      ]
     },
     "metadata": {
      "needs_background": "light"
     },
     "output_type": "display_data"
    }
   ],
   "source": [
    "#\n",
    "# Count length of text strings\n",
    "#\n",
    "textLength = []\n",
    "for index in range (0,len(x_train)):\n",
    "    textLength.append(len(x_train[index]))\n",
    "\n",
    "#\n",
    "# Plot histogram\n",
    "#\n",
    "plt.hist(textLength)\n",
    "lengthArray = np.array(textLength)\n",
    "print('text character length mean {}'.format(np.mean(lengthArray)))"
   ]
  },
  {
   "cell_type": "markdown",
   "metadata": {},
   "source": [
    "# Convert words into tokens"
   ]
  },
  {
   "cell_type": "code",
   "execution_count": 20,
   "metadata": {},
   "outputs": [],
   "source": [
    "#\n",
    "# Split text up into tokens\n",
    "#\n",
    "tokenizer = Tokenizer(num_words=10000, lower=True, oov_token='unknwn')\n",
    "#\n",
    "# Train tokenizer\n",
    "#\n",
    "tokenizer.fit_on_texts(x_train)"
   ]
  },
  {
   "cell_type": "code",
   "execution_count": 21,
   "metadata": {},
   "outputs": [],
   "source": [
    "#\n",
    "# Convert words into integer sequences\n",
    "#\n",
    "x_train_v = tokenizer.texts_to_sequences(x_train)\n",
    "x_test_v = tokenizer.texts_to_sequences(x_test)"
   ]
  },
  {
   "cell_type": "code",
   "execution_count": 22,
   "metadata": {},
   "outputs": [
    {
     "name": "stdout",
     "output_type": "stream",
     "text": [
      "Story of man who has unnatural feelings for pig Starts out with opening scene that is terrific example of absurd comedy formal orchestra audience is turned into an insane violent mob by the crazy chantings of it singers Unfortunately it stays absurd the WHOLE time with no general narrative eventually making it just too off putting Even those from the era should be turned off The cryptic dialogue would make Shakespeare seem easy to third grader On technical level it better than you might think with some good cinematography by future great Vilmos Zsigmond Future stars Sally Kirkland and Frederic Forrest can be seen briefly  629\n"
     ]
    }
   ],
   "source": [
    "# check original sentence\n",
    "print(x_train[0], len(x_train[0]) )"
   ]
  },
  {
   "cell_type": "code",
   "execution_count": 23,
   "metadata": {},
   "outputs": [
    {
     "name": "stdout",
     "output_type": "stream",
     "text": [
      "[60, 4, 122, 33, 44, 7445, 1383, 14, 4161, 501, 42, 15, 617, 131, 11, 6, 1271, 453, 4, 1705, 203, 1, 7348, 295, 6, 662, 80, 32, 2096, 1079, 2969, 31, 2, 893, 1, 4, 8, 5075, 460, 8, 2637, 1705, 2, 217, 54, 15, 55, 786, 1287, 826, 223, 8, 40, 95, 120, 1453, 56, 143, 35, 2, 956, 139, 26, 662, 120, 2, 1, 406, 58, 92, 1757, 301, 749, 5, 813, 1, 20, 1707, 630, 8, 125, 70, 19, 228, 99, 15, 46, 47, 613, 31, 677, 82, 1, 1, 677, 369, 3322, 1, 3, 1, 7918, 48, 26, 105, 3304] 105\n"
     ]
    }
   ],
   "source": [
    "# check token sequence\n",
    "print(x_train_v[0], len(x_train_v[0]))"
   ]
  },
  {
   "cell_type": "code",
   "execution_count": 24,
   "metadata": {},
   "outputs": [
    {
     "name": "stdout",
     "output_type": "stream",
     "text": [
      "['story of man who has unnatural feelings for pig starts out with opening scene that is terrific example of absurd comedy unknwn orchestra audience is turned into an insane violent mob by the crazy unknwn of it singers unfortunately it stays absurd the whole time with no general narrative eventually making it just too off putting even those from the era should be turned off the unknwn dialogue would make shakespeare seem easy to third unknwn on technical level it better than you might think with some good cinematography by future great unknwn unknwn future stars sally unknwn and unknwn forrest can be seen briefly']\n"
     ]
    }
   ],
   "source": [
    "# reverse tokens to text for check\n",
    "text = tokenizer.sequences_to_texts([x_train_v[0]])\n",
    "print(text)"
   ]
  },
  {
   "cell_type": "code",
   "execution_count": 25,
   "metadata": {},
   "outputs": [
    {
     "name": "stdout",
     "output_type": "stream",
     "text": [
      "vectorized length mean 226.28068\n"
     ]
    },
    {
     "data": {
      "image/png": "[encoded data removed]",
      "text/plain": [
       "<Figure size 432x288 with 1 Axes>"
      ]
     },
     "metadata": {
      "needs_background": "light"
     },
     "output_type": "display_data"
    }
   ],
   "source": [
    "#\n",
    "# Count length of integer sequences (aka word sequences)\n",
    "#\n",
    "textLength = []\n",
    "for index in range (0,len(x_train_v)):\n",
    "    textLength.append(len(x_train_v[index]))\n",
    "\n",
    "#\n",
    "# Plot histogram\n",
    "#\n",
    "plt.hist(textLength)\n",
    "lengthArray = np.array(textLength)\n",
    "print('vectorized length mean {}'.format(np.mean(lengthArray)))"
   ]
  },
  {
   "cell_type": "code",
   "execution_count": 26,
   "metadata": {},
   "outputs": [
    {
     "name": "stdout",
     "output_type": "stream",
     "text": [
      "count of words 73530\n"
     ]
    }
   ],
   "source": [
    "#\n",
    "# Get size of vocabulary of tokenizer\n",
    "#\n",
    "vocab_size = len(tokenizer.word_index) + 1\n",
    "print('count of words {}'.format(vocab_size))"
   ]
  },
  {
   "cell_type": "markdown",
   "metadata": {},
   "source": [
    "# Task: select a proper maximum length of text (1 point)\n",
    "\n",
    "Set maxlen to a suitable value for the text length. Longer text sequences are cut off, shorter sequences are padded."
   ]
  },
  {
   "cell_type": "code",
   "execution_count": 27,
   "metadata": {},
   "outputs": [],
   "source": [
    "# Ich nehme die durchschnittliche Textlänge als Maximum"
   ]
  },
  {
   "cell_type": "code",
   "execution_count": 28,
   "metadata": {},
   "outputs": [],
   "source": [
    "def average(lst): \n",
    "    return sum(lst) / len(lst) \n",
    "maxlen = int(average(textLength))"
   ]
  },
  {
   "cell_type": "code",
   "execution_count": 29,
   "metadata": {},
   "outputs": [],
   "source": [
    "#\n",
    "# Pad sequences\n",
    "#\n",
    "x_train_v = pad_sequences(x_train_v, padding='post', maxlen=maxlen)\n",
    "x_test_v = pad_sequences(x_test_v, padding='post', maxlen=maxlen)"
   ]
  },
  {
   "cell_type": "markdown",
   "metadata": {},
   "source": [
    "# Download Glove models\n",
    "[GloVe is an unsupervised learning algorithm for obtaining vector representations for words. Training is performed on aggregated global word-word co-occurrence statistics from a corpus, and the resulting representations showcase interesting linear substructures of the word vector space.](https://nlp.stanford.edu/projects/glove/)\n",
    "\n",
    "\n",
    "\n"
   ]
  },
  {
   "cell_type": "code",
   "execution_count": 30,
   "metadata": {},
   "outputs": [],
   "source": [
    "gloveUrl = 'http://nlp.stanford.edu/glove.6B.zip'\n",
    "gloveExtractionFolder = 'data/glove'\n",
    "gloveDataArchive = gloveExtractionFolder + '/glove.6B.zip'\n",
    "\n",
    "#\n",
    "# Select 100 dims for embedding space\n",
    "#\n",
    "gloveData = gloveExtractionFolder + '/' + 'glove.6B.100d.txt'\n",
    "gloveDims = 100"
   ]
  },
  {
   "cell_type": "code",
   "execution_count": 31,
   "metadata": {},
   "outputs": [],
   "source": [
    "def unzip_dataset(dataset_file_path, extraction_directory):  \n",
    "    if (not os.path.exists(extraction_directory)):\n",
    "        os.makedirs(extraction_directory)        \n",
    "    zip = zipfile.ZipFile(dataset_file_path)\n",
    "    zip.extractall(path=extraction_directory)        \n",
    "    print(\"extraction of dataset from {} to {} done.\".format(dataset_file_path,extraction_directory) )"
   ]
  },
  {
   "cell_type": "code",
   "execution_count": 32,
   "metadata": {},
   "outputs": [],
   "source": [
    "#\n",
    "# Execute download\n",
    "#\n",
    "if ( not os.path.exists(gloveData)):\n",
    "    download_dataset(gloveUrl,gloveDataArchive,gloveExtractionFolder)"
   ]
  },
  {
   "cell_type": "code",
   "execution_count": 33,
   "metadata": {},
   "outputs": [],
   "source": [
    "#\n",
    "# Unzip glove\n",
    "#\n",
    "if ( not os.path.exists(gloveData)):\n",
    "    unzip_dataset(gloveDataArchive,gloveExtractionFolder)"
   ]
  },
  {
   "cell_type": "markdown",
   "metadata": {},
   "source": [
    "# Load glove embeddings into memory"
   ]
  },
  {
   "cell_type": "code",
   "execution_count": 34,
   "metadata": {},
   "outputs": [],
   "source": [
    "#\n",
    "# Create dict of glove vectors for each word in glove model\n",
    "#\n",
    "embeddings_dictionary = dict()\n",
    "glove_file = open(gloveData, encoding=\"utf8\")\n",
    "for line in glove_file:\n",
    "    records = line.split()\n",
    "    word = records[0]\n",
    "    vector_dimensions = np.asarray(records[1:], dtype='float32')\n",
    "    embeddings_dictionary [word] = vector_dimensions\n",
    "glove_file.close()"
   ]
  },
  {
   "cell_type": "code",
   "execution_count": 35,
   "metadata": {},
   "outputs": [
    {
     "name": "stdout",
     "output_type": "stream",
     "text": [
      "100\n"
     ]
    }
   ],
   "source": [
    "print(len(embeddings_dictionary['the']))"
   ]
  },
  {
   "cell_type": "raw",
   "metadata": {},
   "source": [
    "for word, index in tokenizer.word_index.items():\n",
    "    if(index%7501==0):\n",
    "        print(word)"
   ]
  },
  {
   "cell_type": "code",
   "execution_count": 36,
   "metadata": {},
   "outputs": [
    {
     "name": "stdout",
     "output_type": "stream",
     "text": [
      "(73530, 100)\n",
      "[0. 0. 0. 0. 0. 0. 0. 0. 0. 0. 0. 0. 0. 0. 0. 0. 0. 0. 0. 0. 0. 0. 0. 0.\n",
      " 0. 0. 0. 0. 0. 0. 0. 0. 0. 0. 0. 0. 0. 0. 0. 0. 0. 0. 0. 0. 0. 0. 0. 0.\n",
      " 0. 0. 0. 0. 0. 0. 0. 0. 0. 0. 0. 0. 0. 0. 0. 0. 0. 0. 0. 0. 0. 0. 0. 0.\n",
      " 0. 0. 0. 0. 0. 0. 0. 0. 0. 0. 0. 0. 0. 0. 0. 0. 0. 0. 0. 0. 0. 0. 0. 0.\n",
      " 0. 0. 0. 0.]\n",
      "[0. 0. 0. 0. 0. 0. 0. 0. 0. 0. 0. 0. 0. 0. 0. 0. 0. 0. 0. 0. 0. 0. 0. 0.\n",
      " 0. 0. 0. 0. 0. 0. 0. 0. 0. 0. 0. 0. 0. 0. 0. 0. 0. 0. 0. 0. 0. 0. 0. 0.\n",
      " 0. 0. 0. 0. 0. 0. 0. 0. 0. 0. 0. 0. 0. 0. 0. 0. 0. 0. 0. 0. 0. 0. 0. 0.\n",
      " 0. 0. 0. 0. 0. 0. 0. 0. 0. 0. 0. 0. 0. 0. 0. 0. 0. 0. 0. 0. 0. 0. 0. 0.\n",
      " 0. 0. 0. 0.]\n"
     ]
    }
   ],
   "source": [
    "embedding_matrix = np.zeros((vocab_size, gloveDims))\n",
    "print(embedding_matrix.shape)\n",
    "# 73530 = Vocab dass ich aus den Comments erzeugt habe\n",
    "# gloveDims = Aus dem pretrained Vector\n",
    "print(embedding_matrix[2])\n",
    "print(embedding_matrix[73529])"
   ]
  },
  {
   "cell_type": "code",
   "execution_count": 37,
   "metadata": {},
   "outputs": [],
   "source": [
    "#\n",
    "# Copy glove vectors for each word in the tokenizer model\n",
    "#\n",
    "embedding_matrix = np.zeros((vocab_size, gloveDims))\n",
    "for word, index in tokenizer.word_index.items():\n",
    "    #print(word)\n",
    "    embedding_vector = embeddings_dictionary.get(word)\n",
    "    if embedding_vector is not None:\n",
    "        embedding_matrix[index] = embedding_vector"
   ]
  },
  {
   "cell_type": "code",
   "execution_count": 38,
   "metadata": {},
   "outputs": [
    {
     "name": "stdout",
     "output_type": "stream",
     "text": [
      "(73530, 100)\n"
     ]
    }
   ],
   "source": [
    "# check shape\n",
    "print(embedding_matrix.shape)"
   ]
  },
  {
   "cell_type": "markdown",
   "metadata": {},
   "source": [
    "# Task: Print some examples of glove vectors for words (1 point)\n",
    "\n",
    "Select some random word from the tokenizer and print the glove vectors for those words."
   ]
  },
  {
   "cell_type": "code",
   "execution_count": 39,
   "metadata": {},
   "outputs": [
    {
     "name": "stdout",
     "output_type": "stream",
     "text": [
      "73529\n",
      "73530\n"
     ]
    }
   ],
   "source": [
    "print(len(list(tokenizer.word_index.keys())))\n",
    "print(len(embedding_matrix))\n"
   ]
  },
  {
   "cell_type": "code",
   "execution_count": 40,
   "metadata": {},
   "outputs": [
    {
     "name": "stdout",
     "output_type": "stream",
     "text": [
      "jonathn\n"
     ]
    },
    {
     "ename": "KeyError",
     "evalue": "'jonathn'",
     "output_type": "error",
     "traceback": [
      "\u001b[1;31m---------------------------------------------------------------------------\u001b[0m",
      "\u001b[1;31mKeyError\u001b[0m                                  Traceback (most recent call last)",
      "\u001b[1;32m<ipython-input-40-a984904bbc8f>\u001b[0m in \u001b[0;36m<module>\u001b[1;34m\u001b[0m\n\u001b[0;32m     21\u001b[0m         \u001b[0mprint\u001b[0m\u001b[1;33m(\u001b[0m\u001b[0membeddings_dictionary\u001b[0m\u001b[1;33m[\u001b[0m\u001b[0mword\u001b[0m\u001b[1;33m]\u001b[0m\u001b[1;33m)\u001b[0m\u001b[1;33m\u001b[0m\u001b[1;33m\u001b[0m\u001b[0m\n\u001b[0;32m     22\u001b[0m \u001b[1;33m\u001b[0m\u001b[0m\n\u001b[1;32m---> 23\u001b[1;33m \u001b[0mprintVector\u001b[0m\u001b[1;33m(\u001b[0m\u001b[0msomeNumber\u001b[0m\u001b[1;33m)\u001b[0m\u001b[1;33m\u001b[0m\u001b[1;33m\u001b[0m\u001b[0m\n\u001b[0m",
      "\u001b[1;32m<ipython-input-40-a984904bbc8f>\u001b[0m in \u001b[0;36mprintVector\u001b[1;34m(someNumber)\u001b[0m\n\u001b[0;32m     19\u001b[0m     \u001b[1;32mfor\u001b[0m \u001b[0mword\u001b[0m \u001b[1;32min\u001b[0m \u001b[0mwordingList\u001b[0m\u001b[1;33m:\u001b[0m\u001b[1;33m\u001b[0m\u001b[1;33m\u001b[0m\u001b[0m\n\u001b[0;32m     20\u001b[0m         \u001b[0mprint\u001b[0m\u001b[1;33m(\u001b[0m\u001b[0mword\u001b[0m\u001b[1;33m)\u001b[0m\u001b[1;33m\u001b[0m\u001b[1;33m\u001b[0m\u001b[0m\n\u001b[1;32m---> 21\u001b[1;33m         \u001b[0mprint\u001b[0m\u001b[1;33m(\u001b[0m\u001b[0membeddings_dictionary\u001b[0m\u001b[1;33m[\u001b[0m\u001b[0mword\u001b[0m\u001b[1;33m]\u001b[0m\u001b[1;33m)\u001b[0m\u001b[1;33m\u001b[0m\u001b[1;33m\u001b[0m\u001b[0m\n\u001b[0m\u001b[0;32m     22\u001b[0m \u001b[1;33m\u001b[0m\u001b[0m\n\u001b[0;32m     23\u001b[0m \u001b[0mprintVector\u001b[0m\u001b[1;33m(\u001b[0m\u001b[0msomeNumber\u001b[0m\u001b[1;33m)\u001b[0m\u001b[1;33m\u001b[0m\u001b[1;33m\u001b[0m\u001b[0m\n",
      "\u001b[1;31mKeyError\u001b[0m: 'jonathn'"
     ]
    }
   ],
   "source": [
    "#\n",
    "# Result:\n",
    "#\n",
    "\n",
    "someNumber = 3\n",
    "\n",
    "def returnSomeWordsFromTokenizer(number):\n",
    "    returnList = []\n",
    "    interimList = list(tokenizer.word_index.keys())\n",
    "    randomlist = []\n",
    "    for i in range(0,number):\n",
    "        n = random.randint(1,len(interimList))\n",
    "        randomlist.append(interimList[n])\n",
    "    return(randomlist)\n",
    "#listRandomWords = returnSomeWordsFromTokenizer(someNumber)\n",
    "\n",
    "def printVector(someNumber):\n",
    "    wordingList = returnSomeWordsFromTokenizer(someNumber)\n",
    "    for word in wordingList:\n",
    "        print(word)\n",
    "        print(embeddings_dictionary[word])\n",
    "        \n",
    "printVector(someNumber)"
   ]
  },
  {
   "cell_type": "markdown",
   "metadata": {},
   "source": [
    "# Create a simple model\n",
    "\n",
    "**Note** how the embedding_matrix is used in the first layer to embed the token integers into vectors."
   ]
  },
  {
   "cell_type": "code",
   "execution_count": 41,
   "metadata": {},
   "outputs": [],
   "source": [
    "def createNNModel():\n",
    "    model = Sequential()\n",
    "    embedding_layer = Embedding(vocab_size, gloveDims, weights=[embedding_matrix], input_length=maxlen , trainable=False)\n",
    "    model.add(embedding_layer)\n",
    "    model.add(Flatten())\n",
    "    model.add(Dense(100, activation='sigmoid'))\n",
    "    model.add(Dropout(0.2))\n",
    "    model.add(Dense(1, activation='sigmoid'))\n",
    "    return model"
   ]
  },
  {
   "cell_type": "code",
   "execution_count": 42,
   "metadata": {},
   "outputs": [
    {
     "name": "stdout",
     "output_type": "stream",
     "text": [
      "Model: \"sequential\"\n",
      "_________________________________________________________________\n",
      "Layer (type)                 Output Shape              Param #   \n",
      "=================================================================\n",
      "embedding (Embedding)        (None, 226, 100)          7353000   \n",
      "_________________________________________________________________\n",
      "flatten (Flatten)            (None, 22600)             0         \n",
      "_________________________________________________________________\n",
      "dense (Dense)                (None, 100)               2260100   \n",
      "_________________________________________________________________\n",
      "dropout (Dropout)            (None, 100)               0         \n",
      "_________________________________________________________________\n",
      "dense_1 (Dense)              (None, 1)                 101       \n",
      "=================================================================\n",
      "Total params: 9,613,201\n",
      "Trainable params: 2,260,201\n",
      "Non-trainable params: 7,353,000\n",
      "_________________________________________________________________\n",
      "None\n"
     ]
    }
   ],
   "source": [
    "model = createNNModel()\n",
    "model.compile(optimizer='adam', loss='binary_crossentropy', metrics=['acc'])\n",
    "print(model.summary())"
   ]
  },
  {
   "cell_type": "code",
   "execution_count": 43,
   "metadata": {},
   "outputs": [
    {
     "name": "stdout",
     "output_type": "stream",
     "text": [
      "Epoch 1/12\n",
      "157/157 [==============================] - 17s 108ms/step - loss: 0.6160 - acc: 0.6698 - val_loss: 0.6705 - val_acc: 0.6216\n",
      "Epoch 2/12\n",
      "157/157 [==============================] - 17s 106ms/step - loss: 0.4634 - acc: 0.7900 - val_loss: 0.6802 - val_acc: 0.6344\n",
      "Epoch 3/12\n",
      "157/157 [==============================] - 16s 103ms/step - loss: 0.3639 - acc: 0.8474 - val_loss: 0.9073 - val_acc: 0.5246\n",
      "Epoch 4/12\n",
      "157/157 [==============================] - 16s 102ms/step - loss: 0.2787 - acc: 0.8936 - val_loss: 0.7486 - val_acc: 0.6418\n",
      "Epoch 5/12\n",
      "157/157 [==============================] - 17s 107ms/step - loss: 0.2104 - acc: 0.9273 - val_loss: 1.2411 - val_acc: 0.4942\n",
      "Epoch 6/12\n",
      "157/157 [==============================] - 17s 109ms/step - loss: 0.1641 - acc: 0.9442 - val_loss: 0.8317 - val_acc: 0.6568\n",
      "Epoch 7/12\n",
      "157/157 [==============================] - 16s 104ms/step - loss: 0.1115 - acc: 0.9700 - val_loss: 1.2137 - val_acc: 0.5734\n",
      "Epoch 8/12\n",
      "157/157 [==============================] - 16s 103ms/step - loss: 0.0781 - acc: 0.9819 - val_loss: 1.1626 - val_acc: 0.6104\n",
      "Epoch 9/12\n",
      "157/157 [==============================] - 16s 104ms/step - loss: 0.0568 - acc: 0.9893 - val_loss: 1.4130 - val_acc: 0.5758\n",
      "Epoch 10/12\n",
      "157/157 [==============================] - 16s 103ms/step - loss: 0.0420 - acc: 0.9929 - val_loss: 1.1767 - val_acc: 0.6464\n",
      "Epoch 11/12\n",
      "157/157 [==============================] - 17s 106ms/step - loss: 0.0337 - acc: 0.9944 - val_loss: 1.2323 - val_acc: 0.6466\n",
      "Epoch 12/12\n",
      "157/157 [==============================] - 16s 104ms/step - loss: 0.0266 - acc: 0.9956 - val_loss: 1.6211 - val_acc: 0.5798\n"
     ]
    }
   ],
   "source": [
    "history = model.fit(x_train_v, y_train, batch_size=128, epochs=12, verbose=1, validation_split=0.2)"
   ]
  },
  {
   "cell_type": "code",
   "execution_count": 44,
   "metadata": {},
   "outputs": [
    {
     "name": "stdout",
     "output_type": "stream",
     "text": [
      "782/782 [==============================] - 13s 16ms/step - loss: 1.0845 - acc: 0.7108\n"
     ]
    }
   ],
   "source": [
    "score = model.evaluate(x_test_v, y_test, verbose=1)"
   ]
  },
  {
   "cell_type": "code",
   "execution_count": 45,
   "metadata": {},
   "outputs": [
    {
     "name": "stdout",
     "output_type": "stream",
     "text": [
      "test loss: 1.084547996520996\n",
      "test accuracy: 0.7107599973678589\n"
     ]
    }
   ],
   "source": [
    "print(\"test loss:\", score[0])\n",
    "print(\"test accuracy:\", score[1])"
   ]
  },
  {
   "cell_type": "code",
   "execution_count": 46,
   "metadata": {},
   "outputs": [],
   "source": [
    "def plotResults(history):\n",
    "    plt.plot(history.history['acc'])\n",
    "    plt.plot(history.history['val_acc'])\n",
    "    plt.title('model accuracy')\n",
    "    plt.ylabel('accuracy')\n",
    "    plt.xlabel('epoch')\n",
    "    plt.legend(['train','test'], loc='upper left')\n",
    "    plt.show()\n",
    "\n",
    "    plt.plot(history.history['loss'])\n",
    "    plt.plot(history.history['val_loss'])\n",
    "\n",
    "    plt.title('model loss')\n",
    "    plt.ylabel('loss')\n",
    "    plt.xlabel('epoch')\n",
    "    plt.legend(['train','test'], loc='upper left')\n",
    "    plt.show()"
   ]
  },
  {
   "cell_type": "code",
   "execution_count": 47,
   "metadata": {},
   "outputs": [
    {
     "data": {
      "image/png": "[encoded data removed]",
      "text/plain": [
       "<Figure size 432x288 with 1 Axes>"
      ]
     },
     "metadata": {
      "needs_background": "light"
     },
     "output_type": "display_data"
    },
    {
     "data": {
      "image/png": "[encoded data removed]",
      "text/plain": [
       "<Figure size 432x288 with 1 Axes>"
      ]
     },
     "metadata": {
      "needs_background": "light"
     },
     "output_type": "display_data"
    }
   ],
   "source": [
    "plotResults(history)"
   ]
  },
  {
   "cell_type": "markdown",
   "metadata": {},
   "source": [
    "# Save model"
   ]
  },
  {
   "cell_type": "code",
   "execution_count": 48,
   "metadata": {},
   "outputs": [
    {
     "name": "stdout",
     "output_type": "stream",
     "text": [
      "saved model to disk as results/02_model.json results/02_model.h5\n"
     ]
    }
   ],
   "source": [
    "#\n",
    "# Save a model for later use\n",
    "#\n",
    "from keras.models import model_from_json\n",
    "\n",
    "prefix = 'results/02_'\n",
    "modelName = prefix + \"model.json\"\n",
    "weightName = prefix + \"model.h5\"\n",
    "\n",
    "\n",
    "def handle_model(model,save_model):\n",
    "    # set to True if the model should be saved\n",
    "    if save_model:\n",
    "        model_json = model.to_json()\n",
    "        with open( modelName , \"w\") as json_file:\n",
    "            json_file.write(model_json)\n",
    "        # serialize weights to HDF5\n",
    "        model.save_weights( weightName )\n",
    "        print(\"saved model to disk as {} {}\".format(modelName,weightName))\n",
    "        return model\n",
    "    \n",
    "\n",
    "    # load model (has to be saved before, is not part of git)    \n",
    "    if not save_model:\n",
    "        json_file = open(modelName, 'r')\n",
    "        loaded_model_json = json_file.read()\n",
    "        json_file.close()\n",
    "        loaded_model = model_from_json(loaded_model_json)\n",
    "        # load weights into new model\n",
    "        loaded_model.load_weights(weightName)\n",
    "        print(\"loaded model from disk\")        \n",
    "        return loaded_model\n",
    "    \n",
    "#\n",
    "# Load or save model\n",
    "#\n",
    "model = handle_model(model,True)"
   ]
  },
  {
   "cell_type": "markdown",
   "metadata": {},
   "source": [
    "# Task: Improved model based on LSTMs (2 points)\n",
    "\n",
    "The previous model reaches around 70% of test accuracy. This is not sufficient for your customer. So we need a better model. Research the internet for sentiment analysis models using LSTMs and implement a better version of the model based on this information.\n",
    "\n",
    "1. Implement an LSTM based model version for sentiment analysis (you can also use a different model if you find publications for it)\n",
    "1. Document the sources you have found\n",
    "1. Test the model in comparison to the older model version"
   ]
  },
  {
   "cell_type": "code",
   "execution_count": 49,
   "metadata": {},
   "outputs": [],
   "source": [
    "#\n",
    "# Result: new model\n",
    "#\n",
    "def createLSTMModel():\n",
    "    model = Sequential()\n",
    "    embedding_layer = Embedding(vocab_size, gloveDims, weights=[embedding_matrix], input_length=maxlen , trainable=False)\n",
    "    model.add(embedding_layer)\n",
    "    model.add(LSTM(128, dropout=0.2, recurrent_dropout=0.2))\n",
    "    model.add(Dense(1, activation='sigmoid'))\n",
    "    model.compile(optimizer='adam', loss='binary_crossentropy', metrics=['acc'])\n",
    "    return model\n",
    "    \n",
    "    # ...\n",
    "    \n",
    "    #\n",
    "    "
   ]
  },
  {
   "cell_type": "code",
   "execution_count": 50,
   "metadata": {},
   "outputs": [],
   "source": [
    "model2 = createLSTMModel()"
   ]
  },
  {
   "cell_type": "code",
   "execution_count": 51,
   "metadata": {},
   "outputs": [
    {
     "name": "stdout",
     "output_type": "stream",
     "text": [
      "Model: \"sequential_1\"\n",
      "_________________________________________________________________\n",
      "Layer (type)                 Output Shape              Param #   \n",
      "=================================================================\n",
      "embedding_1 (Embedding)      (None, 226, 100)          7353000   \n",
      "_________________________________________________________________\n",
      "lstm (LSTM)                  (None, 128)               117248    \n",
      "_________________________________________________________________\n",
      "dense_2 (Dense)              (None, 1)                 129       \n",
      "=================================================================\n",
      "Total params: 7,470,377\n",
      "Trainable params: 117,377\n",
      "Non-trainable params: 7,353,000\n",
      "_________________________________________________________________\n",
      "None\n"
     ]
    }
   ],
   "source": [
    "model2.compile(optimizer='adam', loss='binary_crossentropy', metrics=['acc'])\n",
    "print(model2.summary())"
   ]
  },
  {
   "cell_type": "code",
   "execution_count": 52,
   "metadata": {},
   "outputs": [
    {
     "name": "stdout",
     "output_type": "stream",
     "text": [
      "Epoch 1/3\n",
      "157/157 [==============================] - 552s 4s/step - loss: 0.6564 - acc: 0.6331 - val_loss: 1.0297 - val_acc: 0.0346\n",
      "Epoch 2/3\n",
      "157/157 [==============================] - 558s 4s/step - loss: 0.6430 - acc: 0.6485 - val_loss: 1.0006 - val_acc: 0.0088\n",
      "Epoch 3/3\n",
      "157/157 [==============================] - 370s 2s/step - loss: 0.6428 - acc: 0.6416 - val_loss: 0.8415 - val_acc: 0.2836\n",
      "782/782 [==============================] - 67s 85ms/step - loss: 0.6797 - acc: 0.5675\n"
     ]
    }
   ],
   "source": [
    "history = model2.fit(x_train_v, y_train, batch_size=128, epochs=3, verbose=1, validation_split=0.2)\n",
    "score = model2.evaluate(x_test_v, y_test, verbose=1)"
   ]
  },
  {
   "cell_type": "code",
   "execution_count": 53,
   "metadata": {},
   "outputs": [
    {
     "name": "stdout",
     "output_type": "stream",
     "text": [
      "test loss: 0.6796762347221375\n",
      "test accuracy: 0.567520022392273\n"
     ]
    }
   ],
   "source": [
    "print(\"test loss:\", score[0])\n",
    "print(\"test accuracy:\", score[1])"
   ]
  },
  {
   "cell_type": "code",
   "execution_count": 54,
   "metadata": {},
   "outputs": [
    {
     "data": {
      "image/png": "[encoded data removed]",
      "text/plain": [
       "<Figure size 432x288 with 1 Axes>"
      ]
     },
     "metadata": {
      "needs_background": "light"
     },
     "output_type": "display_data"
    },
    {
     "data": {
      "image/png": "[encoded data removed]",
      "text/plain": [
       "<Figure size 432x288 with 1 Axes>"
      ]
     },
     "metadata": {
      "needs_background": "light"
     },
     "output_type": "display_data"
    }
   ],
   "source": [
    "plotResults(history)"
   ]
  },
  {
   "cell_type": "code",
   "execution_count": 55,
   "metadata": {},
   "outputs": [
    {
     "name": "stdout",
     "output_type": "stream",
     "text": [
      "saved model to disk as results/02_model.json results/02_model.h5\n"
     ]
    }
   ],
   "source": [
    "model2 = handle_model(model2,True)"
   ]
  },
  {
   "cell_type": "markdown",
   "metadata": {},
   "source": [
    "# Task: Replace 100 d model with 300 d model for embedding (2 points)\n",
    "\n",
    "Try better embedding model with 300 dimensions instead of the 100 dimension model. Load the different Glove weights, update the vector matrix for the embedding layer and the model structure for the better Glove model.\n"
   ]
  },
  {
   "cell_type": "code",
   "execution_count": 56,
   "metadata": {},
   "outputs": [],
   "source": [
    "gloveData = gloveExtractionFolder + '/' + 'glove.6B.300d.txt'\n",
    "gloveDims = 300\n",
    "# Load glove embeddings into memory¶\n",
    "embeddings_dictionary = dict()\n",
    "glove_file = open(gloveData, encoding=\"utf8\")\n",
    "for line in glove_file:\n",
    "    records = line.split()\n",
    "    word = records[0]\n",
    "    vector_dimensions = np.asarray(records[1:], dtype='float32')\n",
    "    embeddings_dictionary [word] = vector_dimensions\n",
    "glove_file.close()"
   ]
  },
  {
   "cell_type": "code",
   "execution_count": 57,
   "metadata": {},
   "outputs": [
    {
     "name": "stdout",
     "output_type": "stream",
     "text": [
      "300\n"
     ]
    }
   ],
   "source": [
    "print(len(embeddings_dictionary['the']))"
   ]
  },
  {
   "cell_type": "code",
   "execution_count": 58,
   "metadata": {},
   "outputs": [
    {
     "name": "stdout",
     "output_type": "stream",
     "text": [
      "(73530, 300)\n"
     ]
    }
   ],
   "source": [
    "embedding_matrix = np.zeros((vocab_size, gloveDims))\n",
    "print(embedding_matrix.shape)"
   ]
  },
  {
   "cell_type": "code",
   "execution_count": 59,
   "metadata": {},
   "outputs": [
    {
     "name": "stdout",
     "output_type": "stream",
     "text": [
      "(73530, 300)\n"
     ]
    }
   ],
   "source": [
    "embedding_matrix = np.zeros((vocab_size, gloveDims))\n",
    "for word, index in tokenizer.word_index.items():\n",
    "    #print(word)\n",
    "    embedding_vector = embeddings_dictionary.get(word)\n",
    "    if embedding_vector is not None:\n",
    "        embedding_matrix[index] = embedding_vector\n",
    "print(embedding_matrix.shape)"
   ]
  },
  {
   "cell_type": "code",
   "execution_count": 60,
   "metadata": {},
   "outputs": [
    {
     "name": "stdout",
     "output_type": "stream",
     "text": [
      "bunce\n",
      "[ 1.3501e-01 -1.7517e-01  3.6520e-02 -2.6235e-01  7.2266e-01 -3.0024e-01\n",
      "  6.8729e-01 -1.2613e+00 -5.2422e-01  9.8401e-01 -7.0042e-01 -1.1558e-01\n",
      "  2.6986e-01  1.8592e-01 -1.2168e+00  5.6524e-01 -3.5150e-01 -5.2304e-01\n",
      " -1.6346e-03 -2.1727e-01  5.2181e-01  5.3737e-01  3.8513e-01 -4.4655e-01\n",
      " -1.7110e-01  1.8429e-01 -3.0456e-01 -4.5293e-01  1.3755e-01  5.9599e-01\n",
      " -1.4282e-01 -2.1288e-01 -2.0363e-01  1.4206e-01  3.9497e-01 -3.7838e-01\n",
      "  7.9835e-01  1.6295e-01  5.2441e-01 -1.8937e-01 -2.2108e-01  4.4372e-01\n",
      " -8.3679e-01 -5.1871e-01  4.7485e-02 -1.8226e-01  1.3564e-02  1.9703e-01\n",
      " -5.5892e-01  1.1873e-01 -5.4816e-01 -4.4645e-01  2.5479e-01 -2.8014e-01\n",
      " -2.0830e-01  2.8575e-01 -7.7840e-01  1.5351e-01 -6.8798e-01 -1.4916e-02\n",
      " -3.5852e-01 -6.5521e-01 -7.6588e-01 -5.7129e-01  3.8436e-01 -6.8971e-03\n",
      " -3.9971e-01 -1.1640e-01 -3.1290e-01 -3.2968e-01 -2.5126e-01  4.8049e-01\n",
      " -4.6760e-01 -2.4556e-01  7.6622e-02 -1.4414e-01 -1.6654e-01 -5.4828e-02\n",
      "  2.4019e-01 -3.4439e-01  3.8857e-01 -5.5296e-01  1.4131e-01 -1.4013e-01\n",
      " -3.5626e-01  1.3509e-01  7.5286e-01 -4.9363e-02  4.6976e-01 -2.7527e-01\n",
      " -7.0142e-01 -5.2649e-01  1.8393e-01 -1.6327e-01 -1.8497e-01 -8.5638e-01\n",
      "  7.6781e-01 -3.0216e-01 -4.0040e-02 -1.4126e-01  5.6644e-02 -2.6365e-01\n",
      "  1.2343e-01 -2.3032e-01 -7.0905e-01 -3.1859e-01 -2.9018e-01 -9.9049e-02\n",
      "  1.8839e-01  5.7830e-01  3.3422e-01  5.8460e-02  5.6726e-01  1.1528e-01\n",
      " -1.6661e-01 -9.4184e-02  5.0774e-01  3.2789e-01 -2.0254e-01 -8.6420e-02\n",
      " -2.5747e-01  3.7118e-02 -2.6361e-01 -8.9283e-01 -2.3560e-01 -3.8859e-01\n",
      "  1.6356e-01  4.2450e-02 -3.3005e-01  2.6389e-01 -2.4681e-01 -1.5354e-02\n",
      " -1.9387e-01 -5.7595e-01  1.8760e-01 -4.5883e-01 -1.9898e-01 -1.0318e-01\n",
      " -3.2714e-01 -1.3764e+00  5.5758e-01 -6.9139e-02  5.3277e-01 -8.4749e-02\n",
      "  2.7619e-01 -1.1332e-02 -5.2029e-02  2.9329e-01  8.2941e-01 -2.9817e-01\n",
      " -4.7188e-01  3.4837e-01 -2.7354e-01  7.0149e-01 -4.0259e-01  1.7560e-01\n",
      " -1.1794e-02 -6.4507e-01 -7.0416e-02  5.0876e-01 -4.6452e-02 -1.5769e+00\n",
      "  5.4088e-01 -3.7891e-01 -2.0505e-01 -4.1333e-01 -3.1281e-01 -7.6796e-02\n",
      " -7.4312e-04 -4.4809e-01  1.6123e-01  1.1323e-02  7.9217e-02 -2.3651e-02\n",
      "  3.2210e-01 -3.6962e-01  2.2024e-01  1.3970e-01  5.5073e-01 -3.2309e-01\n",
      " -2.2973e-01  1.0542e+00 -7.1609e-02 -2.3096e-01 -9.5433e-01  4.9338e-02\n",
      " -7.9340e-02 -2.5889e-01 -3.8267e-01  1.5340e-01  1.5058e-01 -5.9071e-02\n",
      "  2.2659e-01  7.0908e-01  4.8162e-01  8.1063e-01  4.0584e-02  1.1896e-01\n",
      " -8.6303e-01 -4.4999e-01 -1.8058e-01 -3.6329e-02 -3.1697e-01 -7.7093e-03\n",
      " -6.7139e-01  3.3291e-01  3.9460e-01  2.1933e-01  4.8789e-01 -3.7301e-02\n",
      " -1.9594e-01 -1.5785e-01 -5.3846e-01  1.2024e+00  3.1967e-03 -4.0727e-01\n",
      " -5.1700e-01 -1.2840e-02 -4.3661e-01  4.6352e-01  7.4431e-03  3.4280e-01\n",
      "  2.0666e-01 -5.9118e-01 -4.7340e-01 -1.7706e-01  4.4142e-01 -1.9264e-01\n",
      " -4.9454e-03 -3.9836e-01 -4.4384e-01 -1.9953e-01 -2.7103e-01  2.4297e-01\n",
      " -1.2181e-01  7.3720e-01 -1.4357e-01  5.6869e-01 -5.3386e-02  1.7979e-01\n",
      " -2.8271e-01 -6.7822e-02 -6.8596e-01 -5.4234e-01 -2.1873e-01  3.7220e-01\n",
      "  2.8085e-01 -1.4766e-01 -4.6149e-01 -1.1433e-03  6.7739e-01  3.5272e-01\n",
      " -5.0630e-01  1.9114e-01 -4.8067e-01  5.2749e-01  3.9195e-01  3.5246e-01\n",
      "  5.2166e-01  5.6915e-02 -5.2205e-01  4.1036e-01  3.9395e-01 -6.9273e-02\n",
      "  2.8856e-01 -1.6368e-01  4.1232e-02  3.9605e-03  2.0808e-01  5.7643e-01\n",
      " -4.9519e-01 -7.2971e-02  9.0486e-01 -3.5178e-01 -4.7818e-01  3.1834e-02\n",
      "  9.6194e-01  2.8920e-01  1.1223e-01  5.8700e-01 -7.9252e-02  2.2784e-01\n",
      "  8.9852e-02 -6.6543e-01 -1.0998e-01 -7.3279e-01  1.5214e-01  2.2600e-01\n",
      "  5.3425e-05 -3.8573e-01 -3.7749e-01  3.0295e-01 -1.5522e-01  1.5358e-01\n",
      " -1.7677e-01 -5.9476e-02 -9.1720e-03  1.7930e-01  8.7363e-01 -1.9836e-02]\n",
      "savannah\n",
      "[-3.0028e-01 -9.4630e-02  9.1730e-02 -1.8621e-01 -1.0950e-01  3.6043e-01\n",
      "  5.1152e-01  1.3653e-01  3.0311e-01  5.2497e-01  3.7938e-01 -6.6170e-02\n",
      " -5.8622e-02  2.7107e-03  5.3172e-02  3.3380e-02 -8.0338e-02 -2.9293e-01\n",
      "  1.3161e-01  2.5257e-01 -6.1276e-02  6.6992e-02  1.2358e-02 -2.3047e-02\n",
      " -4.4378e-01 -3.5131e-01 -3.3982e-01 -7.7971e-02 -3.2636e-01  2.8883e-01\n",
      "  5.5316e-02  3.1712e-01 -1.4061e-01  2.2432e-01  3.4986e-01  6.1233e-01\n",
      " -3.7515e-01  5.9133e-01 -1.3059e-01 -3.6276e-01 -5.0387e-01  7.8283e-02\n",
      " -1.8013e-01  2.5843e-01  2.3498e-01 -1.3185e-01  4.2358e-01  7.9143e-02\n",
      " -1.0254e-01  1.7129e-01  3.9511e-01 -1.2059e-02 -1.9778e-01 -2.3119e-01\n",
      " -2.4518e-01  3.1749e-01  1.8816e-01 -4.8847e-02  5.8714e-01 -1.1834e-01\n",
      "  2.1447e-01  1.0652e-01  8.1094e-01  3.8613e-01 -1.3692e-01 -1.9318e-01\n",
      "  4.5303e-01  1.1310e-01 -4.8835e-02 -7.0313e-01  7.8175e-02 -2.1995e-01\n",
      "  1.3885e-01 -2.9288e-01 -6.8005e-01  8.6962e-02 -4.3118e-01  4.0852e-01\n",
      "  2.7370e-01 -5.2967e-02 -2.0444e-01 -3.2407e-03 -3.6998e-02 -6.6167e-01\n",
      " -2.4898e-01  1.5831e-01 -2.8015e-01 -5.6195e-02  3.9376e-01 -1.1289e-01\n",
      " -1.6581e-01 -1.9075e-01  3.0449e-01  2.8197e-01 -7.0597e-02 -2.1495e-01\n",
      "  6.3601e-01  3.0050e-01 -1.8364e-01 -2.3717e-01 -4.0194e-01  3.9674e-01\n",
      "  3.1514e-01  5.6486e-01  7.4740e-03 -5.0383e-01 -5.0757e-02 -3.6052e-02\n",
      " -2.7935e-01  2.8294e-01  1.5381e-01 -9.3185e-02 -3.4744e-01 -1.8067e-01\n",
      " -3.6928e-01 -4.6724e-01  3.1467e-01  4.5208e-01  1.9349e-01  7.9671e-01\n",
      " -5.1642e-03  1.9525e-01 -5.6527e-02  1.8677e-01  4.7594e-04  1.4358e-01\n",
      "  8.5461e-02 -1.7069e-01  1.9535e-01  5.1987e-02  4.4378e-02 -4.2650e-01\n",
      "  1.1789e-01 -4.2105e-01 -1.7945e-01 -5.2164e-01 -3.4228e-02 -1.9871e-01\n",
      " -1.5965e-01  4.2222e-02  1.9920e-01 -4.5560e-02  1.8551e-01 -1.3881e-01\n",
      " -2.7552e-01 -9.2622e-02 -2.9336e-01  8.3623e-02 -7.3920e-01  6.8150e-02\n",
      "  2.9761e-01 -3.6880e-01  2.0995e-01 -1.0853e-01  4.9624e-01  2.6838e-01\n",
      " -1.6306e-01 -2.0203e-01  6.0118e-01  1.8684e-01 -1.4273e-01  4.5396e-02\n",
      "  2.2520e-01  2.4549e-01 -5.8859e-01 -8.5315e-01  5.6565e-01 -2.7469e-01\n",
      " -1.0653e-01  1.2229e-01 -1.8805e-01 -2.3765e-01 -2.3396e-01  7.0132e-01\n",
      "  1.8853e-01  1.5989e-01 -1.7882e-01 -3.9706e-01 -5.5624e-02 -5.3827e-02\n",
      " -1.4910e-01  3.1863e-01 -1.7663e-01 -3.2601e-01 -6.5593e-03  3.7985e-01\n",
      "  3.7266e-01  1.8638e-01 -1.2885e-01  7.7168e-03 -2.6588e-01  1.0512e-01\n",
      " -6.6741e-01 -4.0909e-01  4.3802e-01  1.4215e-01  2.3709e-01 -5.0219e-01\n",
      " -1.8827e-01  2.5654e-01  5.6820e-01 -7.5862e-01 -5.4007e-02  1.4065e-01\n",
      " -6.9464e-02 -8.8239e-01 -1.5719e-01  3.2647e-01  3.2298e-01 -2.4884e-01\n",
      "  2.5740e-01  2.6806e-01 -4.4536e-01 -2.7503e-01  5.4610e-02  3.3791e-01\n",
      "  4.7341e-01  1.1284e-01 -3.5488e-01 -9.4710e-01  6.2623e-01 -7.9405e-02\n",
      "  4.2437e-02 -4.9346e-01 -4.3274e-01 -2.8014e-01  2.3390e-01 -5.1771e-01\n",
      "  3.2457e-01  9.8478e-03  3.3497e-01 -5.2042e-02  6.0659e-02 -6.9266e-02\n",
      "  7.5235e-02 -3.3738e-01 -2.5203e-01 -5.2427e-01 -1.5283e-02  5.5750e-02\n",
      " -3.3100e-01 -2.0189e-01 -1.4183e-01 -3.0983e-01 -3.0085e-01  2.4266e-02\n",
      " -6.1490e-02  1.9713e-01  3.7001e-02  3.6356e-02 -2.1584e-02  2.4563e-01\n",
      "  4.9134e-02  7.3774e-02  4.3832e-01 -1.6814e-01 -2.4977e-02 -7.0625e-02\n",
      "  1.0489e+00 -2.1570e-01  2.2794e-01  2.3518e-01 -6.8400e-01 -4.2525e-01\n",
      " -1.1393e-02  1.0435e-01  3.3304e-01 -9.2384e-02 -2.4908e-02  5.4759e-01\n",
      "  4.9081e-01  1.1289e-01 -2.8456e-02  3.4010e-01  1.6161e-01 -1.8602e-01\n",
      " -1.0196e-01  5.2446e-01 -1.7127e-01  8.1039e-01 -6.1855e-01  8.6052e-02\n",
      "  1.4156e-01 -1.5095e-01 -8.6923e-02  2.1467e-01 -2.0756e-01 -7.5590e-01\n",
      " -2.6141e-01 -3.8414e-01  5.1476e-01 -2.2482e-01 -1.5137e-01 -1.5099e-01\n",
      " -5.3581e-01  3.2746e-01  1.2438e-01  4.5667e-01  4.1452e-02  3.6326e-01]\n",
      "disquiet\n",
      "[-0.024651  -0.20835    0.68925    0.090021  -0.25793   -0.14333\n",
      " -0.054279  -0.33022   -0.08857   -0.15434   -0.35356    0.7921\n",
      " -0.64486    0.056801   0.23721    0.21904   -0.16994    0.1614\n",
      " -0.13273    0.48112    0.53106   -0.16924   -0.025138  -0.35874\n",
      " -0.24666    0.37564    0.27899    0.69493    0.27413    0.86613\n",
      " -0.26737    0.18886   -0.76005    0.35645    0.51472    0.14863\n",
      " -0.79218    0.021682  -0.18946    0.19413    0.17883    0.07082\n",
      "  0.17671   -0.11308    0.29288   -0.1411     0.23765   -0.26005\n",
      " -0.62861   -0.11354   -0.10733   -0.32067   -0.48373   -0.22533\n",
      "  0.52416   -0.53114   -0.068521   0.37564    0.17446    0.59115\n",
      " -0.011818  -0.21603   -0.0036915 -0.088893  -0.70813   -0.27937\n",
      "  0.48411   -0.075923  -0.27785   -0.041741  -0.22335   -0.052675\n",
      "  0.63907   -0.31501    0.13501    0.26856   -0.26201   -0.027529\n",
      " -0.83374   -0.18304   -0.33692   -0.53738    0.12543   -0.19182\n",
      "  0.03364   -0.27705    0.40368   -0.16087    0.46415   -0.29382\n",
      "  0.24042   -0.13406   -0.14852    0.016445  -0.32215   -0.4714\n",
      "  0.30761    0.3662    -0.3938     0.29563    0.06026   -0.079195\n",
      " -0.32532   -0.012063  -0.43248    0.49098    0.062762   0.072593\n",
      "  0.24782    0.23783   -0.23588   -0.31543    0.054852  -0.10228\n",
      "  0.19208   -0.0022229  0.037048   0.35515   -0.13558   -0.9257\n",
      " -0.032578  -0.15142    0.27097    0.44143   -0.19087    0.1378\n",
      " -0.67945    0.34152   -0.0055693  0.060274   0.12893   -0.1894\n",
      " -0.14718    0.3816    -0.34744   -0.11002   -0.5583    -0.031433\n",
      " -0.085787   0.13633   -0.39666    0.19032    0.44375    0.43333\n",
      "  0.58918   -0.79558    0.35315   -0.47445   -0.26506    0.089035\n",
      " -0.49735    0.21614    0.41955    0.5406    -0.24605    0.40091\n",
      "  0.25912    0.32851   -0.012011  -0.40386   -0.047211   0.40003\n",
      " -0.11294    0.28842    0.32343    0.11471   -0.096965  -0.061453\n",
      " -0.31371   -0.46659   -0.028381  -0.13908    0.037786  -0.97553\n",
      " -0.30446    0.24351   -0.023821  -0.056508   0.35089    0.73004\n",
      " -0.40494   -0.089814   0.18693   -0.3796    -0.23133    0.22841\n",
      "  0.18596    0.3372     0.049308   0.055239  -0.57433   -0.74587\n",
      " -0.17259   -0.24307   -0.27873    0.17357   -0.12129   -0.12581\n",
      " -0.16964    0.032638  -0.63817    0.48326   -0.12213   -0.27769\n",
      "  0.59865    0.14763    0.20551    0.15186   -0.083269   0.056313\n",
      "  0.42723    0.23013    0.78012   -0.069863  -0.34084   -0.52243\n",
      "  0.31363   -0.020402   0.026165   0.42856   -0.31646   -0.29513\n",
      "  0.0022561  0.051183   0.13719    0.4451    -0.39706    0.1439\n",
      " -0.055001  -0.22925    0.20338   -0.013361   0.12838    0.10412\n",
      "  0.24449   -0.027209   0.5785     0.23565   -0.45735   -0.13608\n",
      " -0.0019954  0.018767  -0.44631    0.10161    0.030458   0.047626\n",
      "  0.0957     0.25439    0.16899   -0.0050124  0.24228    0.17545\n",
      "  0.67951    0.016584  -0.27582    0.044611  -0.061735   0.44586\n",
      " -0.077159  -0.16045    0.24452   -0.012869   0.20931    0.074714\n",
      " -0.12399    0.075891  -0.071263   0.093388  -0.14045    0.15164\n",
      "  0.038578   0.081207  -0.04735   -0.056692   0.3101    -0.21453\n",
      "  0.77847    0.49966    0.94425    0.17139   -0.028916   0.48798\n",
      " -0.5338     0.4071     0.42622   -0.87882   -0.254     -0.0055121\n",
      "  0.92982   -0.23526   -0.12188   -0.025039   0.38716    0.064332\n",
      " -0.36163   -0.44246   -0.090385   0.082199  -0.16245   -0.76818  ]\n"
     ]
    }
   ],
   "source": [
    "someNumber = 3\n",
    "printVector(someNumber)"
   ]
  },
  {
   "cell_type": "code",
   "execution_count": 61,
   "metadata": {},
   "outputs": [
    {
     "name": "stdout",
     "output_type": "stream",
     "text": [
      "Model: \"sequential_2\"\n",
      "_________________________________________________________________\n",
      "Layer (type)                 Output Shape              Param #   \n",
      "=================================================================\n",
      "embedding_2 (Embedding)      (None, 226, 300)          22059000  \n",
      "_________________________________________________________________\n",
      "lstm_1 (LSTM)                (None, 128)               219648    \n",
      "_________________________________________________________________\n",
      "dense_3 (Dense)              (None, 1)                 129       \n",
      "=================================================================\n",
      "Total params: 22,278,777\n",
      "Trainable params: 219,777\n",
      "Non-trainable params: 22,059,000\n",
      "_________________________________________________________________\n",
      "None\n"
     ]
    }
   ],
   "source": [
    "# direkt ins LSTM, das BASIS-NN überspringe ich\n",
    "model3 = createLSTMModel()\n",
    "model3.compile(optimizer='adam', loss='binary_crossentropy', metrics=['acc'])\n",
    "print(model3.summary())"
   ]
  },
  {
   "cell_type": "code",
   "execution_count": 62,
   "metadata": {},
   "outputs": [
    {
     "name": "stdout",
     "output_type": "stream",
     "text": [
      "Epoch 1/3\n",
      "157/157 [==============================] - 707s 5s/step - loss: 0.6412 - acc: 0.6453 - val_loss: 1.1389 - val_acc: 0.1000\n",
      "Epoch 2/3\n",
      "157/157 [==============================] - 822s 5s/step - loss: 0.6342 - acc: 0.6600 - val_loss: 0.8077 - val_acc: 0.2772\n",
      "Epoch 3/3\n",
      "157/157 [==============================] - 1082s 7s/step - loss: 0.6460 - acc: 0.6454 - val_loss: 1.4610 - val_acc: 0.0000e+00\n",
      "782/782 [==============================] - 305s 390ms/step - loss: 0.8709 - acc: 0.5000\n"
     ]
    }
   ],
   "source": [
    "history_300d = model3.fit(x_train_v, y_train, batch_size=128, epochs=3, verbose=1, validation_split=0.2)\n",
    "score_300d = model3.evaluate(x_test_v, y_test, verbose=1)"
   ]
  },
  {
   "cell_type": "code",
   "execution_count": 63,
   "metadata": {},
   "outputs": [
    {
     "name": "stdout",
     "output_type": "stream",
     "text": [
      "test loss: 0.8709225654602051\n",
      "test accuracy: 0.5\n"
     ]
    }
   ],
   "source": [
    "print(\"test loss:\", score_300d[0])\n",
    "print(\"test accuracy:\", score_300d[1])"
   ]
  },
  {
   "cell_type": "code",
   "execution_count": 64,
   "metadata": {},
   "outputs": [
    {
     "data": {
      "image/png": "[encoded data removed]",
      "text/plain": [
       "<Figure size 432x288 with 1 Axes>"
      ]
     },
     "metadata": {
      "needs_background": "light"
     },
     "output_type": "display_data"
    },
    {
     "data": {
      "image/png": "[encoded data removed]",
      "text/plain": [
       "<Figure size 432x288 with 1 Axes>"
      ]
     },
     "metadata": {
      "needs_background": "light"
     },
     "output_type": "display_data"
    }
   ],
   "source": [
    "plotResults(history_300d)"
   ]
  },
  {
   "cell_type": "markdown",
   "metadata": {},
   "source": [
    "# Task: Replace Glove model with BERT model vectors (2 points)\n",
    "\n",
    "Try to replace Glove with a BERT model. This is no easy task. Research the internet for tutorials about this goal and write down all changes you would need to implement for this change (concept only, implementation optional).\n",
    "\n",
    "\n",
    "[LINK Basic TUtorial](https://towardsdatascience.com/bert-text-classification-in-3-lines-of-code-using-keras-264db7e7a358)\n",
    "\n"
   ]
  },
  {
   "cell_type": "code",
   "execution_count": null,
   "metadata": {},
   "outputs": [],
   "source": [
    "import matplotlib"
   ]
  },
  {
   "cell_type": "code",
   "execution_count": null,
   "metadata": {},
   "outputs": [],
   "source": [
    "import ktrain\n",
    "from ktrain import text"
   ]
  },
  {
   "cell_type": "markdown",
   "metadata": {},
   "source": [
    "# Test with your own data"
   ]
  },
  {
   "cell_type": "code",
   "execution_count": 66,
   "metadata": {
    "scrolled": true
   },
   "outputs": [
    {
     "name": "stdout",
     "output_type": "stream",
     "text": [
      "From time to time it very advisable for the aristocracy to watch some silent film about the harsh life of the common people in order to remind themselves of the privileges and the comfortable life that they have enjoyed since the beginning of mankind or even before in comparison with the complicated and hard work that common people have to endure everyday since the aristocrats rule the world br br And that what happens in The Love Light the first film directed by Dame France Marion who will be famous afterwards in the silent and talkie world thanks overall to her work as screenwriter better for her certainly because her career as film director doesn impress this German count br br The film tells the story of Dame Angela Carlotti Dame Mary Pickford merry Italian girl who lives surrounded by picturesque squalor an important difference of opinion between upper and low classes aristocrats prefers to live surrounded by picturesque luxury she has two brothers and secret admirer but all she gives him in return is indifference Destiny begins to work hard and pretty soon war is declared and Dame Angela two brothers enlist and in the next reel both are dead But destiny is even crueller and Dame Angela meanwhile falls in love with German And to make things worse she doesn know that her Teutonic sweetie is spy and that the light signals that she sends to him every night from the lighthouse she maintains thinking that is love signal don mean Ich Liebe Dich but Sink Any Damn Italian Boat At Sea br br Fortunately for Dame Angela pretty soon her sweetie German spy will be found by the neighbours in her house in which she was hiding him not strange fact indeed because it is not an easy task for German to go unnoticed but the German spy will prefer to die before being captured by those Italians br br From that German love half Teutonic baby will born the wicked Destiny at full speed but greedy neighbour who has particular idea of motherhood will carry away her son with the consent of Catholic nun who has taken the Council of Trent to extremes fact that will put Dame Angela at the verge of insanity br br But meanwhile Dame Angela secret admirer has returned from the war and you can think that finally Dame Angela sorrowful life will improve tremendous mistake because Destiny has in store for her that the returned soldier is blind But as they say in Germany it may be blessing in disguise and finally Dame Angela will recover her son and will start new life with her blind sweetie in poor Italian village in what it is supposed to be happy ending for the common people br br As this German count said before it was much better for Dame Frances Marion that she continued her career as screenwriter because as can be seen in The Love Light she had lot of imagination to invent incredible stories ja wohl but completely different subject is to direct films and her silent debut lacks emotion and rhythm in spite of the effort of Dame Pickford to involve the audience with her many disgraces The nonexistent film narrative causes indifference in the spectator making this the kind of film where only Dame Pickford herself provides the interest and not her circumstances br br And now if you ll allow me must temporarily take my leave because this German Count must send Morse signals from the Schloss north tower to one of his Teutonic rich heiress \n"
     ]
    }
   ],
   "source": [
    "instance = x_test_clean[56]\n",
    "print(instance)"
   ]
  },
  {
   "cell_type": "code",
   "execution_count": 67,
   "metadata": {},
   "outputs": [],
   "source": [
    "def sentiment(text):\n",
    "    \n",
    "    instance = tokenizer.texts_to_sequences(text)\n",
    "    flat_list = []\n",
    "    for sublist in instance:\n",
    "        for item in sublist:\n",
    "            flat_list.append(item)\n",
    "\n",
    "    flat_list = [flat_list]\n",
    "    instance = pad_sequences(flat_list, padding='post', maxlen=maxlen)\n",
    "    sentiment = model2.predict(instance)\n",
    "    \n",
    "    comment = 'meh'\n",
    "    if sentiment > 0.85:\n",
    "        comment = 'very good'\n",
    "    elif sentiment > 0.75:\n",
    "        comment = 'good'\n",
    "    elif sentiment > 0.50:\n",
    "        comment = 'moderate'\n",
    "    return sentiment,comment"
   ]
  },
  {
   "cell_type": "code",
   "execution_count": 68,
   "metadata": {},
   "outputs": [
    {
     "name": "stdout",
     "output_type": "stream",
     "text": [
      "(array([[0.36670446]], dtype=float32), 'meh')\n"
     ]
    }
   ],
   "source": [
    "test1 = \"I simply don't like this film.\"\n",
    "print ( sentiment(test1))"
   ]
  },
  {
   "cell_type": "code",
   "execution_count": 69,
   "metadata": {},
   "outputs": [
    {
     "name": "stdout",
     "output_type": "stream",
     "text": [
      "(array([[0.36670446]], dtype=float32), 'meh')\n"
     ]
    }
   ],
   "source": [
    "test1 = \"I hate this film.\"\n",
    "print ( sentiment(test1))"
   ]
  },
  {
   "cell_type": "code",
   "execution_count": 70,
   "metadata": {},
   "outputs": [
    {
     "name": "stdout",
     "output_type": "stream",
     "text": [
      "(array([[0.36670446]], dtype=float32), 'meh')\n"
     ]
    }
   ],
   "source": [
    "test1 = \"I love this film.\"\n",
    "print ( sentiment(test1))"
   ]
  },
  {
   "cell_type": "code",
   "execution_count": 71,
   "metadata": {},
   "outputs": [
    {
     "name": "stdout",
     "output_type": "stream",
     "text": [
      "(array([[0.44983158]], dtype=float32), 'meh')\n"
     ]
    }
   ],
   "source": [
    "test1 = x_test_clean[13000]\n",
    "print ( sentiment(test1))"
   ]
  },
  {
   "cell_type": "code",
   "execution_count": null,
   "metadata": {},
   "outputs": [],
   "source": [
    "tend = datetime.now()\n",
    "print(tend)\n",
    "print(\"Der Lauf des gesamten Notebooks dauert: \" + str(tend-tstart))"
   ]
  }
 ],
 "metadata": {
  "kernelspec": {
   "display_name": "Python 3",
   "language": "python",
   "name": "python3"
  },
  "language_info": {
   "codemirror_mode": {
    "name": "ipython",
    "version": 3
   },
   "file_extension": ".py",
   "mimetype": "text/x-python",
   "name": "python",
   "nbconvert_exporter": "python",
   "pygments_lexer": "ipython3",
   "version": "3.8.5"
  },
  "toc": {
   "base_numbering": 1,
   "nav_menu": {},
   "number_sections": true,
   "sideBar": true,
   "skip_h1_title": false,
   "title_cell": "Table of Contents",
   "title_sidebar": "Contents",
   "toc_cell": false,
   "toc_position": {},
   "toc_section_display": true,
   "toc_window_display": false
  }
 },
 "nbformat": 4,
 "nbformat_minor": 4
}
