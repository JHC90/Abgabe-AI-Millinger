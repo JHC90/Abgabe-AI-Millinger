{
 "cells": [
  {
   "cell_type": "markdown",
   "metadata": {},
   "source": [
    "<img src=\"header.png\" align=\"left\"/>"
   ]
  },
  {
   "cell_type": "markdown",
   "metadata": {},
   "source": [
    "# Exercise Sentiment Classification (10 points)\n",
    "\n",
    "The goal of this example is to classify movie reviews as positive or negative sentiments. This can be used to classify for example social media postings.\n",
    "\n",
    "Parts of the example are taken from [1]. The code used the Glove model [2].\n",
    "\n",
    "- [1] [https://stackabuse.com/python-for-nlp-movie-sentiment-analysis-using-deep-learning-in-keras/](https://stackabuse.com/python-for-nlp-movie-sentiment-analysis-using-deep-learning-in-keras/)\n",
    "- [2] [https://nlp.stanford.edu/pubs/glove.pdf](https://nlp.stanford.edu/pubs/glove.pdf)\n",
    "\n",
    "\n",
    "Citation GloVe [4] and dataset [5]:\n",
    "```\n",
    "[4] Jeffrey Pennington, Richard Socher, and Christopher D. Manning. 2014. GloVe: Global Vectors for Word Representation.\n",
    "\n",
    "[5] Maas, Andrew L.  and  Daly, Raymond E.  and  Pham, Peter T.  and  Huang, Dan  and  Ng, Andrew Y.  and  Potts, Christopher, Learning Word Vectors for Sentiment Analysis, Proceedings of the 49th Annual Meeting of the Association for Computational Linguistics: Human Language Technologies, June 2011, Portland, Oregon, USA, Association for Computational Linguistics, http://www.aclweb.org/anthology/P11-1015\n",
    "\n",
    "```\n",
    "\n",
    "**NOTE**\n",
    "\n",
    "Document your results by simply adding a markdown cell or a python cell (as comment) and writing your statements into this cell. For some tasks the result cell is already available.\n"
   ]
  },
  {
   "cell_type": "code",
   "execution_count": 1,
   "metadata": {},
   "outputs": [],
   "source": [
    "BasicNNEpochen = 50\n",
    "ImprovedModel = 25\n",
    "improved300epochen = 25"
   ]
  },
  {
   "cell_type": "code",
   "execution_count": 2,
   "metadata": {},
   "outputs": [],
   "source": [
    "# Zeitmessung für die gesammte Notebook-Ausführung\n",
    "from datetime import datetime # für den TimeStamp\n",
    "tstart = datetime.now()"
   ]
  },
  {
   "cell_type": "markdown",
   "metadata": {},
   "source": [
    "'''\n",
    "Versuch TF GPU auf meinem HP 8570w laufen zu lassen. Derzeit ist eine \"NVIDIA QUADRO K2000M\" verbaut\n",
    "**Installation Notes GPU**\n",
    "[Link](https://towardsdatascience.com/installing-tensorflow-with-cuda-cudnn-and-gpu-support-on-windows-10-60693e46e781)\n",
    "\n",
    "1) [Install  Visual Studio 2019 Community](https://visualstudio.microsoft.com/de/thank-you-downloading-visual-studio/?sku=Community&rel=16)<br>\n",
    "Bei der Installation benötigt es keine Workloads, sprich 750 mb reichen\n",
    "\n",
    "2) [Install Cuda-Toolkit](https://developer.nvidia.com/cuda-downloads?target_os=Windows&target_arch=x86_64&target_version=10&target_type=exenetwork)<br>\n",
    "ich habe version cuda 11.0 heruntergeladen\n",
    "\n",
    "3) [Download & install CUDNN==11.0](https://developer.nvidia.com/rdp/cudnn-download)<br>\n",
    "die Credentials sind entpsrechend hinterlegt\n",
    "\n",
    "\n",
    "'''''"
   ]
  },
  {
   "cell_type": "markdown",
   "metadata": {},
   "source": [
    "# Import of Modules"
   ]
  },
  {
   "cell_type": "code",
   "execution_count": 3,
   "metadata": {},
   "outputs": [],
   "source": [
    "#!pip install nltk\n",
    "#\n",
    "# Import of modules\n",
    "#\n",
    "import os\n",
    "import re\n",
    "import string\n",
    "from urllib.request import urlretrieve\n",
    "import tarfile\n",
    "import zipfile\n",
    "from glob import glob\n",
    "\n",
    "import pandas as pd\n",
    "import numpy as np\n",
    "from numpy import array\n",
    "import matplotlib.pyplot as plt\n",
    "\n",
    "import nltk\n",
    "from nltk.corpus import stopwords\n",
    "\n",
    "from sklearn.linear_model import LogisticRegression\n",
    "from sklearn.feature_extraction.text import CountVectorizer\n",
    "\n",
    "from keras.preprocessing.text import one_hot\n",
    "from keras.preprocessing.sequence import pad_sequences\n",
    "from keras.models import Sequential\n",
    "from keras.layers.core import Activation, Dropout, Dense, SpatialDropout1D\n",
    "from keras.layers import Flatten, LSTM\n",
    "from keras.layers import GlobalMaxPooling1D\n",
    "from keras.layers.embeddings import Embedding\n",
    "from sklearn.model_selection import train_test_split\n",
    "from keras.preprocessing.text import Tokenizer\n",
    "\n",
    "from datetime import datetime # für den TimeStamp\n",
    "\n",
    "import random\n",
    "\n",
    "import re"
   ]
  },
  {
   "cell_type": "code",
   "execution_count": 4,
   "metadata": {},
   "outputs": [],
   "source": [
    "#\n",
    "# Turn off error messages\n",
    "#\n",
    "from warnings import simplefilter\n",
    "# ignore all future warnings\n",
    "simplefilter(action='ignore', category=FutureWarning)\n",
    "simplefilter(action='ignore', category=Warning)"
   ]
  },
  {
   "cell_type": "code",
   "execution_count": 5,
   "metadata": {},
   "outputs": [
    {
     "name": "stdout",
     "output_type": "stream",
     "text": [
      "2.4.0-dev20200815\n"
     ]
    }
   ],
   "source": [
    "#\n",
    "# GPU support\n",
    "#\n",
    "import tensorflow as tf\n",
    "print ( tf.__version__ ) \n",
    "\n",
    "tf.compat.v1.logging.set_verbosity(tf.compat.v1.logging.ERROR )\n",
    "physical_devices = tf.config.experimental.list_physical_devices('GPU')\n",
    "if len(physical_devices) > 0:\n",
    "    tf.config.experimental.set_memory_growth(physical_devices[0], True)\n",
    "config = tf.compat.v1.ConfigProto()\n",
    "config.gpu_options.allow_growth = True\n",
    "tf.compat.v1.keras.backend.set_session(tf.compat.v1.Session(config=config))"
   ]
  },
  {
   "cell_type": "markdown",
   "metadata": {},
   "source": [
    "# Constants"
   ]
  },
  {
   "cell_type": "code",
   "execution_count": 6,
   "metadata": {},
   "outputs": [],
   "source": [
    "#\n",
    "# Path and URL constants\n",
    "#\n",
    "urlDataSource = 'http://ai.stanford.edu/~amaas/data/sentiment/aclImdb_v1.tar.gz'\n",
    "localExtractionFolder = 'data/moviereviews'\n",
    "localDataArchive = localExtractionFolder + '/aclImdb_v1.tar.gz'\n",
    "textData = localExtractionFolder + '/aclImdb/'"
   ]
  },
  {
   "cell_type": "markdown",
   "metadata": {},
   "source": [
    "# Support functions"
   ]
  },
  {
   "cell_type": "code",
   "execution_count": 7,
   "metadata": {},
   "outputs": [],
   "source": [
    "#\n",
    "# Load data from URL\n",
    "#\n",
    "def download_dataset(url,dataset_file_path,extraction_directory):\n",
    "    if (not os.path.exists(extraction_directory)):\n",
    "        os.makedirs(extraction_directory)\n",
    "    if os.path.exists(dataset_file_path):\n",
    "        print(\"archive already downloaded.\")\n",
    "    else:\n",
    "        print(\"started loading archive from url {}\".format(url))\n",
    "        filename, headers = urlretrieve(url, dataset_file_path)\n",
    "        print(\"finished loading archive from url {} to {}\".format(url,filename))\n",
    "\n",
    "def extract_dataset(dataset_file_path, extraction_directory):\n",
    "    if (not os.path.exists(extraction_directory)):\n",
    "        os.makedirs(extraction_directory)\n",
    "    if (dataset_file_path.endswith(\"tar.gz\") or dataset_file_path.endswith(\".tgz\")):\n",
    "        tar = tarfile.open(dataset_file_path, \"r:gz\")\n",
    "        tar.extractall(path=extraction_directory)\n",
    "        tar.close()\n",
    "    elif (dataset_file_path.endswith(\"tar\")):\n",
    "        tar = tarfile.open(dataset_file_path, \"r:\")\n",
    "        tar.extractall(path=extraction_directory)\n",
    "        tar.close()\n",
    "    print(\"extraction of dataset from {} to {} done.\".format(dataset_file_path,extraction_directory) )"
   ]
  },
  {
   "cell_type": "markdown",
   "metadata": {},
   "source": [
    "# Load the data"
   ]
  },
  {
   "cell_type": "code",
   "execution_count": 8,
   "metadata": {},
   "outputs": [
    {
     "name": "stdout",
     "output_type": "stream",
     "text": [
      "archive already downloaded.\n"
     ]
    }
   ],
   "source": [
    "#\n",
    "# Download if not already loaded\n",
    "#\n",
    "download_dataset(urlDataSource,localDataArchive,localExtractionFolder)"
   ]
  },
  {
   "cell_type": "raw",
   "metadata": {},
   "source": [
    "#\n",
    "# Extract from archive\n",
    "#\n",
    "extract_dataset(localDataArchive,localExtractionFolder)"
   ]
  },
  {
   "cell_type": "markdown",
   "metadata": {},
   "source": [
    "# How are the files organized on the file system?\n",
    "\n",
    "Take a quick look how the files are organized on the file system.\n",
    "\n",
    "Hier ein visueller Einblick:\n",
    "\n",
    "![Folder-Strucutre](./imgs/MovieReviewsDataFolderStructure.png)\n"
   ]
  },
  {
   "cell_type": "code",
   "execution_count": 9,
   "metadata": {},
   "outputs": [],
   "source": [
    "#\n",
    "# Collect data from the files\n",
    "#\n",
    "def load_texts_labels_from_folders(path, folders):\n",
    "    print('scanning path {}'.format(path))\n",
    "    texts,labels = [],[]\n",
    "    for idx,label in enumerate(folders):\n",
    "        print('scanning {}'.format(idx))\n",
    "        for fname in glob(os.path.join(path, label, '*.*')):\n",
    "            texts.append(open(fname, 'rb').read())\n",
    "            labels.append(idx)\n",
    "    return texts, np.array(labels).astype(np.int8)"
   ]
  },
  {
   "cell_type": "code",
   "execution_count": 10,
   "metadata": {},
   "outputs": [
    {
     "name": "stdout",
     "output_type": "stream",
     "text": [
      "scanning path data/moviereviews/aclImdb/train/\n",
      "scanning 0\n",
      "scanning 1\n",
      "scanning path data/moviereviews/aclImdb/test/\n",
      "scanning 0\n",
      "scanning 1\n",
      "Der Lauf dieses Tasks dauert: 0:03:40.302222\n"
     ]
    }
   ],
   "source": [
    "# # Loading of positive and negative examples\n",
    "#\n",
    "\n",
    "tstart_task = datetime.now()\n",
    "classes = ['neg','pos']\n",
    "x_train,y_train = load_texts_labels_from_folders( textData + 'train/', classes)\n",
    "x_test,y_test = load_texts_labels_from_folders( textData + 'test/', classes)\n",
    "tend_task = datetime.now()\n",
    "print(\"Der Lauf dieses Tasks dauert: \" + str(tend_task-tstart_task))"
   ]
  },
  {
   "cell_type": "markdown",
   "metadata": {},
   "source": [
    "# First checks on the data"
   ]
  },
  {
   "cell_type": "code",
   "execution_count": 11,
   "metadata": {},
   "outputs": [
    {
     "data": {
      "text/plain": [
       "(25000, 25000, 25000, 25000)"
      ]
     },
     "execution_count": 11,
     "metadata": {},
     "output_type": "execute_result"
    }
   ],
   "source": [
    "#\n",
    "# Check shapes of data\n",
    "#\n",
    "len(x_train),len(y_train),len(x_test),len(y_test)"
   ]
  },
  {
   "cell_type": "code",
   "execution_count": 12,
   "metadata": {},
   "outputs": [
    {
     "data": {
      "text/plain": [
       "(list, numpy.ndarray)"
      ]
     },
     "execution_count": 12,
     "metadata": {},
     "output_type": "execute_result"
    }
   ],
   "source": [
    "#\n",
    "# Check data types\n",
    "#\n",
    "(type(x_train),type(y_train))"
   ]
  },
  {
   "cell_type": "code",
   "execution_count": 13,
   "metadata": {},
   "outputs": [
    {
     "data": {
      "text/plain": [
       "array([0, 1], dtype=int8)"
      ]
     },
     "execution_count": 13,
     "metadata": {},
     "output_type": "execute_result"
    }
   ],
   "source": [
    "#\n",
    "# Check classes\n",
    "#\n",
    "np.unique(y_train)"
   ]
  },
  {
   "cell_type": "code",
   "execution_count": 14,
   "metadata": {},
   "outputs": [
    {
     "name": "stdout",
     "output_type": "stream",
     "text": [
      "b\"Story of a man who has unnatural feelings for a pig. Starts out with a opening scene that is a terrific example of absurd comedy. A formal orchestra audience is turned into an insane, violent mob by the crazy chantings of it's singers. Unfortunately it stays absurd the WHOLE time with no general narrative eventually making it just too off putting. Even those from the era should be turned off. The cryptic dialogue would make Shakespeare seem easy to a third grader. On a technical level it's better than you might think with some good cinematography by future great Vilmos Zsigmond. Future stars Sally Kirkland and Frederic Forrest can be seen briefly.\"\n",
      "label 0\n",
      "\n"
     ]
    }
   ],
   "source": [
    "#\n",
    "# Print some negative examples\n",
    "#\n",
    "for index in range (0,1):\n",
    "    print(x_train[index])\n",
    "    print(\"label {}\".format(y_train[index]))\n",
    "    print()"
   ]
  },
  {
   "cell_type": "code",
   "execution_count": 15,
   "metadata": {},
   "outputs": [
    {
     "name": "stdout",
     "output_type": "stream",
     "text": [
      "b'\"Before Sunrise\" is a wonderful love story and has to be among my Top 5 favorite movies ever. Dialog and acting are great. I love the characters and their ideas and thoughts. Of course, the romantic Vienna, introduced in the movie does not exist (you won\\'t find a poet sitting by the river in the middle of the night) and it isn\\'t possible to get to all the places in only one night, either (especially if you\\'re a stranger and it\\'s your first night in Vienna). But that\\'s not the point. The relationship of the two characters is much more important and this part of the story is not at all unrealistic. Although, nothing ever really happens, the movie never gets boring. The ending is genuinely sad without being \"Titanic\" or something. Even if you don\\'t like love stories you should watch this film! I\\'m a little skeptic about the sequel that is going to be released in summer. The first part is perfect as it is, in my opinion.'\n",
      "label 1\n",
      "\n"
     ]
    }
   ],
   "source": [
    "#\n",
    "# Print some positive examples\n",
    "#\n",
    "for index in range (13001,13002):\n",
    "    print(x_train[index])\n",
    "    print(\"label {}\".format(y_train[index]))\n",
    "    print()\n"
   ]
  },
  {
   "cell_type": "markdown",
   "metadata": {},
   "source": [
    "# Task: Clean text (1 points)\n",
    "\n",
    "Write a function called preprocess_text(text) which takes a text piece and **cleans out** the following artifacts:\n",
    "\n",
    "1. html tags, but leave text between tags intact => why the Tag-Content a? href...?...???\n",
    "1. punctuations and numbers => Clear\n",
    "1. single characters => a ,i ... => clear\n",
    "1. multiple white spaces => clear"
   ]
  },
  {
   "cell_type": "code",
   "execution_count": 16,
   "metadata": {},
   "outputs": [],
   "source": [
    "def preprocess_text(sen):\n",
    "    # Transfer into string\n",
    "    sentence = sen.decode(\"utf-8\") # transform byte to string\n",
    "    sentence = re.sub(r\"\\b[a-zA-Z]\\b\", \" \", sentence) #single characters,e.g \"a\", \"I\"\n",
    "    sentence = re.sub(r\"\\d+\", \" \", sentence)\n",
    "    \n",
    "    sentence = re.sub(r'[^\\w\\s]',' ',sentence) #punctuations and numbers && html tags, but leave text between tags intact\n",
    "    #sentence = re.sub(r'[^\\d]','',sentence)\n",
    "    sentence = (re.sub('\\s+',' ',sentence)) #multiple white spaces\n",
    "    return(sentence)"
   ]
  },
  {
   "cell_type": "code",
   "execution_count": 17,
   "metadata": {},
   "outputs": [
    {
     "name": "stdout",
     "output_type": "stream",
     "text": [
      "X-Train-Cleaning\n",
      "0/25000\n",
      "2020-08-22 22:04:05.512986\n",
      "\n",
      "5000/25000\n",
      "2020-08-22 22:04:06.669983\n",
      "\n",
      "10000/25000\n",
      "2020-08-22 22:04:07.807990\n",
      "\n",
      "15000/25000\n",
      "2020-08-22 22:04:08.928984\n",
      "\n",
      "20000/25000\n",
      "2020-08-22 22:04:10.003984\n",
      "\n",
      "X-Test-Cleaning\n",
      "0/25000\n",
      "2020-08-22 22:04:11.062985\n",
      "\n",
      "5000/25000\n",
      "2020-08-22 22:04:12.422984\n",
      "\n",
      "10000/25000\n",
      "2020-08-22 22:04:13.469985\n",
      "\n",
      "15000/25000\n",
      "2020-08-22 22:04:14.536984\n",
      "\n",
      "20000/25000\n",
      "2020-08-22 22:04:15.527984\n",
      "\n"
     ]
    }
   ],
   "source": [
    "#\n",
    "# Clean all texts\n",
    "#\n",
    "\n",
    "x_train_clean = []\n",
    "print(\"X-Train-Cleaning\")\n",
    "j = 0\n",
    "for review in x_train:\n",
    "    if(j%5000 == 0):\n",
    "        tnow = datetime.now()\n",
    "        print(str(j) + \"/\" +str(len(x_train)))\n",
    "        print(tnow)\n",
    "        print()\n",
    "    x_train_clean.append(preprocess_text(review))\n",
    "    j = j+1\n",
    "\n",
    "print(\"X-Test-Cleaning\")\n",
    "j = 0\n",
    "x_test_clean = []\n",
    "for review in x_test:\n",
    "    if(j%5000 == 0):\n",
    "        tnow = datetime.now()\n",
    "        print(str(j) + \"/\" +str(len(x_test)))\n",
    "        print(tnow)\n",
    "        print()\n",
    "    x_test_clean.append(preprocess_text(review))\n",
    "    j = j+1\n",
    "    \n",
    "x_test = x_test_clean\n",
    "x_train = x_train_clean"
   ]
  },
  {
   "cell_type": "code",
   "execution_count": 18,
   "metadata": {},
   "outputs": [],
   "source": [
    "# CHeck x_train, y_train || x_test, y_tets"
   ]
  },
  {
   "cell_type": "markdown",
   "metadata": {},
   "source": [
    "# Find mean text length"
   ]
  },
  {
   "cell_type": "code",
   "execution_count": 19,
   "metadata": {},
   "outputs": [
    {
     "name": "stdout",
     "output_type": "stream",
     "text": [
      "text character length mean 1247.70244\n"
     ]
    },
    {
     "data": {
      "image/png": "[encoded data removed]",
      "text/plain": [
       "<Figure size 432x288 with 1 Axes>"
      ]
     },
     "metadata": {
      "needs_background": "light"
     },
     "output_type": "display_data"
    }
   ],
   "source": [
    "#\n",
    "# Count length of text strings\n",
    "#\n",
    "textLength = []\n",
    "for index in range (0,len(x_train)):\n",
    "    textLength.append(len(x_train[index]))\n",
    "\n",
    "#\n",
    "# Plot histogram\n",
    "#\n",
    "plt.hist(textLength)\n",
    "lengthArray = np.array(textLength)\n",
    "print('text character length mean {}'.format(np.mean(lengthArray)))"
   ]
  },
  {
   "cell_type": "markdown",
   "metadata": {},
   "source": [
    "# Convert words into tokens"
   ]
  },
  {
   "cell_type": "code",
   "execution_count": 20,
   "metadata": {},
   "outputs": [],
   "source": [
    "#\n",
    "# Split text up into tokens\n",
    "#\n",
    "tokenizer = Tokenizer(num_words=10000, lower=True, oov_token='unknwn')\n",
    "#\n",
    "# Train tokenizer\n",
    "#\n",
    "tokenizer.fit_on_texts(x_train)"
   ]
  },
  {
   "cell_type": "code",
   "execution_count": 21,
   "metadata": {},
   "outputs": [],
   "source": [
    "#\n",
    "# Convert words into integer sequences\n",
    "#\n",
    "x_train_v = tokenizer.texts_to_sequences(x_train)\n",
    "x_test_v = tokenizer.texts_to_sequences(x_test)"
   ]
  },
  {
   "cell_type": "code",
   "execution_count": 22,
   "metadata": {},
   "outputs": [
    {
     "name": "stdout",
     "output_type": "stream",
     "text": [
      "Story of man who has unnatural feelings for pig Starts out with opening scene that is terrific example of absurd comedy formal orchestra audience is turned into an insane violent mob by the crazy chantings of it singers Unfortunately it stays absurd the WHOLE time with no general narrative eventually making it just too off putting Even those from the era should be turned off The cryptic dialogue would make Shakespeare seem easy to third grader On technical level it better than you might think with some good cinematography by future great Vilmos Zsigmond Future stars Sally Kirkland and Frederic Forrest can be seen briefly  629\n"
     ]
    }
   ],
   "source": [
    "# check original sentence\n",
    "print(x_train[0], len(x_train[0]) )"
   ]
  },
  {
   "cell_type": "code",
   "execution_count": 23,
   "metadata": {},
   "outputs": [
    {
     "name": "stdout",
     "output_type": "stream",
     "text": [
      "[60, 4, 122, 33, 44, 7445, 1383, 14, 4161, 501, 42, 15, 617, 131, 11, 6, 1271, 453, 4, 1705, 203, 1, 7348, 295, 6, 662, 80, 32, 2096, 1079, 2969, 31, 2, 893, 1, 4, 8, 5075, 460, 8, 2637, 1705, 2, 217, 54, 15, 55, 786, 1287, 826, 223, 8, 40, 95, 120, 1453, 56, 143, 35, 2, 956, 139, 26, 662, 120, 2, 1, 406, 58, 92, 1757, 301, 749, 5, 813, 1, 20, 1707, 630, 8, 125, 70, 19, 228, 99, 15, 46, 47, 613, 31, 677, 82, 1, 1, 677, 369, 3322, 1, 3, 1, 7918, 48, 26, 105, 3304] 105\n"
     ]
    }
   ],
   "source": [
    "# check token sequence\n",
    "print(x_train_v[0], len(x_train_v[0]))"
   ]
  },
  {
   "cell_type": "code",
   "execution_count": 24,
   "metadata": {},
   "outputs": [
    {
     "name": "stdout",
     "output_type": "stream",
     "text": [
      "['story of man who has unnatural feelings for pig starts out with opening scene that is terrific example of absurd comedy unknwn orchestra audience is turned into an insane violent mob by the crazy unknwn of it singers unfortunately it stays absurd the whole time with no general narrative eventually making it just too off putting even those from the era should be turned off the unknwn dialogue would make shakespeare seem easy to third unknwn on technical level it better than you might think with some good cinematography by future great unknwn unknwn future stars sally unknwn and unknwn forrest can be seen briefly']\n"
     ]
    }
   ],
   "source": [
    "# reverse tokens to text for check\n",
    "text = tokenizer.sequences_to_texts([x_train_v[0]])\n",
    "print(text)"
   ]
  },
  {
   "cell_type": "code",
   "execution_count": 25,
   "metadata": {},
   "outputs": [
    {
     "name": "stdout",
     "output_type": "stream",
     "text": [
      "vectorized length mean 226.28068\n"
     ]
    },
    {
     "data": {
      "image/png": "[encoded data removed]",
      "text/plain": [
       "<Figure size 432x288 with 1 Axes>"
      ]
     },
     "metadata": {
      "needs_background": "light"
     },
     "output_type": "display_data"
    }
   ],
   "source": [
    "#\n",
    "# Count length of integer sequences (aka word sequences)\n",
    "#\n",
    "textLength = []\n",
    "for index in range (0,len(x_train_v)):\n",
    "    textLength.append(len(x_train_v[index]))\n",
    "\n",
    "#\n",
    "# Plot histogram\n",
    "#\n",
    "plt.hist(textLength)\n",
    "lengthArray = np.array(textLength)\n",
    "print('vectorized length mean {}'.format(np.mean(lengthArray)))"
   ]
  },
  {
   "cell_type": "code",
   "execution_count": 26,
   "metadata": {},
   "outputs": [
    {
     "name": "stdout",
     "output_type": "stream",
     "text": [
      "count of words 73530\n"
     ]
    }
   ],
   "source": [
    "#\n",
    "# Get size of vocabulary of tokenizer\n",
    "#\n",
    "vocab_size = len(tokenizer.word_index) + 1\n",
    "print('count of words {}'.format(vocab_size))"
   ]
  },
  {
   "cell_type": "markdown",
   "metadata": {},
   "source": [
    "# Task: select a proper maximum length of text (1 point)\n",
    "\n",
    "Set maxlen to a suitable value for the text length. Longer text sequences are cut off, shorter sequences are padded."
   ]
  },
  {
   "cell_type": "code",
   "execution_count": 27,
   "metadata": {},
   "outputs": [],
   "source": [
    "# Ich nehme die durchschnittliche Textlänge als Maximum"
   ]
  },
  {
   "cell_type": "code",
   "execution_count": 28,
   "metadata": {},
   "outputs": [],
   "source": [
    "def average(lst): \n",
    "    return sum(lst) / len(lst) \n",
    "maxlen = int(average(textLength))"
   ]
  },
  {
   "cell_type": "code",
   "execution_count": 29,
   "metadata": {},
   "outputs": [],
   "source": [
    "#\n",
    "# Pad sequences\n",
    "#\n",
    "x_train_v = pad_sequences(x_train_v, padding='post', maxlen=maxlen)\n",
    "x_test_v = pad_sequences(x_test_v, padding='post', maxlen=maxlen)"
   ]
  },
  {
   "cell_type": "markdown",
   "metadata": {},
   "source": [
    "# Download Glove models\n",
    "[GloVe is an unsupervised learning algorithm for obtaining vector representations for words. Training is performed on aggregated global word-word co-occurrence statistics from a corpus, and the resulting representations showcase interesting linear substructures of the word vector space.](https://nlp.stanford.edu/projects/glove/)\n",
    "\n",
    "\n",
    "\n"
   ]
  },
  {
   "cell_type": "code",
   "execution_count": 30,
   "metadata": {},
   "outputs": [],
   "source": [
    "gloveUrl = 'http://nlp.stanford.edu/glove.6B.zip'\n",
    "gloveExtractionFolder = 'data/glove'\n",
    "gloveDataArchive = gloveExtractionFolder + '/glove.6B.zip'\n",
    "\n",
    "#\n",
    "# Select 100 dims for embedding space\n",
    "#\n",
    "gloveData = gloveExtractionFolder + '/' + 'glove.6B.100d.txt'\n",
    "gloveDims = 100"
   ]
  },
  {
   "cell_type": "code",
   "execution_count": 31,
   "metadata": {},
   "outputs": [],
   "source": [
    "def unzip_dataset(dataset_file_path, extraction_directory):  \n",
    "    if (not os.path.exists(extraction_directory)):\n",
    "        os.makedirs(extraction_directory)        \n",
    "    zip = zipfile.ZipFile(dataset_file_path)\n",
    "    zip.extractall(path=extraction_directory)        \n",
    "    print(\"extraction of dataset from {} to {} done.\".format(dataset_file_path,extraction_directory) )"
   ]
  },
  {
   "cell_type": "code",
   "execution_count": 32,
   "metadata": {},
   "outputs": [],
   "source": [
    "#\n",
    "# Execute download\n",
    "#\n",
    "if ( not os.path.exists(gloveData)):\n",
    "    download_dataset(gloveUrl,gloveDataArchive,gloveExtractionFolder)"
   ]
  },
  {
   "cell_type": "code",
   "execution_count": 33,
   "metadata": {},
   "outputs": [],
   "source": [
    "#\n",
    "# Unzip glove\n",
    "#\n",
    "if ( not os.path.exists(gloveData)):\n",
    "    unzip_dataset(gloveDataArchive,gloveExtractionFolder)"
   ]
  },
  {
   "cell_type": "markdown",
   "metadata": {},
   "source": [
    "# Load glove embeddings into memory"
   ]
  },
  {
   "cell_type": "code",
   "execution_count": 34,
   "metadata": {},
   "outputs": [],
   "source": [
    "#\n",
    "# Create dict of glove vectors for each word in glove model\n",
    "#\n",
    "embeddings_dictionary = dict()\n",
    "glove_file = open(gloveData, encoding=\"utf8\")\n",
    "for line in glove_file:\n",
    "    records = line.split()\n",
    "    word = records[0]\n",
    "    vector_dimensions = np.asarray(records[1:], dtype='float32')\n",
    "    embeddings_dictionary [word] = vector_dimensions\n",
    "glove_file.close()"
   ]
  },
  {
   "cell_type": "code",
   "execution_count": 35,
   "metadata": {},
   "outputs": [
    {
     "name": "stdout",
     "output_type": "stream",
     "text": [
      "100\n"
     ]
    }
   ],
   "source": [
    "print(len(embeddings_dictionary['the']))"
   ]
  },
  {
   "cell_type": "code",
   "execution_count": 36,
   "metadata": {},
   "outputs": [
    {
     "name": "stdout",
     "output_type": "stream",
     "text": [
      "satanic\n",
      "rumored\n",
      "bleach\n",
      "idolized\n",
      "beet\n",
      "weihenmayer\n",
      "allusive\n",
      "borrough\n",
      "buttermilk\n"
     ]
    }
   ],
   "source": [
    "for word, index in tokenizer.word_index.items():\n",
    "    if(index%7501==0):\n",
    "        print(word)"
   ]
  },
  {
   "cell_type": "code",
   "execution_count": 37,
   "metadata": {},
   "outputs": [
    {
     "name": "stdout",
     "output_type": "stream",
     "text": [
      "(73530, 100)\n",
      "[0. 0. 0. 0. 0. 0. 0. 0. 0. 0. 0. 0. 0. 0. 0. 0. 0. 0. 0. 0. 0. 0. 0. 0.\n",
      " 0. 0. 0. 0. 0. 0. 0. 0. 0. 0. 0. 0. 0. 0. 0. 0. 0. 0. 0. 0. 0. 0. 0. 0.\n",
      " 0. 0. 0. 0. 0. 0. 0. 0. 0. 0. 0. 0. 0. 0. 0. 0. 0. 0. 0. 0. 0. 0. 0. 0.\n",
      " 0. 0. 0. 0. 0. 0. 0. 0. 0. 0. 0. 0. 0. 0. 0. 0. 0. 0. 0. 0. 0. 0. 0. 0.\n",
      " 0. 0. 0. 0.]\n",
      "[0. 0. 0. 0. 0. 0. 0. 0. 0. 0. 0. 0. 0. 0. 0. 0. 0. 0. 0. 0. 0. 0. 0. 0.\n",
      " 0. 0. 0. 0. 0. 0. 0. 0. 0. 0. 0. 0. 0. 0. 0. 0. 0. 0. 0. 0. 0. 0. 0. 0.\n",
      " 0. 0. 0. 0. 0. 0. 0. 0. 0. 0. 0. 0. 0. 0. 0. 0. 0. 0. 0. 0. 0. 0. 0. 0.\n",
      " 0. 0. 0. 0. 0. 0. 0. 0. 0. 0. 0. 0. 0. 0. 0. 0. 0. 0. 0. 0. 0. 0. 0. 0.\n",
      " 0. 0. 0. 0.]\n"
     ]
    }
   ],
   "source": [
    "embedding_matrix = np.zeros((vocab_size, gloveDims))\n",
    "print(embedding_matrix.shape)\n",
    "# 73530 = Vocab dass ich aus den Comments erzeugt habe\n",
    "# gloveDims = Aus dem pretrained Vector\n",
    "print(embedding_matrix[2])\n",
    "print(embedding_matrix[73529])"
   ]
  },
  {
   "cell_type": "code",
   "execution_count": 38,
   "metadata": {},
   "outputs": [],
   "source": [
    "#\n",
    "# Copy glove vectors for each word in the tokenizer model\n",
    "#\n",
    "embedding_matrix = np.zeros((vocab_size, gloveDims))\n",
    "for word, index in tokenizer.word_index.items():\n",
    "    #print(word)\n",
    "    embedding_vector = embeddings_dictionary.get(word)\n",
    "    if embedding_vector is not None:\n",
    "        embedding_matrix[index] = embedding_vector"
   ]
  },
  {
   "cell_type": "code",
   "execution_count": 39,
   "metadata": {},
   "outputs": [
    {
     "name": "stdout",
     "output_type": "stream",
     "text": [
      "(73530, 100)\n"
     ]
    }
   ],
   "source": [
    "# check shape\n",
    "print(embedding_matrix.shape)"
   ]
  },
  {
   "cell_type": "markdown",
   "metadata": {},
   "source": [
    "# Task: Print some examples of glove vectors for words (1 point)\n",
    "\n",
    "Select some random word from the tokenizer and print the glove vectors for those words."
   ]
  },
  {
   "cell_type": "code",
   "execution_count": 40,
   "metadata": {},
   "outputs": [
    {
     "name": "stdout",
     "output_type": "stream",
     "text": [
      "73529\n",
      "73530\n"
     ]
    }
   ],
   "source": [
    "print(len(list(tokenizer.word_index.keys())))\n",
    "print(len(embedding_matrix))\n"
   ]
  },
  {
   "cell_type": "code",
   "execution_count": 41,
   "metadata": {},
   "outputs": [
    {
     "name": "stdout",
     "output_type": "stream",
     "text": [
      "counterculture\n",
      "[ 0.15349    0.50122   -0.1809    -0.48029    0.02361    0.71774\n",
      " -0.21085   -0.75048   -0.0019896  0.82295   -0.21566   -0.38023\n",
      " -0.66459   -0.45833    0.21449    0.11166    0.22101   -0.13607\n",
      "  0.42996   -0.16288    0.36205    0.23642    0.052333  -0.30428\n",
      " -0.034045   0.35305    0.22006   -0.97723   -0.062583  -0.16177\n",
      "  0.18757    0.19923   -0.21413    0.7281    -0.22562   -0.36698\n",
      "  0.17307   -0.027887   0.32421   -0.93756   -0.41259    0.2157\n",
      "  0.18947    0.35217    0.12168   -0.3786     1.1456     0.51183\n",
      "  0.15035    0.26981   -0.11518    0.27657    0.09155   -0.0091759\n",
      " -0.17851    0.31174   -0.68437    0.64491    0.46658    0.39113\n",
      "  0.12987    0.80004    0.10756   -0.57317    0.51623   -0.63218\n",
      "  0.5533    -0.98339    0.65706    0.033639   0.74332   -0.23175\n",
      " -0.91126    0.048412  -0.91224   -0.52944    0.59903   -0.5017\n",
      "  0.15238   -0.61384   -0.96819    0.37858    0.91837    0.20121\n",
      " -0.092778   0.47721   -0.29522   -0.072558  -0.74166   -0.060152\n",
      "  0.40256    0.0016197 -0.33769   -0.022924  -0.23195   -1.1311\n",
      "  0.10341   -0.29679   -0.26389    0.61275  ]\n",
      "fishburne\n",
      "[ 1.6746e-01  4.2512e-01  1.2576e-01 -3.2513e-01 -5.9721e-01 -3.5022e-01\n",
      " -7.4792e-01 -3.7055e-02  1.3464e-01  3.9914e-01 -2.1727e-01 -3.6291e-01\n",
      " -7.0057e-04  5.1823e-01  3.2649e-01  6.9381e-01  3.6471e-01  1.3151e-01\n",
      "  1.7224e-01  1.4207e+00 -4.6675e-01  3.9247e-01  8.1819e-01 -2.6004e-01\n",
      "  1.2936e+00  2.7977e-02  1.1169e-02  1.6041e-02 -2.1958e-01 -2.8038e-01\n",
      " -3.7368e-01  7.2446e-02  9.5984e-02 -4.4566e-01  3.2927e-02  1.5410e-01\n",
      "  7.8031e-01  4.8408e-01  2.2365e-01  1.0928e-01 -6.0704e-01  7.4291e-01\n",
      " -3.5327e-01  8.3644e-01  8.2367e-02 -1.6220e-01 -2.3536e-01  1.8365e-01\n",
      "  3.5595e-01 -4.4021e-01 -4.2086e-01 -5.5423e-01  4.1450e-01  2.8637e-01\n",
      " -3.2314e-01  1.2945e-01  7.6242e-01  1.6417e-02 -1.3109e+00 -3.6905e-01\n",
      " -4.0728e-01  7.8611e-01  5.6758e-01 -6.4084e-03 -3.6670e-01 -1.5455e-01\n",
      "  4.4495e-01  4.9802e-01  1.1619e-01  7.2704e-01  2.3589e-01 -2.3045e-01\n",
      "  2.0196e-01 -3.5146e-01 -1.5242e-01 -1.1204e+00 -1.1823e-01  4.7304e-01\n",
      "  4.8565e-01  1.4935e-01  1.4280e-01 -7.4218e-01 -2.0743e-01 -3.3888e-01\n",
      "  1.8099e-01 -1.8395e-01  7.1015e-01 -3.6816e-01  3.1555e-01 -3.6043e-01\n",
      "  9.5336e-03 -4.8352e-02 -3.0013e-01  4.3276e-01  4.2599e-01 -4.8071e-01\n",
      "  4.6746e-01  8.8031e-04 -5.1836e-01  5.8260e-02]\n",
      "outs\n",
      "[-7.4896e-02  1.0483e-01  1.7256e-01 -4.1512e-01  3.1838e-01 -2.0841e-01\n",
      " -3.6337e-01 -1.0026e+00 -6.7975e-01  4.6692e-04  9.3301e-01  2.1689e-01\n",
      " -1.3602e-01  1.2933e+00  9.4972e-01  6.1987e-02 -3.9168e-01  4.4931e-01\n",
      " -2.6990e-01  1.3683e-01  1.0234e+00  8.9271e-02  3.2650e-01  3.7260e-01\n",
      "  2.8517e-01 -1.7178e-01 -6.2529e-01  2.2280e-01  3.2040e-02 -1.8118e-01\n",
      " -5.2776e-01 -3.7023e-01  4.5659e-01  1.8961e-01  7.1485e-01  5.9928e-02\n",
      " -1.0007e+00 -7.6334e-03  1.3356e-01  4.9473e-01  5.9656e-01  4.7068e-01\n",
      " -1.3467e-01  5.8492e-03 -3.4438e-01 -7.7244e-01  9.0516e-02 -6.8598e-01\n",
      "  6.2075e-02  2.4427e-01 -9.1825e-01  4.7881e-02 -9.2264e-01  6.7043e-01\n",
      " -6.0809e-01 -6.0379e-01 -2.2503e-02  2.6674e-01  1.5148e+00  1.4436e+00\n",
      " -3.9155e-01  1.9565e-01  3.2192e-03  2.2683e-01  2.3341e-01 -5.0424e-01\n",
      "  9.5390e-01 -3.1524e-01 -6.7688e-01 -2.8922e-01 -3.7031e-01  1.9980e-01\n",
      " -9.0216e-01 -1.2743e+00  9.4554e-01  7.5753e-01 -9.8235e-01 -1.0237e+00\n",
      "  8.8260e-02  7.8409e-01 -6.8056e-02  3.4013e-01 -7.8037e-01 -2.4908e-01\n",
      " -8.6791e-01  1.8378e-01  3.9646e-01  2.1496e-01 -3.4205e-01  7.5143e-01\n",
      " -4.7492e-01 -6.6329e-01 -1.7326e-01 -1.1422e-01 -4.2812e-01 -9.6182e-02\n",
      "  4.8082e-01  1.3476e+00 -3.5282e-01 -1.5792e-01]\n"
     ]
    }
   ],
   "source": [
    "#\n",
    "# Result:\n",
    "#\n",
    "\n",
    "someNumber = 3\n",
    "\n",
    "def returnSomeWordsFromTokenizer(number):\n",
    "    returnList = []\n",
    "    interimList = list(tokenizer.word_index.keys())\n",
    "    randomlist = []\n",
    "    for i in range(0,number):\n",
    "        n = random.randint(1,len(interimList))\n",
    "        randomlist.append(interimList[n])\n",
    "    return(randomlist)\n",
    "#listRandomWords = returnSomeWordsFromTokenizer(someNumber)\n",
    "\n",
    "def printVector(someNumber):\n",
    "    wordingList = returnSomeWordsFromTokenizer(someNumber)\n",
    "    for word in wordingList:\n",
    "        print(word)\n",
    "        print(embeddings_dictionary[word])\n",
    "        \n",
    "printVector(someNumber)"
   ]
  },
  {
   "cell_type": "markdown",
   "metadata": {},
   "source": [
    "# Create a simple model\n",
    "\n",
    "**Note** how the embedding_matrix is used in the first layer to embed the token integers into vectors."
   ]
  },
  {
   "cell_type": "code",
   "execution_count": 42,
   "metadata": {},
   "outputs": [],
   "source": [
    "def createNNModel():\n",
    "    model = Sequential()\n",
    "    embedding_layer = Embedding(vocab_size, gloveDims, weights=[embedding_matrix], input_length=maxlen , trainable=False)\n",
    "    model.add(embedding_layer)\n",
    "    model.add(Flatten())\n",
    "    model.add(Dense(100, activation='sigmoid'))\n",
    "    model.add(Dropout(0.2))\n",
    "    model.add(Dense(1, activation='sigmoid'))\n",
    "    return model"
   ]
  },
  {
   "cell_type": "code",
   "execution_count": 43,
   "metadata": {},
   "outputs": [
    {
     "name": "stdout",
     "output_type": "stream",
     "text": [
      "Model: \"sequential\"\n",
      "_________________________________________________________________\n",
      "Layer (type)                 Output Shape              Param #   \n",
      "=================================================================\n",
      "embedding (Embedding)        (None, 226, 100)          7353000   \n",
      "_________________________________________________________________\n",
      "flatten (Flatten)            (None, 22600)             0         \n",
      "_________________________________________________________________\n",
      "dense (Dense)                (None, 100)               2260100   \n",
      "_________________________________________________________________\n",
      "dropout (Dropout)            (None, 100)               0         \n",
      "_________________________________________________________________\n",
      "dense_1 (Dense)              (None, 1)                 101       \n",
      "=================================================================\n",
      "Total params: 9,613,201\n",
      "Trainable params: 2,260,201\n",
      "Non-trainable params: 7,353,000\n",
      "_________________________________________________________________\n",
      "None\n"
     ]
    }
   ],
   "source": [
    "model = createNNModel()\n",
    "model.compile(optimizer='adam', loss='binary_crossentropy', metrics=['acc'])\n",
    "print(model.summary())"
   ]
  },
  {
   "cell_type": "code",
   "execution_count": 44,
   "metadata": {},
   "outputs": [
    {
     "name": "stdout",
     "output_type": "stream",
     "text": [
      "Epoch 1/50\n",
      "157/157 [==============================] - 10s 66ms/step - loss: 0.8873 - acc: 0.6153 - val_loss: 0.9173 - val_acc: 0.2952\n",
      "Epoch 2/50\n",
      "157/157 [==============================] - 9s 55ms/step - loss: 0.5446 - acc: 0.7440 - val_loss: 0.8202 - val_acc: 0.5082\n",
      "Epoch 3/50\n",
      "157/157 [==============================] - 9s 59ms/step - loss: 0.4295 - acc: 0.8240 - val_loss: 0.8694 - val_acc: 0.5340\n",
      "Epoch 4/50\n",
      "157/157 [==============================] - 9s 57ms/step - loss: 0.3425 - acc: 0.8682 - val_loss: 0.6982 - val_acc: 0.6520\n",
      "Epoch 5/50\n",
      "157/157 [==============================] - 9s 59ms/step - loss: 0.2607 - acc: 0.9113 - val_loss: 1.0312 - val_acc: 0.5294\n",
      "Epoch 6/50\n",
      "157/157 [==============================] - 9s 57ms/step - loss: 0.2025 - acc: 0.9392 - val_loss: 1.2538 - val_acc: 0.4522\n",
      "Epoch 7/50\n",
      "157/157 [==============================] - 9s 59ms/step - loss: 0.1667 - acc: 0.9518 - val_loss: 0.9975 - val_acc: 0.5994\n",
      "Epoch 8/50\n",
      "157/157 [==============================] - 9s 58ms/step - loss: 0.1218 - acc: 0.9672 - val_loss: 1.1587 - val_acc: 0.5590\n",
      "Epoch 9/50\n",
      "157/157 [==============================] - 9s 56ms/step - loss: 0.1113 - acc: 0.9698 - val_loss: 1.2280 - val_acc: 0.5696\n",
      "Epoch 10/50\n",
      "157/157 [==============================] - 9s 59ms/step - loss: 0.0799 - acc: 0.9807 - val_loss: 1.1049 - val_acc: 0.6196\n",
      "Epoch 11/50\n",
      "157/157 [==============================] - 9s 57ms/step - loss: 0.0640 - acc: 0.9859 - val_loss: 1.3621 - val_acc: 0.5648\n",
      "Epoch 12/50\n",
      "157/157 [==============================] - 9s 59ms/step - loss: 0.0522 - acc: 0.9891 - val_loss: 1.1008 - val_acc: 0.6446\n",
      "Epoch 13/50\n",
      "157/157 [==============================] - 9s 57ms/step - loss: 0.0447 - acc: 0.9895 - val_loss: 1.5124 - val_acc: 0.5626\n",
      "Epoch 14/50\n",
      "157/157 [==============================] - 9s 58ms/step - loss: 0.0406 - acc: 0.9909 - val_loss: 1.4069 - val_acc: 0.5908\n",
      "Epoch 15/50\n",
      "157/157 [==============================] - 9s 58ms/step - loss: 0.0370 - acc: 0.9924 - val_loss: 1.5579 - val_acc: 0.5648\n",
      "Epoch 16/50\n",
      "157/157 [==============================] - 9s 57ms/step - loss: 0.0330 - acc: 0.9926 - val_loss: 1.8822 - val_acc: 0.5038\n",
      "Epoch 17/50\n",
      "157/157 [==============================] - 9s 59ms/step - loss: 0.0296 - acc: 0.9932 - val_loss: 1.3745 - val_acc: 0.6268\n",
      "Epoch 18/50\n",
      "157/157 [==============================] - 9s 56ms/step - loss: 0.0287 - acc: 0.9936 - val_loss: 1.6702 - val_acc: 0.5716\n",
      "Epoch 19/50\n",
      "157/157 [==============================] - 9s 59ms/step - loss: 0.0245 - acc: 0.9943 - val_loss: 1.9060 - val_acc: 0.5308\n",
      "Epoch 20/50\n",
      "157/157 [==============================] - 9s 57ms/step - loss: 0.0256 - acc: 0.9934 - val_loss: 1.9798 - val_acc: 0.5236\n",
      "Epoch 21/50\n",
      "157/157 [==============================] - 9s 59ms/step - loss: 0.0262 - acc: 0.9940 - val_loss: 1.5581 - val_acc: 0.5958\n",
      "Epoch 22/50\n",
      "157/157 [==============================] - 9s 58ms/step - loss: 0.0234 - acc: 0.9944 - val_loss: 1.6816 - val_acc: 0.5862\n",
      "Epoch 23/50\n",
      "157/157 [==============================] - 9s 57ms/step - loss: 0.0205 - acc: 0.9957 - val_loss: 1.5873 - val_acc: 0.6102\n",
      "Epoch 24/50\n",
      "157/157 [==============================] - 9s 60ms/step - loss: 0.0204 - acc: 0.9954 - val_loss: 1.6525 - val_acc: 0.6016: 0.\n",
      "Epoch 25/50\n",
      "157/157 [==============================] - 9s 56ms/step - loss: 0.0201 - acc: 0.9951 - val_loss: 1.8625 - val_acc: 0.5768\n",
      "Epoch 26/50\n",
      "157/157 [==============================] - 9s 60ms/step - loss: 0.0194 - acc: 0.9951 - val_loss: 2.0855 - val_acc: 0.5534\n",
      "Epoch 27/50\n",
      "157/157 [==============================] - 9s 56ms/step - loss: 0.0196 - acc: 0.9959 - val_loss: 1.8633 - val_acc: 0.5966\n",
      "Epoch 28/50\n",
      "157/157 [==============================] - 9s 59ms/step - loss: 0.0190 - acc: 0.9951 - val_loss: 2.1258 - val_acc: 0.5324\n",
      "Epoch 29/50\n",
      "157/157 [==============================] - 9s 59ms/step - loss: 0.0195 - acc: 0.9950 - val_loss: 2.2139 - val_acc: 0.4764\n",
      "Epoch 30/50\n",
      "157/157 [==============================] - 9s 60ms/step - loss: 0.0694 - acc: 0.9764 - val_loss: 1.4065 - val_acc: 0.5840\n",
      "Epoch 31/50\n",
      "157/157 [==============================] - 9s 60ms/step - loss: 0.0636 - acc: 0.9820 - val_loss: 1.2498 - val_acc: 0.6648\n",
      "Epoch 32/50\n",
      "157/157 [==============================] - 9s 56ms/step - loss: 0.0396 - acc: 0.9900 - val_loss: 1.5598 - val_acc: 0.5852\n",
      "Epoch 33/50\n",
      "157/157 [==============================] - 9s 59ms/step - loss: 0.0319 - acc: 0.9919 - val_loss: 1.6529 - val_acc: 0.5956\n",
      "Epoch 34/50\n",
      "157/157 [==============================] - 9s 58ms/step - loss: 0.0263 - acc: 0.9936 - val_loss: 1.8480 - val_acc: 0.5812\n",
      "Epoch 35/50\n",
      "157/157 [==============================] - 9s 59ms/step - loss: 0.0196 - acc: 0.9954 - val_loss: 1.8503 - val_acc: 0.5918\n",
      "Epoch 36/50\n",
      "157/157 [==============================] - 9s 58ms/step - loss: 0.0191 - acc: 0.9955 - val_loss: 1.8458 - val_acc: 0.5894\n",
      "Epoch 37/50\n",
      "157/157 [==============================] - 9s 57ms/step - loss: 0.0162 - acc: 0.9957 - val_loss: 1.7054 - val_acc: 0.6192\n",
      "Epoch 38/50\n",
      "157/157 [==============================] - 9s 58ms/step - loss: 0.0169 - acc: 0.9963 - val_loss: 1.7072 - val_acc: 0.6308\n",
      "Epoch 39/50\n",
      "157/157 [==============================] - 9s 56ms/step - loss: 0.0135 - acc: 0.9962 - val_loss: 2.1031 - val_acc: 0.5622\n",
      "Epoch 40/50\n",
      "157/157 [==============================] - 9s 59ms/step - loss: 0.0148 - acc: 0.9967 - val_loss: 1.6787 - val_acc: 0.6368\n",
      "Epoch 41/50\n",
      "157/157 [==============================] - 9s 56ms/step - loss: 0.0145 - acc: 0.9964 - val_loss: 1.9524 - val_acc: 0.6094\n",
      "Epoch 42/50\n",
      "157/157 [==============================] - 9s 59ms/step - loss: 0.0143 - acc: 0.9969 - val_loss: 2.0095 - val_acc: 0.5838\n",
      "Epoch 43/50\n",
      "157/157 [==============================] - 9s 58ms/step - loss: 0.0132 - acc: 0.9967 - val_loss: 1.8293 - val_acc: 0.6302\n",
      "Epoch 44/50\n",
      "157/157 [==============================] - 9s 58ms/step - loss: 0.0128 - acc: 0.9972 - val_loss: 1.9449 - val_acc: 0.6014\n",
      "Epoch 45/50\n",
      "157/157 [==============================] - 9s 59ms/step - loss: 0.0303 - acc: 0.9906 - val_loss: 1.5319 - val_acc: 0.6070\n",
      "Epoch 46/50\n",
      "157/157 [==============================] - 9s 56ms/step - loss: 0.0409 - acc: 0.9867 - val_loss: 1.3891 - val_acc: 0.6544\n",
      "Epoch 47/50\n",
      "157/157 [==============================] - 9s 59ms/step - loss: 0.0424 - acc: 0.9877 - val_loss: 1.7119 - val_acc: 0.5986\n",
      "Epoch 48/50\n",
      "157/157 [==============================] - 9s 57ms/step - loss: 0.0329 - acc: 0.9902 - val_loss: 1.4091 - val_acc: 0.6620\n",
      "Epoch 49/50\n",
      "157/157 [==============================] - 9s 59ms/step - loss: 0.0307 - acc: 0.9915 - val_loss: 1.9541 - val_acc: 0.5620\n",
      "Epoch 50/50\n",
      "157/157 [==============================] - 9s 58ms/step - loss: 0.0258 - acc: 0.9930 - val_loss: 2.0107 - val_acc: 0.5618\n"
     ]
    }
   ],
   "source": [
    "history = model.fit(x_train_v, y_train, batch_size=128, epochs=BasicNNEpochen, verbose=1, validation_split=0.2)"
   ]
  },
  {
   "cell_type": "code",
   "execution_count": 45,
   "metadata": {},
   "outputs": [
    {
     "name": "stdout",
     "output_type": "stream",
     "text": [
      "782/782 [==============================] - 7s 8ms/step - loss: 1.3561 - acc: 0.7007\n"
     ]
    }
   ],
   "source": [
    "score = model.evaluate(x_test_v, y_test, verbose=1)"
   ]
  },
  {
   "cell_type": "code",
   "execution_count": 46,
   "metadata": {},
   "outputs": [
    {
     "name": "stdout",
     "output_type": "stream",
     "text": [
      "test loss: 1.3561043739318848\n",
      "test accuracy: 0.7006800174713135\n"
     ]
    }
   ],
   "source": [
    "print(\"test loss:\", score[0])\n",
    "print(\"test accuracy:\", score[1])"
   ]
  },
  {
   "cell_type": "code",
   "execution_count": 47,
   "metadata": {},
   "outputs": [],
   "source": [
    "def plotResults(history):\n",
    "    plt.plot(history.history['acc'])\n",
    "    plt.plot(history.history['val_acc'])\n",
    "    plt.title('model accuracy')\n",
    "    plt.ylabel('accuracy')\n",
    "    plt.xlabel('epoch')\n",
    "    plt.legend(['train','test'], loc='upper left')\n",
    "    plt.show()\n",
    "\n",
    "    plt.plot(history.history['loss'])\n",
    "    plt.plot(history.history['val_loss'])\n",
    "\n",
    "    plt.title('model loss')\n",
    "    plt.ylabel('loss')\n",
    "    plt.xlabel('epoch')\n",
    "    plt.legend(['train','test'], loc='upper left')\n",
    "    plt.show()"
   ]
  },
  {
   "cell_type": "code",
   "execution_count": 48,
   "metadata": {},
   "outputs": [
    {
     "data": {
      "image/png": "[encoded data removed]",
      "text/plain": [
       "<Figure size 432x288 with 1 Axes>"
      ]
     },
     "metadata": {
      "needs_background": "light"
     },
     "output_type": "display_data"
    },
    {
     "data": {
      "image/png": "[encoded data removed]",
      "text/plain": [
       "<Figure size 432x288 with 1 Axes>"
      ]
     },
     "metadata": {
      "needs_background": "light"
     },
     "output_type": "display_data"
    }
   ],
   "source": [
    "plotResults(history)"
   ]
  },
  {
   "cell_type": "markdown",
   "metadata": {},
   "source": [
    "# Save model"
   ]
  },
  {
   "cell_type": "code",
   "execution_count": 50,
   "metadata": {},
   "outputs": [],
   "source": [
    "#\n",
    "# Save a model for later use\n",
    "#\n",
    "from keras.models import model_from_json\n",
    "\n",
    "prefix = 'results/02_'\n",
    "modelName = prefix + \"model.json\"\n",
    "weightName = prefix + \"model.h5\"\n",
    "\n",
    "\n",
    "def handle_model(model,save_model):\n",
    "    # set to True if the model should be saved\n",
    "    if save_model:\n",
    "        model_json = model.to_json()\n",
    "        with open( modelName , \"w\") as json_file:\n",
    "            json_file.write(model_json)\n",
    "        # serialize weights to HDF5\n",
    "        model.save_weights( weightName )\n",
    "        print(\"saved model to disk as {} {}\".format(modelName,weightName))\n",
    "        return model\n",
    "    \n",
    "\n",
    "    # load model (has to be saved before, is not part of git)    \n",
    "    if not save_model:\n",
    "        json_file = open(modelName, 'r')\n",
    "        loaded_model_json = json_file.read()\n",
    "        json_file.close()\n",
    "        loaded_model = model_from_json(loaded_model_json)\n",
    "        # load weights into new model\n",
    "        loaded_model.load_weights(weightName)\n",
    "        print(\"loaded model from disk\")        \n",
    "        return loaded_model"
   ]
  },
  {
   "cell_type": "code",
   "execution_count": 49,
   "metadata": {},
   "outputs": [
    {
     "name": "stdout",
     "output_type": "stream",
     "text": [
      "saved model to disk as results/02_model.json results/02_model.h5\n"
     ]
    }
   ],
   "source": [
    "model = handle_model(model,True)"
   ]
  },
  {
   "cell_type": "markdown",
   "metadata": {},
   "source": [
    "# Task: Improved model based on LSTMs (2 points)\n",
    "\n",
    "The previous model reaches around 70% of test accuracy. This is not sufficient for your customer. So we need a better model. Research the internet for sentiment analysis models using LSTMs and implement a better version of the model based on this information.\n",
    "\n",
    "1. Implement an LSTM based model version for sentiment analysis (you can also use a different model if you find publications for it)\n",
    "1. Document the sources you have found\n",
    "1. Test the model in comparison to the older model version"
   ]
  },
  {
   "cell_type": "code",
   "execution_count": 50,
   "metadata": {},
   "outputs": [],
   "source": [
    "#\n",
    "# Result: new model\n",
    "#\n",
    "def createLSTMModel():\n",
    "    model = Sequential()\n",
    "    embedding_layer = Embedding(vocab_size, gloveDims, weights=[embedding_matrix], input_length=maxlen , trainable=False)\n",
    "    model.add(embedding_layer)\n",
    "    model.add(LSTM(128, dropout=0.2, recurrent_dropout=0.2))\n",
    "    model.add(Dense(1, activation='sigmoid'))\n",
    "    model.compile(optimizer='adam', loss='binary_crossentropy', metrics=['acc'])\n",
    "    return model"
   ]
  },
  {
   "cell_type": "code",
   "execution_count": 51,
   "metadata": {},
   "outputs": [],
   "source": [
    "model2 = createLSTMModel()"
   ]
  },
  {
   "cell_type": "code",
   "execution_count": 52,
   "metadata": {},
   "outputs": [
    {
     "name": "stdout",
     "output_type": "stream",
     "text": [
      "Model: \"sequential_1\"\n",
      "_________________________________________________________________\n",
      "Layer (type)                 Output Shape              Param #   \n",
      "=================================================================\n",
      "embedding_1 (Embedding)      (None, 226, 100)          7353000   \n",
      "_________________________________________________________________\n",
      "lstm (LSTM)                  (None, 128)               117248    \n",
      "_________________________________________________________________\n",
      "dense_2 (Dense)              (None, 1)                 129       \n",
      "=================================================================\n",
      "Total params: 7,470,377\n",
      "Trainable params: 117,377\n",
      "Non-trainable params: 7,353,000\n",
      "_________________________________________________________________\n",
      "None\n"
     ]
    }
   ],
   "source": [
    "model2.compile(optimizer='adam', loss='binary_crossentropy', metrics=['acc'])\n",
    "print(model2.summary())"
   ]
  },
  {
   "cell_type": "code",
   "execution_count": 53,
   "metadata": {},
   "outputs": [
    {
     "name": "stdout",
     "output_type": "stream",
     "text": [
      "Epoch 1/10\n",
      "157/157 [==============================] - 294s 2s/step - loss: 0.6603 - acc: 0.6269 - val_loss: 0.9709 - val_acc: 0.1012\n",
      "Epoch 2/10\n",
      "157/157 [==============================] - 308s 2s/step - loss: 0.6565 - acc: 0.6541 - val_loss: 1.0503 - val_acc: 2.0000e-04\n",
      "Epoch 3/10\n",
      "157/157 [==============================] - 320s 2s/step - loss: 0.6586 - acc: 0.6255 - val_loss: 0.9644 - val_acc: 0.0670\n",
      "Epoch 4/10\n",
      "157/157 [==============================] - 324s 2s/step - loss: 0.6488 - acc: 0.6384 - val_loss: 1.1421 - val_acc: 0.0692\n",
      "Epoch 5/10\n",
      "157/157 [==============================] - 328s 2s/step - loss: 0.5698 - acc: 0.7049 - val_loss: 0.6065 - val_acc: 0.7262\n",
      "Epoch 6/10\n",
      "157/157 [==============================] - 327s 2s/step - loss: 0.4047 - acc: 0.8214 - val_loss: 0.7339 - val_acc: 0.6022\n",
      "Epoch 7/10\n",
      "157/157 [==============================] - 328s 2s/step - loss: 0.3971 - acc: 0.8290 - val_loss: 0.5302 - val_acc: 0.7532\n",
      "Epoch 8/10\n",
      "157/157 [==============================] - 330s 2s/step - loss: 0.3631 - acc: 0.8440 - val_loss: 0.4832 - val_acc: 0.7762\n",
      "Epoch 9/10\n",
      "157/157 [==============================] - 338s 2s/step - loss: 0.3461 - acc: 0.8531 - val_loss: 0.4191 - val_acc: 0.8134\n",
      "Epoch 10/10\n",
      "157/157 [==============================] - 329s 2s/step - loss: 0.3385 - acc: 0.8543 - val_loss: 0.7734 - val_acc: 0.6332\n",
      "782/782 [==============================] - 60s 76ms/step - loss: 0.4358 - acc: 0.8030\n"
     ]
    }
   ],
   "source": [
    "history = model2.fit(x_train_v, y_train, batch_size=128, epochs=ImprovedModel, verbose=1, validation_split=0.2)\n",
    "score = model2.evaluate(x_test_v, y_test, verbose=1)"
   ]
  },
  {
   "cell_type": "code",
   "execution_count": 54,
   "metadata": {},
   "outputs": [
    {
     "name": "stdout",
     "output_type": "stream",
     "text": [
      "test loss: 0.4358437955379486\n",
      "test accuracy: 0.8030400276184082\n"
     ]
    }
   ],
   "source": [
    "print(\"test loss:\", score[0])\n",
    "print(\"test accuracy:\", score[1])"
   ]
  },
  {
   "cell_type": "code",
   "execution_count": 55,
   "metadata": {},
   "outputs": [
    {
     "data": {
      "image/png": "[encoded data removed]",
      "text/plain": [
       "<Figure size 432x288 with 1 Axes>"
      ]
     },
     "metadata": {
      "needs_background": "light"
     },
     "output_type": "display_data"
    },
    {
     "data": {
      "image/png": "[encoded data removed]",
      "text/plain": [
       "<Figure size 432x288 with 1 Axes>"
      ]
     },
     "metadata": {
      "needs_background": "light"
     },
     "output_type": "display_data"
    }
   ],
   "source": [
    "plotResults(history)"
   ]
  },
  {
   "cell_type": "code",
   "execution_count": 56,
   "metadata": {},
   "outputs": [
    {
     "name": "stdout",
     "output_type": "stream",
     "text": [
      "saved model to disk as results/02_model.json results/02_model.h5\n"
     ]
    }
   ],
   "source": [
    "model2 = handle_model(model2,True)"
   ]
  },
  {
   "cell_type": "markdown",
   "metadata": {},
   "source": [
    "# Task: Replace 100 d model with 300 d model for embedding (2 points)\n",
    "\n",
    "Try better embedding model with 300 dimensions instead of the 100 dimension model. Load the different Glove weights, update the vector matrix for the embedding layer and the model structure for the better Glove model.\n"
   ]
  },
  {
   "cell_type": "code",
   "execution_count": 42,
   "metadata": {},
   "outputs": [],
   "source": [
    "gloveData = gloveExtractionFolder + '/' + 'glove.6B.300d.txt'\n",
    "gloveDims = 300\n",
    "# Load glove embeddings into memory¶\n",
    "embeddings_dictionary = dict()\n",
    "glove_file = open(gloveData, encoding=\"utf8\")\n",
    "for line in glove_file:\n",
    "    records = line.split()\n",
    "    word = records[0]\n",
    "    vector_dimensions = np.asarray(records[1:], dtype='float32')\n",
    "    embeddings_dictionary [word] = vector_dimensions\n",
    "glove_file.close()"
   ]
  },
  {
   "cell_type": "code",
   "execution_count": 43,
   "metadata": {},
   "outputs": [
    {
     "name": "stdout",
     "output_type": "stream",
     "text": [
      "300\n"
     ]
    }
   ],
   "source": [
    "print(len(embeddings_dictionary['the']))"
   ]
  },
  {
   "cell_type": "code",
   "execution_count": 44,
   "metadata": {},
   "outputs": [
    {
     "name": "stdout",
     "output_type": "stream",
     "text": [
      "(73530, 300)\n"
     ]
    }
   ],
   "source": [
    "embedding_matrix = np.zeros((vocab_size, gloveDims))\n",
    "print(embedding_matrix.shape)"
   ]
  },
  {
   "cell_type": "code",
   "execution_count": 45,
   "metadata": {},
   "outputs": [
    {
     "name": "stdout",
     "output_type": "stream",
     "text": [
      "(73530, 300)\n"
     ]
    }
   ],
   "source": [
    "embedding_matrix = np.zeros((vocab_size, gloveDims))\n",
    "for word, index in tokenizer.word_index.items():\n",
    "    #print(word)\n",
    "    embedding_vector = embeddings_dictionary.get(word)\n",
    "    if embedding_vector is not None:\n",
    "        embedding_matrix[index] = embedding_vector\n",
    "print(embedding_matrix.shape)"
   ]
  },
  {
   "cell_type": "code",
   "execution_count": 46,
   "metadata": {},
   "outputs": [
    {
     "name": "stdout",
     "output_type": "stream",
     "text": [
      "afloat\n",
      "[ 0.34422   -0.26506   -0.079252   0.031283   0.59874   -0.065493\n",
      "  0.20436   -0.49943   -0.13972   -0.55956    0.4486     0.018748\n",
      "  0.15387   -0.15662   -0.10055    0.050015  -0.041241  -0.16123\n",
      "  0.0036883 -0.5018     0.45497   -0.11354    0.49982    0.20653\n",
      "  0.45676   -0.25825   -0.6354     0.65071   -0.4791     0.98903\n",
      " -0.16508   -0.089842   0.24866   -0.10836   -0.061778  -0.11268\n",
      " -0.0082934  0.13527    0.33242    0.16828   -0.0065926 -0.38829\n",
      "  0.15563    0.46685   -0.13671    0.20964    0.67408   -0.020772\n",
      " -0.29837    0.086152   0.44294    0.06595    0.62687   -1.032\n",
      " -0.11953   -0.47521    0.24561    0.59252   -0.40056    0.18437\n",
      "  0.16494   -0.46523    0.03746    0.25837    0.44265    0.16254\n",
      " -0.24062   -0.25099   -0.17595    0.079686  -0.29148    0.58751\n",
      " -0.27016   -0.027613   0.35962   -0.39758    0.15746   -0.097824\n",
      "  0.34502   -0.014896  -0.20374   -0.076557  -0.63644    0.38698\n",
      "  0.17411    0.5922    -0.5527    -0.36183   -1.031     -0.023998\n",
      "  0.45831    0.48744    0.074968  -0.069973   0.66704    0.09502\n",
      "  0.18715    0.36252   -0.36785    0.12801    0.53296    0.49721\n",
      "  0.17359   -0.22706    0.22333    0.2548    -0.44647   -0.6041\n",
      "  0.45916    0.011768  -0.27015    0.27668   -0.2139    -0.18266\n",
      " -0.61889   -0.45898   -0.054648  -0.2446     1.0646     0.070255\n",
      "  0.083094  -0.50917    0.2814     0.37397    0.58886    0.063208\n",
      " -0.17362   -0.51374    0.14329    0.042841   0.67236    0.28095\n",
      "  0.71859   -0.23921   -0.19221    0.52252   -0.22479   -0.0016872\n",
      "  0.05161    0.24867   -0.096506   0.56128   -0.18748    0.71887\n",
      " -0.18911   -0.0069589 -0.19486   -0.43027    0.19377    0.63162\n",
      " -0.63657   -0.2581     0.097394   0.028668   0.55637   -0.15201\n",
      "  0.02874   -0.25599   -0.414      0.77674   -0.12067    0.031001\n",
      " -0.42891    0.11528    0.026947  -0.37032   -0.081341  -0.11082\n",
      " -0.43534    0.60962    0.19892    0.23497   -0.88816   -0.091824\n",
      "  0.29709    0.3577    -0.52152   -0.04646    0.2579     0.33193\n",
      "  0.36402   -0.23909   -0.066567   0.009134   0.37671    0.16916\n",
      "  0.20277   -0.10296    0.10961   -0.81522   -0.1507     0.47049\n",
      " -0.42967   -0.12618    0.0443     0.21577   -0.47502    0.27539\n",
      "  0.33166   -0.38668    0.25669    0.56311    0.42538    0.38062\n",
      " -0.012128  -0.62213    0.55438   -0.3779    -0.18432   -0.36548\n",
      " -0.37358   -0.50768   -0.44737   -0.2283     0.52681    0.28638\n",
      " -0.2976     0.64648   -0.50483    0.42458    0.77851   -0.024888\n",
      " -0.017366   0.21819   -0.19916   -0.028884  -0.070708  -0.43585\n",
      "  0.034882  -0.31072    0.33546   -0.51941    0.45187    0.10312\n",
      "  0.13428   -0.49485   -0.065059   0.11176    0.12031    0.11585\n",
      "  0.31576   -0.15925    0.087157   0.35219   -0.24303   -0.87\n",
      "  0.88274    0.57477   -0.3535    -0.12302   -0.30824    0.49152\n",
      "  0.95349    0.58604    0.18025   -0.38005   -0.33418   -0.0052073\n",
      "  0.051762  -0.13285    0.35131   -0.19148   -0.38588   -0.71162\n",
      " -0.03253    0.59714    0.12595   -0.26442   -0.21623   -0.089494\n",
      " -0.22367    0.38993   -0.57813   -0.1286     0.45703    0.18785\n",
      " -0.095127  -0.14495   -0.096313  -0.24466    0.18571    0.2744\n",
      " -0.39264    0.018119   0.033666  -0.4735    -0.022747   0.56863\n",
      "  0.45451   -0.19363   -0.11478    0.25406   -0.011606  -0.74207\n",
      "  0.062862  -0.0029674 -0.17173   -0.16862   -0.18928   -0.0079698]\n",
      "entails\n",
      "[-1.5191e-02  2.3452e-01  8.4705e-01  2.5198e-01 -2.0954e-01 -7.5988e-02\n",
      " -6.1987e-02  4.5554e-02 -2.0533e-01 -8.0502e-01 -7.9412e-02  3.6318e-01\n",
      " -4.4609e-01 -1.0876e-01 -7.8596e-02 -3.5487e-01 -3.2433e-01  1.8042e-01\n",
      "  3.3273e-01  4.9945e-01 -1.2461e-01 -1.1183e-01  2.8759e-02  1.3778e-01\n",
      "  2.7221e-01 -1.8353e-01  9.1130e-02  1.5508e-01 -5.3085e-02  1.8329e-01\n",
      "  3.7153e-02 -2.1452e-01 -2.2690e-01 -2.2138e-01  5.0748e-01  7.1101e-01\n",
      " -1.9713e-01 -3.3172e-01 -1.6835e-01 -1.9568e-01  1.3224e-01  2.1106e-01\n",
      "  4.3322e-03 -5.3782e-01 -5.8199e-01 -4.1128e-02  3.9912e-01  3.2156e-01\n",
      "  8.5406e-02 -1.3595e-01  3.5109e-02 -3.1765e-02  3.0471e-01  1.7234e-01\n",
      " -2.9088e-01  3.6639e-02  1.5966e-02 -5.4845e-02 -1.6677e-01  3.4363e-01\n",
      "  1.3326e-01 -8.0590e-02  6.0427e-02 -2.9173e-02 -3.4203e-01  2.3591e-01\n",
      "  8.5017e-02 -9.3341e-03  4.8843e-02  2.6382e-01 -1.8250e-01 -3.0190e-01\n",
      "  1.7995e-01  1.0173e-01 -1.1086e-01 -9.8553e-02 -1.8239e-01  2.9476e-01\n",
      "  1.0187e-01  1.8300e-01 -2.5516e-01 -2.5730e-01  2.4935e-01  3.7113e-02\n",
      "  1.6069e-02 -1.2790e-02  1.4716e-01  1.0613e-01  1.5199e-02  2.1317e-01\n",
      " -1.6429e-01  5.8643e-02 -2.9288e-02  1.4958e-01  2.3517e-01 -7.2482e-01\n",
      " -5.6123e-01 -1.7522e-01  1.5367e-02 -2.5993e-01 -2.9494e-01  2.6721e-01\n",
      "  7.2516e-02 -3.2792e-01  2.0835e-01  1.4637e-01 -2.0518e-02  1.4753e-02\n",
      " -7.7045e-01 -3.7078e-01  9.3130e-02  2.6774e-01 -3.7639e-01  2.8466e-02\n",
      "  2.7820e-01  2.3652e-01  5.3252e-01 -1.1153e-01 -3.0168e-01 -2.4818e-01\n",
      "  1.8983e-01  1.1895e-01 -1.1011e-01  4.5672e-01  4.0689e-01 -5.7584e-01\n",
      "  3.4971e-02 -3.5197e-01 -3.1920e-02 -2.1895e-01  6.1983e-01 -7.6562e-02\n",
      " -1.2545e-01 -2.0920e-01 -4.1715e-02 -4.2001e-02 -1.9133e-01 -1.4217e-01\n",
      " -1.0757e-01 -2.5125e-01  6.0034e-02  8.8137e-02  1.0826e-01 -3.4313e-01\n",
      "  1.2777e-01 -5.7657e-01  2.1999e-02  2.6155e-01  1.7495e-01  1.4967e-01\n",
      " -6.8004e-01 -2.5192e-01  1.6515e-01 -1.0183e-01 -2.6285e-01 -1.8821e-02\n",
      " -1.3951e-02  2.6934e-01 -4.8609e-01  2.7080e-01  3.0773e-02  1.4403e-02\n",
      " -6.5864e-02  2.3250e-01 -1.8082e-01  9.6556e-03  2.7536e-01  1.5534e-01\n",
      " -2.9619e-01  3.4803e-02 -6.7715e-02 -5.1765e-01  1.1225e-01 -4.0156e-01\n",
      " -9.1280e-02 -1.5559e-01 -3.0179e-01  4.8044e-02  2.3997e-03 -2.6991e-01\n",
      "  1.1026e-01 -5.0276e-01 -1.2910e-01 -2.8824e-01 -3.6615e-01  3.3250e-01\n",
      "  4.1315e-01 -3.6735e-01 -4.2539e-01 -4.9860e-01  7.9448e-02  5.5954e-02\n",
      "  1.8682e-01 -2.3334e-01 -2.4155e-01  3.1862e-01 -2.3488e-01  1.0961e-02\n",
      "  2.2385e-01  2.9734e-01 -3.5380e-01 -4.7784e-02 -4.6358e-01  2.5434e-01\n",
      "  4.5686e-01  5.2244e-01  1.2275e-01 -1.6328e-01  9.5347e-01  1.2479e-01\n",
      " -2.3629e-01  7.8439e-02 -2.3833e-01  2.3147e-01  2.1966e-01  4.2991e-01\n",
      " -1.6007e-01  1.6299e-02 -2.8615e-01  1.3985e-01 -4.4456e-01  3.4903e-01\n",
      " -2.8593e-01  4.8365e-01 -5.8789e-02 -2.9967e-01  3.0205e-02  1.1730e-01\n",
      "  3.3422e-01  3.7658e-01  7.5374e-02  7.6720e-02  2.5156e-01  8.3570e-02\n",
      "  3.0454e-02 -3.2020e-01 -2.7266e-01 -2.6569e-01  2.9320e-01  2.1835e-01\n",
      "  2.4429e-01  3.7565e-01  3.7413e-01 -1.0782e-01 -6.3093e-01 -6.5868e-02\n",
      " -9.6351e-02  3.9246e-01  7.6291e-02 -1.8305e-01 -2.9943e-01  3.8202e-01\n",
      " -7.9825e-02 -3.7119e-01 -7.6016e-01  2.1384e-01 -1.5437e-01  3.1191e-01\n",
      "  1.6565e-01  1.1952e-02  1.6615e-01  3.2592e-01  2.1315e-01  4.3658e-01\n",
      "  3.7486e-01  5.5816e-01 -1.3380e-01  2.2057e-01 -6.8038e-02  7.4322e-02\n",
      " -7.4061e-03  4.0802e-01  8.3528e-02  6.2027e-01 -1.4965e-01 -3.3041e-02\n",
      " -2.7097e-01 -3.7674e-01  2.4464e-01  2.2432e-01  4.6364e-01 -3.4604e-01\n",
      " -4.0671e-01  1.2945e-01  5.8567e-01  1.6738e-01 -1.3344e-04  6.7167e-02\n",
      " -1.6051e-01 -1.4018e-01 -5.3929e-01 -4.6060e-02 -1.7579e-03  2.1011e-02\n",
      "  2.8010e-01 -1.9258e-01 -2.9008e-01  4.4152e-01  1.9391e-01 -3.3442e-01]\n",
      "kabei\n"
     ]
    },
    {
     "ename": "KeyError",
     "evalue": "'kabei'",
     "output_type": "error",
     "traceback": [
      "\u001b[1;31m---------------------------------------------------------------------------\u001b[0m",
      "\u001b[1;31mKeyError\u001b[0m                                  Traceback (most recent call last)",
      "\u001b[1;32m<ipython-input-46-e2c659274417>\u001b[0m in \u001b[0;36m<module>\u001b[1;34m\u001b[0m\n\u001b[0;32m      1\u001b[0m \u001b[0msomeNumber\u001b[0m \u001b[1;33m=\u001b[0m \u001b[1;36m3\u001b[0m\u001b[1;33m\u001b[0m\u001b[1;33m\u001b[0m\u001b[0m\n\u001b[1;32m----> 2\u001b[1;33m \u001b[0mprintVector\u001b[0m\u001b[1;33m(\u001b[0m\u001b[0msomeNumber\u001b[0m\u001b[1;33m)\u001b[0m\u001b[1;33m\u001b[0m\u001b[1;33m\u001b[0m\u001b[0m\n\u001b[0m",
      "\u001b[1;32m<ipython-input-41-a984904bbc8f>\u001b[0m in \u001b[0;36mprintVector\u001b[1;34m(someNumber)\u001b[0m\n\u001b[0;32m     19\u001b[0m     \u001b[1;32mfor\u001b[0m \u001b[0mword\u001b[0m \u001b[1;32min\u001b[0m \u001b[0mwordingList\u001b[0m\u001b[1;33m:\u001b[0m\u001b[1;33m\u001b[0m\u001b[1;33m\u001b[0m\u001b[0m\n\u001b[0;32m     20\u001b[0m         \u001b[0mprint\u001b[0m\u001b[1;33m(\u001b[0m\u001b[0mword\u001b[0m\u001b[1;33m)\u001b[0m\u001b[1;33m\u001b[0m\u001b[1;33m\u001b[0m\u001b[0m\n\u001b[1;32m---> 21\u001b[1;33m         \u001b[0mprint\u001b[0m\u001b[1;33m(\u001b[0m\u001b[0membeddings_dictionary\u001b[0m\u001b[1;33m[\u001b[0m\u001b[0mword\u001b[0m\u001b[1;33m]\u001b[0m\u001b[1;33m)\u001b[0m\u001b[1;33m\u001b[0m\u001b[1;33m\u001b[0m\u001b[0m\n\u001b[0m\u001b[0;32m     22\u001b[0m \u001b[1;33m\u001b[0m\u001b[0m\n\u001b[0;32m     23\u001b[0m \u001b[0mprintVector\u001b[0m\u001b[1;33m(\u001b[0m\u001b[0msomeNumber\u001b[0m\u001b[1;33m)\u001b[0m\u001b[1;33m\u001b[0m\u001b[1;33m\u001b[0m\u001b[0m\n",
      "\u001b[1;31mKeyError\u001b[0m: 'kabei'"
     ]
    }
   ],
   "source": [
    "# CheckVecot\n",
    "someNumber = 3\n",
    "printVector(someNumber)"
   ]
  },
  {
   "cell_type": "code",
   "execution_count": 61,
   "metadata": {},
   "outputs": [
    {
     "name": "stdout",
     "output_type": "stream",
     "text": [
      "Model: \"sequential_2\"\n",
      "_________________________________________________________________\n",
      "Layer (type)                 Output Shape              Param #   \n",
      "=================================================================\n",
      "embedding_2 (Embedding)      (None, 226, 300)          22059000  \n",
      "_________________________________________________________________\n",
      "lstm_1 (LSTM)                (None, 128)               219648    \n",
      "_________________________________________________________________\n",
      "dense_3 (Dense)              (None, 1)                 129       \n",
      "=================================================================\n",
      "Total params: 22,278,777\n",
      "Trainable params: 219,777\n",
      "Non-trainable params: 22,059,000\n",
      "_________________________________________________________________\n",
      "None\n"
     ]
    }
   ],
   "source": [
    "# direkt ins LSTM, das BASIS-NN überspringe ich\n",
    "model3 = createLSTMModel()\n",
    "model3.compile(optimizer='adam', loss='binary_crossentropy', metrics=['acc'])\n",
    "print(model3.summary())"
   ]
  },
  {
   "cell_type": "code",
   "execution_count": 62,
   "metadata": {},
   "outputs": [
    {
     "name": "stdout",
     "output_type": "stream",
     "text": [
      "Epoch 1/10\n",
      "157/157 [==============================] - 608s 4s/step - loss: 0.6571 - acc: 0.6337 - val_loss: 0.6630 - val_acc: 0.3586\n",
      "Epoch 2/10\n",
      "157/157 [==============================] - 679s 4s/step - loss: 0.6432 - acc: 0.6314 - val_loss: 1.2434 - val_acc: 0.1086\n",
      "Epoch 3/10\n",
      "157/157 [==============================] - 730s 5s/step - loss: 0.6510 - acc: 0.6254 - val_loss: 1.0861 - val_acc: 0.1712\n",
      "Epoch 4/10\n",
      "157/157 [==============================] - 753s 5s/step - loss: 0.6332 - acc: 0.6541 - val_loss: 0.7837 - val_acc: 0.3488\n",
      "Epoch 5/10\n",
      "157/157 [==============================] - 759s 5s/step - loss: 0.6197 - acc: 0.6598 - val_loss: 0.8889 - val_acc: 0.5928\n",
      "Epoch 6/10\n",
      "157/157 [==============================] - 761s 5s/step - loss: 0.6456 - acc: 0.6555 - val_loss: 1.0388 - val_acc: 0.0102\n",
      "Epoch 7/10\n",
      "157/157 [==============================] - 765s 5s/step - loss: 0.6401 - acc: 0.6425 - val_loss: 0.9732 - val_acc: 0.0742\n",
      "Epoch 8/10\n",
      "157/157 [==============================] - 761s 5s/step - loss: 0.6103 - acc: 0.6725 - val_loss: 0.7265 - val_acc: 0.4446\n",
      "Epoch 9/10\n",
      "157/157 [==============================] - 762s 5s/step - loss: 0.5810 - acc: 0.7096 - val_loss: 0.9680 - val_acc: 0.1250\n",
      "Epoch 10/10\n",
      "157/157 [==============================] - 761s 5s/step - loss: 0.5121 - acc: 0.7414 - val_loss: 0.6222 - val_acc: 0.7172\n",
      "782/782 [==============================] - 159s 204ms/step - loss: 0.4023 - acc: 0.8312\n"
     ]
    }
   ],
   "source": [
    "history_300d = model3.fit(x_train_v, y_train, batch_size=128, epochs=improved300epochen, verbose=1, validation_split=0.2)\n",
    "score_300d = model3.evaluate(x_test_v, y_test, verbose=1)"
   ]
  },
  {
   "cell_type": "code",
   "execution_count": 63,
   "metadata": {},
   "outputs": [
    {
     "name": "stdout",
     "output_type": "stream",
     "text": [
      "test loss: 0.40231165289878845\n",
      "test accuracy: 0.8312000036239624\n"
     ]
    }
   ],
   "source": [
    "print(\"test loss:\", score_300d[0])\n",
    "print(\"test accuracy:\", score_300d[1])"
   ]
  },
  {
   "cell_type": "code",
   "execution_count": 64,
   "metadata": {},
   "outputs": [
    {
     "data": {
      "image/png": "[encoded data removed]",
      "text/plain": [
       "<Figure size 432x288 with 1 Axes>"
      ]
     },
     "metadata": {
      "needs_background": "light"
     },
     "output_type": "display_data"
    },
    {
     "data": {
      "image/png": "[encoded data removed]",
      "text/plain": [
       "<Figure size 432x288 with 1 Axes>"
      ]
     },
     "metadata": {
      "needs_background": "light"
     },
     "output_type": "display_data"
    }
   ],
   "source": [
    "plotResults(history_300d)"
   ]
  },
  {
   "cell_type": "markdown",
   "metadata": {},
   "source": [
    "# Task: Replace Glove model with BERT model vectors (2 points)\n",
    "\n",
    "Try to replace Glove with a BERT model. This is no easy task. Research the internet for tutorials about this goal and write down all changes you would need to implement for this change (concept only, implementation optional).\n",
    "\n",
    "\n",
    "[LINK Basic TUtorial](https://towardsdatascience.com/bert-text-classification-in-3-lines-of-code-using-keras-264db7e7a358)\n",
    "\n"
   ]
  },
  {
   "cell_type": "code",
   "execution_count": 65,
   "metadata": {},
   "outputs": [],
   "source": [
    "import matplotlib"
   ]
  },
  {
   "cell_type": "code",
   "execution_count": 66,
   "metadata": {},
   "outputs": [],
   "source": [
    "#!pip install ktrain\n",
    "import ktrain\n",
    "from ktrain import text"
   ]
  },
  {
   "cell_type": "code",
   "execution_count": 67,
   "metadata": {},
   "outputs": [
    {
     "name": "stdout",
     "output_type": "stream",
     "text": [
      "detected encoding: utf-8\n",
      "preprocessing train...\n",
      "language: en\n"
     ]
    },
    {
     "data": {
      "text/html": [
       "done."
      ],
      "text/plain": [
       "<IPython.core.display.HTML object>"
      ]
     },
     "metadata": {},
     "output_type": "display_data"
    },
    {
     "name": "stdout",
     "output_type": "stream",
     "text": [
      "Is Multi-Label? False\n",
      "preprocessing test...\n",
      "language: en\n"
     ]
    },
    {
     "data": {
      "text/html": [
       "done."
      ],
      "text/plain": [
       "<IPython.core.display.HTML object>"
      ]
     },
     "metadata": {},
     "output_type": "display_data"
    }
   ],
   "source": [
    "trn, val, preproc = text.texts_from_folder(textData, \n",
    "                                          maxlen=500, \n",
    "                                          preprocess_mode='bert',\n",
    "                                          train_test_names=['train', \n",
    "                                                            'test'],\n",
    "                                          classes=['pos', 'neg'])"
   ]
  },
  {
   "cell_type": "code",
   "execution_count": 68,
   "metadata": {},
   "outputs": [
    {
     "name": "stdout",
     "output_type": "stream",
     "text": [
      "Is Multi-Label? False\n",
      "maxlen is 500\n",
      "done.\n"
     ]
    }
   ],
   "source": [
    "model = text.text_classifier('bert', trn, preproc=preproc)\n",
    "learner = ktrain.get_learner(model,train_data=trn, val_data=val, batch_size=6)"
   ]
  },
  {
   "cell_type": "code",
   "execution_count": null,
   "metadata": {},
   "outputs": [
    {
     "name": "stdout",
     "output_type": "stream",
     "text": [
      "\n",
      "\n",
      "begin training using onecycle policy with max lr of 0.002...\n",
      "  49/4167 [..............................] - ETA: 119:58:13 - loss: 0.8397 - accuracy: 0.5215"
     ]
    }
   ],
   "source": [
    "# Train & Fine-Tune Model\n",
    "historyLearner = learner.fit_onecycle(2e-3, 1)"
   ]
  },
  {
   "cell_type": "raw",
   "metadata": {},
   "source": [
    "prefix = 'results/03_BERT_'\n",
    "modelName = prefix + \"model.json\"\n",
    "weightName = prefix + \"model.h5\"\n",
    "model = handle_model(learner,True)"
   ]
  },
  {
   "cell_type": "markdown",
   "metadata": {},
   "source": [
    "Ich habe den oberen Junk ausgeblendet, da dieser auf meiner Hardware unverhältnimäßig lange rechnet. Siehe folgendes Bild:\n",
    "\n",
    "------------\n",
    "------------\n",
    "------------\n",
    "![Folder-Strucutre](./imgs/ProblemZeit.png)\n",
    "\n",
    "------------\n",
    "------------\n",
    "------------\n",
    "\n",
    "Ich habe es so gelöst, dass ich den Teil des BERT-Models auf dem leistungsstarken Kubernete Cluster der FH laufen gelassen habe. Das fertige Modell habe ich von dem Cluster auf einen privaten FTP-Server geladen und das Model anschließend auf meine Hardware  geladen. Konkret habe ich folgendes gitalb.ci.yml - File erstellt:\n",
    "\n",
    "```\n",
    "stages:\n",
    "    - MillingerRun\n",
    "ExecuteBERT:\n",
    "    stage: MillingerRun\n",
    "    image: jhc1990/mlunnerk8sfh\n",
    "    script:\n",
    "        - mkdir results\n",
    "        - python code-to-run.py\n",
    "```\n",
    "\n",
    "Für den Run habe ich diesen [Docker-Container](https://hub.docker.com/r/jhc1990/ml_exercise_ditmil_imdb) in Eigenarbeit gebaut.\n",
    "\n",
    "Der tatsächliche Code im File \"code-to-run.py\" File ist der Code des gegenwärtig betrachteten Notebooks, angereichert um die Implementierung des FTP-Servers, auf welchen das fertig trainierte Modell deployt wurde.\n",
    "\n",
    "```\n",
    "import ftplib\n",
    "session = ftplib.FTP('188.174.171.206','ftpuser','0c5acc0ae8793d0ed4f262c8d8c12adafd3b5104e0e3519b971b35f14596772f')\n",
    "session.cwd('MillingerML')\n",
    "\n",
    "file = open('results/03_BERT_model.h5','rb')                  # file to send\n",
    "session.storbinary('STOR 03_BERT_model.h5', file)     # send the file\n",
    "file.close()                                    # close file and FTP\n",
    "\n",
    "file = open('results/03_BERT_model.json','rb')                  # file to send\n",
    "session.storbinary('STOR 03_BERT_model.json', file)     # send the file\n",
    "file.close()                                    # close file and FTP\n",
    "\n",
    "session.quit()\n",
    "```\n",
    "\n",
    "Ich lasse den FTP-Server noch online für den Fall, dass dieses fertige Modell eingesehen bzw heruntergeladen werden soll. mit ein bisschen IT-Know-How findet man sicher die nötigen Credentials im oberen Junk heraus :-). \n",
    "\n",
    "Hier ein Screenshot von dem abgeschlossenen Run:\n",
    "![Folder-Strucutre](./imgs/gitlab.png)\n",
    "\n",
    "Auch hier ist eine \"halbe\" Ewigkeit verstrichen bis das Model fertig trainiert war(~1200 Minuten = ca 20h // im Vergleich zu 120 Tagen Training auf meiner Hardware aber eigentlich ganz annhembar. "
   ]
  },
  {
   "cell_type": "markdown",
   "metadata": {},
   "source": [
    "# Test with your own data"
   ]
  },
  {
   "cell_type": "code",
   "execution_count": 47,
   "metadata": {
    "scrolled": true
   },
   "outputs": [
    {
     "name": "stdout",
     "output_type": "stream",
     "text": [
      "From time to time it very advisable for the aristocracy to watch some silent film about the harsh life of the common people in order to remind themselves of the privileges and the comfortable life that they have enjoyed since the beginning of mankind or even before in comparison with the complicated and hard work that common people have to endure everyday since the aristocrats rule the world br br And that what happens in The Love Light the first film directed by Dame France Marion who will be famous afterwards in the silent and talkie world thanks overall to her work as screenwriter better for her certainly because her career as film director doesn impress this German count br br The film tells the story of Dame Angela Carlotti Dame Mary Pickford merry Italian girl who lives surrounded by picturesque squalor an important difference of opinion between upper and low classes aristocrats prefers to live surrounded by picturesque luxury she has two brothers and secret admirer but all she gives him in return is indifference Destiny begins to work hard and pretty soon war is declared and Dame Angela two brothers enlist and in the next reel both are dead But destiny is even crueller and Dame Angela meanwhile falls in love with German And to make things worse she doesn know that her Teutonic sweetie is spy and that the light signals that she sends to him every night from the lighthouse she maintains thinking that is love signal don mean Ich Liebe Dich but Sink Any Damn Italian Boat At Sea br br Fortunately for Dame Angela pretty soon her sweetie German spy will be found by the neighbours in her house in which she was hiding him not strange fact indeed because it is not an easy task for German to go unnoticed but the German spy will prefer to die before being captured by those Italians br br From that German love half Teutonic baby will born the wicked Destiny at full speed but greedy neighbour who has particular idea of motherhood will carry away her son with the consent of Catholic nun who has taken the Council of Trent to extremes fact that will put Dame Angela at the verge of insanity br br But meanwhile Dame Angela secret admirer has returned from the war and you can think that finally Dame Angela sorrowful life will improve tremendous mistake because Destiny has in store for her that the returned soldier is blind But as they say in Germany it may be blessing in disguise and finally Dame Angela will recover her son and will start new life with her blind sweetie in poor Italian village in what it is supposed to be happy ending for the common people br br As this German count said before it was much better for Dame Frances Marion that she continued her career as screenwriter because as can be seen in The Love Light she had lot of imagination to invent incredible stories ja wohl but completely different subject is to direct films and her silent debut lacks emotion and rhythm in spite of the effort of Dame Pickford to involve the audience with her many disgraces The nonexistent film narrative causes indifference in the spectator making this the kind of film where only Dame Pickford herself provides the interest and not her circumstances br br And now if you ll allow me must temporarily take my leave because this German Count must send Morse signals from the Schloss north tower to one of his Teutonic rich heiress \n"
     ]
    }
   ],
   "source": [
    "instance = x_test_clean[56]\n",
    "print(instance)"
   ]
  },
  {
   "cell_type": "code",
   "execution_count": 48,
   "metadata": {},
   "outputs": [],
   "source": [
    "def sentiment(text):\n",
    "    \n",
    "    instance = tokenizer.texts_to_sequences(text)\n",
    "    flat_list = []\n",
    "    for sublist in instance:\n",
    "        for item in sublist:\n",
    "            flat_list.append(item)\n",
    "\n",
    "    flat_list = [flat_list]\n",
    "    instance = pad_sequences(flat_list, padding='post', maxlen=maxlen)\n",
    "    sentiment = model2.predict(instance)\n",
    "    \n",
    "    comment = 'meh'\n",
    "    if sentiment > 0.85:\n",
    "        comment = 'very good'\n",
    "    elif sentiment > 0.75:\n",
    "        comment = 'good'\n",
    "    elif sentiment > 0.50:\n",
    "        comment = 'moderate'\n",
    "    return sentiment,comment"
   ]
  },
  {
   "cell_type": "code",
   "execution_count": 52,
   "metadata": {},
   "outputs": [
    {
     "name": "stdout",
     "output_type": "stream",
     "text": [
      "loaded model from disk\n"
     ]
    }
   ],
   "source": [
    "model2 = handle_model(\"./results/02_model\",False)"
   ]
  },
  {
   "cell_type": "code",
   "execution_count": 53,
   "metadata": {},
   "outputs": [
    {
     "name": "stdout",
     "output_type": "stream",
     "text": [
      "(array([[0.9579619]], dtype=float32), 'very good')\n"
     ]
    }
   ],
   "source": [
    "test1 = \"I simply don't like this film.\"\n",
    "print ( sentiment(test1))"
   ]
  },
  {
   "cell_type": "code",
   "execution_count": 54,
   "metadata": {},
   "outputs": [
    {
     "name": "stdout",
     "output_type": "stream",
     "text": [
      "(array([[0.93643403]], dtype=float32), 'very good')\n"
     ]
    }
   ],
   "source": [
    "test1 = \"I hate this film.\"\n",
    "print ( sentiment(test1))"
   ]
  },
  {
   "cell_type": "code",
   "execution_count": 55,
   "metadata": {},
   "outputs": [
    {
     "name": "stdout",
     "output_type": "stream",
     "text": [
      "(array([[0.93643403]], dtype=float32), 'very good')\n"
     ]
    }
   ],
   "source": [
    "test1 = \"I love this film.\"\n",
    "print ( sentiment(test1))"
   ]
  },
  {
   "cell_type": "code",
   "execution_count": 56,
   "metadata": {},
   "outputs": [
    {
     "name": "stdout",
     "output_type": "stream",
     "text": [
      "(array([[0.81808805]], dtype=float32), 'good')\n"
     ]
    }
   ],
   "source": [
    "test1 = x_test_clean[13000]\n",
    "print ( sentiment(test1))"
   ]
  },
  {
   "cell_type": "code",
   "execution_count": 57,
   "metadata": {},
   "outputs": [
    {
     "name": "stdout",
     "output_type": "stream",
     "text": [
      "2020-08-22 22:13:49.596099\n",
      "Der Lauf des gesamten Notebooks dauert: 0:13:33.705048\n"
     ]
    }
   ],
   "source": [
    "tend = datetime.now()\n",
    "print(tend)\n",
    "print(\"Der Lauf des gesamten Notebooks dauert: \" + str(tend-tstart))"
   ]
  }
 ],
 "metadata": {
  "kernelspec": {
   "display_name": "Python 3",
   "language": "python",
   "name": "python3"
  },
  "language_info": {
   "codemirror_mode": {
    "name": "ipython",
    "version": 3
   },
   "file_extension": ".py",
   "mimetype": "text/x-python",
   "name": "python",
   "nbconvert_exporter": "python",
   "pygments_lexer": "ipython3",
   "version": "3.8.5"
  },
  "toc": {
   "base_numbering": 1,
   "nav_menu": {},
   "number_sections": true,
   "sideBar": true,
   "skip_h1_title": false,
   "title_cell": "Table of Contents",
   "title_sidebar": "Contents",
   "toc_cell": false,
   "toc_position": {},
   "toc_section_display": true,
   "toc_window_display": false
  }
 },
 "nbformat": 4,
 "nbformat_minor": 4
}
