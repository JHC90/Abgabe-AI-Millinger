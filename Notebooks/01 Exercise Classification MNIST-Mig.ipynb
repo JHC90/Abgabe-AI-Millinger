{
 "cells": [
  {
   "cell_type": "markdown",
   "metadata": {},
   "source": [
    "<img src=\"header.png\" align=\"left\"/>"
   ]
  },
  {
   "cell_type": "markdown",
   "metadata": {},
   "source": [
    "# Exercise: Classification of MNIST (10 points)\n",
    "\n",
    "\n",
    "Die goal of this exercise is to work on the improvement of a model and how to debug and check the training data.\n",
    "We start with a simple model for digit classification of the MNIST dataset [1].  This dataset contains 60,000 scans of digits for training and 10,000 scans of digits for validation. A sample consists of 28x28 features with values between 0 and 255, note that the features are inverted. Actually digits are rather dark on a light background. MNIST digits are light on a dark background.\n",
    "This example is partly based on a tutorial by Jason Brownlee [2]. \n",
    "Please follow the instructions in the notebook.\n",
    "\n",
    "\n",
    "```\n",
    "[1] http://yann.lecun.com/exdb/mnist/\n",
    "[2] https://machinelearningmastery.com/how-to-develop-a-convolutional-neural-network-from-scratch-for-mnist-handwritten-digit-classification/\n",
    "```\n",
    "\n",
    "**NOTE**\n",
    "\n",
    "Document your results by simply adding a markdown cell or a python cell (as comment) and writing your statements into this cell. For some tasks the result cell is already available.\n",
    "\n",
    "\n"
   ]
  },
  {
   "cell_type": "code",
   "execution_count": null,
   "metadata": {},
   "outputs": [],
   "source": [
    "# Zeitmessung für die gesammte Notebook-Ausführung\n",
    "from datetime import datetime # für den TimeStamp\n",
    "tstart = datetime.now()"
   ]
  },
  {
   "cell_type": "code",
   "execution_count": null,
   "metadata": {},
   "outputs": [],
   "source": [
    "'''\n",
    "REPRODUCEBILITY\n",
    "Hier das Setup für das Elitebook 8570w\n",
    "Intel(R) Core(TM) i7-3520M CPU @ 2.90GHz\n",
    "16,0 GB DDR3\n",
    "NVIDIA Quadro K2000M\n",
    "\n",
    "\n",
    "# Ich habe fresh Windows10(1909_18363.997)  deployt\n",
    "# installiere \"neueste C-Version\" https://support.microsoft.com/en-us/help/2977003/the-latest-supported-visual-c-downloads\n",
    "\n",
    "# Upgrade Paketdienste\n",
    "!pip install --upgrade pip\n",
    "!conda update -n base -c defaults conda\n",
    "\n",
    "####################################\n",
    "\n",
    "# verified Operating-Config für dieses Noteboook\n",
    "# python 3.8.5\n",
    "!pip install tensorflow==2.3.0\n",
    "!pip install keras==2.4.3\n",
    "\n",
    "# verified Operating-Config für dieses Noteboook\n",
    "# python 3.7.7\n",
    "!pip install tensorflow==2.2.0\n",
    "!pip install keras==2.3.1\n",
    "\n",
    "####################################\n",
    "\n",
    "# Additional packages\n",
    "!pip install sklearn==0.0\n",
    "!pip install seaborn==0.10.1\n",
    "!pip install pandas==1.1.0\n",
    "!pip install matplotlib==3.3.0\n",
    "!pip install emnist\n",
    "!pip install plotly==4.9.0\n",
    "!pip install cufflinks==0.17.3 \n",
    "\n",
    "# Anzeige installierte packages\n",
    "!pip list\n",
    "!conda list\n",
    "'''"
   ]
  },
  {
   "cell_type": "code",
   "execution_count": null,
   "metadata": {},
   "outputs": [],
   "source": [
    "# Reproducebility\n",
    "# os\n",
    "import os\n",
    "import platform\n",
    "print(\"OS Version\")\n",
    "print(os.name)\n",
    "print(platform.system())\n",
    "print(platform.release())\n",
    "print('#####')\n",
    "\n",
    "# Python Version\n",
    "import sys\n",
    "print(\"Python Version\")\n",
    "print (sys.version)\n",
    "print(\"Version info.\")\n",
    "print (sys.version_info)\n",
    "print('#####')\n",
    "\n",
    "# TF-Version\n",
    "import tensorflow as tf\n",
    "print(\"TF Version\")\n",
    "print(tf.__version__)\n",
    "print('#####')\n",
    "\n",
    "# Keras-Version\n",
    "import keras as ks\n",
    "print(\"Keras Version\")\n",
    "print(ks.__version__)"
   ]
  },
  {
   "cell_type": "code",
   "execution_count": null,
   "metadata": {},
   "outputs": [],
   "source": [
    "# Bibs\n",
    "import numpy as np\n",
    "import pandas as pd\n",
    "from keras.datasets import mnist\n",
    "from keras.utils import to_categorical\n",
    "from keras.models import Sequential\n",
    "from keras.layers import Conv2D\n",
    "from keras.layers import MaxPooling2D\n",
    "from keras.layers import Dense\n",
    "from keras.layers import Flatten\n",
    "from keras.layers import BatchNormalization\n",
    "from keras.layers import Dropout\n",
    "from keras.optimizers import SGD\n",
    "from keras.callbacks import EarlyStopping\n",
    "from keras.callbacks import ModelCheckpoint\n",
    "from keras.models import model_from_json\n",
    "import matplotlib.pyplot as plt\n",
    "import random\n",
    "from sklearn.metrics import confusion_matrix\n",
    "from datetime import datetime\n",
    "import seaborn as sns\n",
    "import os\n",
    "from urllib.request import urlretrieve\n",
    "import zipfile\n",
    "from plotly import __version__\n",
    "from plotly.offline import download_plotlyjs, init_notebook_mode, plot, iplot\n",
    "import cufflinks as cf\n",
    "init_notebook_mode(connected=True)\n",
    "cf.go_offline()\n",
    "import emnist\n",
    "from emnist import extract_training_samples\n",
    "from IPython.display import display, HTML"
   ]
  },
  {
   "cell_type": "code",
   "execution_count": 5,
   "metadata": {},
   "outputs": [],
   "source": [
    "#\n",
    "# Turn off errors and warnings (does not work sometimes)\n",
    "#\n",
    "from warnings import simplefilter\n",
    "# ignore all future warnings\n",
    "simplefilter(action='ignore', category=FutureWarning)\n",
    "simplefilter(action='ignore', category=Warning)"
   ]
  },
  {
   "cell_type": "code",
   "execution_count": 6,
   "metadata": {},
   "outputs": [],
   "source": [
    "#\n",
    "# Diagram size\n",
    "#\n",
    "plt.rcParams['figure.figsize'] = [16, 9]"
   ]
  },
  {
   "cell_type": "code",
   "execution_count": 7,
   "metadata": {},
   "outputs": [
    {
     "name": "stdout",
     "output_type": "stream",
     "text": [
      "2.3.0\n"
     ]
    }
   ],
   "source": [
    "import tensorflow as tf\n",
    "print ( tf.__version__ ) \n",
    "\n",
    "tf.compat.v1.logging.set_verbosity(tf.compat.v1.logging.ERROR )\n",
    "physical_devices = tf.config.experimental.list_physical_devices('GPU')\n",
    "if len(physical_devices) > 0:\n",
    "    tf.config.experimental.set_memory_growth(physical_devices[0], True)\n",
    "config = tf.compat.v1.ConfigProto()\n",
    "config.gpu_options.allow_growth = True\n",
    "tf.compat.v1.keras.backend.set_session(tf.compat.v1.Session(config=config))"
   ]
  },
  {
   "cell_type": "code",
   "execution_count": 8,
   "metadata": {},
   "outputs": [],
   "source": [
    "# helper Functions => normalerweise in externem Modul augelagert\n",
    "def Overfitting_summarize_accuracy(history2):\n",
    "    plt.plot(history2.history['accuracy'])\n",
    "    plt.plot(history2.history['val_accuracy'])\n",
    "    plt.title('Model Overfitting accuracy')\n",
    "    plt.ylabel('Accuracy')\n",
    "    plt.xlabel('Epoch')\n",
    "    plt.legend(['Train', 'Test'], loc='upper left')\n",
    "    plt.show()\n",
    "    \n",
    "def Overfitting_summarize_loss(history2):\n",
    "    plt.plot(history2.history['loss'])\n",
    "    plt.plot(history2.history['val_loss'])\n",
    "    plt.title('Model Overfitting loss')\n",
    "    plt.ylabel('Loss')\n",
    "    plt.xlabel('Epoch')\n",
    "    plt.legend(['Train', 'Test'], loc='upper left')\n",
    "    plt.show()\n",
    "    \n",
    "def print_analysis_diagramm(history2):\n",
    "    plt.subplot(211)\n",
    "    Overfitting_summarize_accuracy(history2)\n",
    "    plt.subplot(212)\n",
    "    Overfitting_summarize_loss(history2)\n",
    "    \n",
    "def plot_confusion_matrix(cm, classes,\n",
    "                          normalize=False,\n",
    "                          title='Confusion matrix',\n",
    "                          cmap=plt.cm.Blues):\n",
    "    \"\"\"\n",
    "    This function prints and plots the confusion matrix.\n",
    "    Normalization can be applied by setting `normalize=True`.\n",
    "    \"\"\"\n",
    "    import itertools\n",
    "    '''\n",
    "    if normalize:\n",
    "        cm = cm.astype('float') / cm.sum(axis=1)[:, np.newaxis]\n",
    "        print(\"Normalized confusion matrix\")\n",
    "    else:\n",
    "        print('Confusion matrix, without normalization')\n",
    "\n",
    "    print(cm)\n",
    "    '''\n",
    "\n",
    "    plt.imshow(cm, interpolation='nearest', cmap=cmap)\n",
    "    plt.title(title)\n",
    "    plt.colorbar()\n",
    "    tick_marks = np.arange(len(classes))\n",
    "    plt.xticks(tick_marks, classes, rotation=45)\n",
    "    plt.yticks(tick_marks, classes)\n",
    "\n",
    "    fmt = '.2f' if normalize else 'd'\n",
    "    thresh = cm.max() / 2.\n",
    "    for i, j in itertools.product(range(cm.shape[0]), range(cm.shape[1])):\n",
    "        plt.text(j, i, format(cm[i, j], fmt),\n",
    "                 horizontalalignment=\"center\",\n",
    "                 color=\"white\" if cm[i, j] > thresh else \"black\")\n",
    "\n",
    "    plt.ylabel('True label')\n",
    "    plt.xlabel('Predicted label')\n",
    "    plt.tight_layout()"
   ]
  },
  {
   "cell_type": "markdown",
   "metadata": {},
   "source": [
    "# Load and prepare data"
   ]
  },
  {
   "cell_type": "code",
   "execution_count": 9,
   "metadata": {},
   "outputs": [],
   "source": [
    "#\n",
    "# Loading of the data (very simplified) with split into train and test data (fixed split)\n",
    "#\n",
    "(x_train, y_train), (x_test, y_test) = mnist.load_data()"
   ]
  },
  {
   "cell_type": "code",
   "execution_count": 10,
   "metadata": {},
   "outputs": [
    {
     "name": "stdout",
     "output_type": "stream",
     "text": [
      "training data: X=(60000, 28, 28), y=(60000,)\n",
      "test     data: X=(10000, 28, 28), y=(10000,)\n"
     ]
    }
   ],
   "source": [
    "#\n",
    "# Print shapes of data\n",
    "#\n",
    "print('training data: X=%s, y=%s' % (x_train.shape, y_train.shape))\n",
    "print('test     data: X=%s, y=%s' % (x_test.shape, y_test.shape))"
   ]
  },
  {
   "cell_type": "code",
   "execution_count": 11,
   "metadata": {},
   "outputs": [
    {
     "data": {
      "image/png": "[encoded data removed]",
      "text/plain": [
       "<Figure size 1152x648 with 16 Axes>"
      ]
     },
     "metadata": {
      "needs_background": "light"
     },
     "output_type": "display_data"
    }
   ],
   "source": [
    "#\n",
    "# Display some examples of the data\n",
    "#\n",
    "for i in range(16):\n",
    "    plt.subplot(4,4,1 + i)\n",
    "    plt.imshow(x_train[i], cmap=plt.get_cmap('gray'))\n",
    "plt.show()"
   ]
  },
  {
   "cell_type": "code",
   "execution_count": 12,
   "metadata": {},
   "outputs": [
    {
     "name": "stdout",
     "output_type": "stream",
     "text": [
      "label 5\n",
      "label 0\n",
      "label 4\n",
      "label 1\n",
      "label 9\n",
      "label 2\n",
      "label 1\n",
      "label 3\n",
      "label 1\n",
      "label 4\n",
      "label 3\n",
      "label 5\n",
      "label 3\n",
      "label 6\n",
      "label 1\n"
     ]
    }
   ],
   "source": [
    "#\n",
    "# Display labels of some data\n",
    "#\n",
    "for i in range(15):\n",
    "    print('label {}'.format(y_train[i]))"
   ]
  },
  {
   "cell_type": "markdown",
   "metadata": {},
   "source": [
    "# Task: Plot a histogram of the classes of the training data (1 point)\n",
    "\n",
    "After plotting, give a short estimation if this distribution is OK for use in a classification situation."
   ]
  },
  {
   "cell_type": "code",
   "execution_count": 13,
   "metadata": {},
   "outputs": [
    {
     "data": {
      "application/vnd.plotly.v1+json": {
       "config": {
        "linkText": "Export to plot.ly",
        "plotlyServerURL": "https://plot.ly",
        "showLink": true
       },
       "data": [
        {
         "marker": {
          "color": "rgba(255, 153, 51, 0.6)",
          "line": {
           "color": "rgba(255, 153, 51, 1.0)",
           "width": 1
          }
         },
         "name": "0",
         "orientation": "v",
         "text": "",
         "type": "bar",
         "x": [
          1,
          7,
          3,
          2,
          9,
          0,
          6,
          8,
          4,
          5
         ],
         "y": [
          6742,
          6265,
          6131,
          5958,
          5949,
          5923,
          5918,
          5851,
          5842,
          5421
         ]
        }
       ],
       "layout": {
        "barmode": "stack",
        "legend": {
         "bgcolor": "#F5F6F9",
         "font": {
          "color": "#4D5663"
         },
         "traceorder": "normal"
        },
        "paper_bgcolor": "#F5F6F9",
        "plot_bgcolor": "#F5F6F9",
        "template": {
         "data": {
          "bar": [
           {
            "error_x": {
             "color": "#2a3f5f"
            },
            "error_y": {
             "color": "#2a3f5f"
            },
            "marker": {
             "line": {
              "color": "#E5ECF6",
              "width": 0.5
             }
            },
            "type": "bar"
           }
          ],
          "barpolar": [
           {
            "marker": {
             "line": {
              "color": "#E5ECF6",
              "width": 0.5
             }
            },
            "type": "barpolar"
           }
          ],
          "carpet": [
           {
            "aaxis": {
             "endlinecolor": "#2a3f5f",
             "gridcolor": "white",
             "linecolor": "white",
             "minorgridcolor": "white",
             "startlinecolor": "#2a3f5f"
            },
            "baxis": {
             "endlinecolor": "#2a3f5f",
             "gridcolor": "white",
             "linecolor": "white",
             "minorgridcolor": "white",
             "startlinecolor": "#2a3f5f"
            },
            "type": "carpet"
           }
          ],
          "choropleth": [
           {
            "colorbar": {
             "outlinewidth": 0,
             "ticks": ""
            },
            "type": "choropleth"
           }
          ],
          "contour": [
           {
            "colorbar": {
             "outlinewidth": 0,
             "ticks": ""
            },
            "colorscale": [
             [
              0,
              "#0d0887"
             ],
             [
              0.1111111111111111,
              "#46039f"
             ],
             [
              0.2222222222222222,
              "#7201a8"
             ],
             [
              0.3333333333333333,
              "#9c179e"
             ],
             [
              0.4444444444444444,
              "#bd3786"
             ],
             [
              0.5555555555555556,
              "#d8576b"
             ],
             [
              0.6666666666666666,
              "#ed7953"
             ],
             [
              0.7777777777777778,
              "#fb9f3a"
             ],
             [
              0.8888888888888888,
              "#fdca26"
             ],
             [
              1,
              "#f0f921"
             ]
            ],
            "type": "contour"
           }
          ],
          "contourcarpet": [
           {
            "colorbar": {
             "outlinewidth": 0,
             "ticks": ""
            },
            "type": "contourcarpet"
           }
          ],
          "heatmap": [
           {
            "colorbar": {
             "outlinewidth": 0,
             "ticks": ""
            },
            "colorscale": [
             [
              0,
              "#0d0887"
             ],
             [
              0.1111111111111111,
              "#46039f"
             ],
             [
              0.2222222222222222,
              "#7201a8"
             ],
             [
              0.3333333333333333,
              "#9c179e"
             ],
             [
              0.4444444444444444,
              "#bd3786"
             ],
             [
              0.5555555555555556,
              "#d8576b"
             ],
             [
              0.6666666666666666,
              "#ed7953"
             ],
             [
              0.7777777777777778,
              "#fb9f3a"
             ],
             [
              0.8888888888888888,
              "#fdca26"
             ],
             [
              1,
              "#f0f921"
             ]
            ],
            "type": "heatmap"
           }
          ],
          "heatmapgl": [
           {
            "colorbar": {
             "outlinewidth": 0,
             "ticks": ""
            },
            "colorscale": [
             [
              0,
              "#0d0887"
             ],
             [
              0.1111111111111111,
              "#46039f"
             ],
             [
              0.2222222222222222,
              "#7201a8"
             ],
             [
              0.3333333333333333,
              "#9c179e"
             ],
             [
              0.4444444444444444,
              "#bd3786"
             ],
             [
              0.5555555555555556,
              "#d8576b"
             ],
             [
              0.6666666666666666,
              "#ed7953"
             ],
             [
              0.7777777777777778,
              "#fb9f3a"
             ],
             [
              0.8888888888888888,
              "#fdca26"
             ],
             [
              1,
              "#f0f921"
             ]
            ],
            "type": "heatmapgl"
           }
          ],
          "histogram": [
           {
            "marker": {
             "colorbar": {
              "outlinewidth": 0,
              "ticks": ""
             }
            },
            "type": "histogram"
           }
          ],
          "histogram2d": [
           {
            "colorbar": {
             "outlinewidth": 0,
             "ticks": ""
            },
            "colorscale": [
             [
              0,
              "#0d0887"
             ],
             [
              0.1111111111111111,
              "#46039f"
             ],
             [
              0.2222222222222222,
              "#7201a8"
             ],
             [
              0.3333333333333333,
              "#9c179e"
             ],
             [
              0.4444444444444444,
              "#bd3786"
             ],
             [
              0.5555555555555556,
              "#d8576b"
             ],
             [
              0.6666666666666666,
              "#ed7953"
             ],
             [
              0.7777777777777778,
              "#fb9f3a"
             ],
             [
              0.8888888888888888,
              "#fdca26"
             ],
             [
              1,
              "#f0f921"
             ]
            ],
            "type": "histogram2d"
           }
          ],
          "histogram2dcontour": [
           {
            "colorbar": {
             "outlinewidth": 0,
             "ticks": ""
            },
            "colorscale": [
             [
              0,
              "#0d0887"
             ],
             [
              0.1111111111111111,
              "#46039f"
             ],
             [
              0.2222222222222222,
              "#7201a8"
             ],
             [
              0.3333333333333333,
              "#9c179e"
             ],
             [
              0.4444444444444444,
              "#bd3786"
             ],
             [
              0.5555555555555556,
              "#d8576b"
             ],
             [
              0.6666666666666666,
              "#ed7953"
             ],
             [
              0.7777777777777778,
              "#fb9f3a"
             ],
             [
              0.8888888888888888,
              "#fdca26"
             ],
             [
              1,
              "#f0f921"
             ]
            ],
            "type": "histogram2dcontour"
           }
          ],
          "mesh3d": [
           {
            "colorbar": {
             "outlinewidth": 0,
             "ticks": ""
            },
            "type": "mesh3d"
           }
          ],
          "parcoords": [
           {
            "line": {
             "colorbar": {
              "outlinewidth": 0,
              "ticks": ""
             }
            },
            "type": "parcoords"
           }
          ],
          "pie": [
           {
            "automargin": true,
            "type": "pie"
           }
          ],
          "scatter": [
           {
            "marker": {
             "colorbar": {
              "outlinewidth": 0,
              "ticks": ""
             }
            },
            "type": "scatter"
           }
          ],
          "scatter3d": [
           {
            "line": {
             "colorbar": {
              "outlinewidth": 0,
              "ticks": ""
             }
            },
            "marker": {
             "colorbar": {
              "outlinewidth": 0,
              "ticks": ""
             }
            },
            "type": "scatter3d"
           }
          ],
          "scattercarpet": [
           {
            "marker": {
             "colorbar": {
              "outlinewidth": 0,
              "ticks": ""
             }
            },
            "type": "scattercarpet"
           }
          ],
          "scattergeo": [
           {
            "marker": {
             "colorbar": {
              "outlinewidth": 0,
              "ticks": ""
             }
            },
            "type": "scattergeo"
           }
          ],
          "scattergl": [
           {
            "marker": {
             "colorbar": {
              "outlinewidth": 0,
              "ticks": ""
             }
            },
            "type": "scattergl"
           }
          ],
          "scattermapbox": [
           {
            "marker": {
             "colorbar": {
              "outlinewidth": 0,
              "ticks": ""
             }
            },
            "type": "scattermapbox"
           }
          ],
          "scatterpolar": [
           {
            "marker": {
             "colorbar": {
              "outlinewidth": 0,
              "ticks": ""
             }
            },
            "type": "scatterpolar"
           }
          ],
          "scatterpolargl": [
           {
            "marker": {
             "colorbar": {
              "outlinewidth": 0,
              "ticks": ""
             }
            },
            "type": "scatterpolargl"
           }
          ],
          "scatterternary": [
           {
            "marker": {
             "colorbar": {
              "outlinewidth": 0,
              "ticks": ""
             }
            },
            "type": "scatterternary"
           }
          ],
          "surface": [
           {
            "colorbar": {
             "outlinewidth": 0,
             "ticks": ""
            },
            "colorscale": [
             [
              0,
              "#0d0887"
             ],
             [
              0.1111111111111111,
              "#46039f"
             ],
             [
              0.2222222222222222,
              "#7201a8"
             ],
             [
              0.3333333333333333,
              "#9c179e"
             ],
             [
              0.4444444444444444,
              "#bd3786"
             ],
             [
              0.5555555555555556,
              "#d8576b"
             ],
             [
              0.6666666666666666,
              "#ed7953"
             ],
             [
              0.7777777777777778,
              "#fb9f3a"
             ],
             [
              0.8888888888888888,
              "#fdca26"
             ],
             [
              1,
              "#f0f921"
             ]
            ],
            "type": "surface"
           }
          ],
          "table": [
           {
            "cells": {
             "fill": {
              "color": "#EBF0F8"
             },
             "line": {
              "color": "white"
             }
            },
            "header": {
             "fill": {
              "color": "#C8D4E3"
             },
             "line": {
              "color": "white"
             }
            },
            "type": "table"
           }
          ]
         },
         "layout": {
          "annotationdefaults": {
           "arrowcolor": "#2a3f5f",
           "arrowhead": 0,
           "arrowwidth": 1
          },
          "coloraxis": {
           "colorbar": {
            "outlinewidth": 0,
            "ticks": ""
           }
          },
          "colorscale": {
           "diverging": [
            [
             0,
             "#8e0152"
            ],
            [
             0.1,
             "#c51b7d"
            ],
            [
             0.2,
             "#de77ae"
            ],
            [
             0.3,
             "#f1b6da"
            ],
            [
             0.4,
             "#fde0ef"
            ],
            [
             0.5,
             "#f7f7f7"
            ],
            [
             0.6,
             "#e6f5d0"
            ],
            [
             0.7,
             "#b8e186"
            ],
            [
             0.8,
             "#7fbc41"
            ],
            [
             0.9,
             "#4d9221"
            ],
            [
             1,
             "#276419"
            ]
           ],
           "sequential": [
            [
             0,
             "#0d0887"
            ],
            [
             0.1111111111111111,
             "#46039f"
            ],
            [
             0.2222222222222222,
             "#7201a8"
            ],
            [
             0.3333333333333333,
             "#9c179e"
            ],
            [
             0.4444444444444444,
             "#bd3786"
            ],
            [
             0.5555555555555556,
             "#d8576b"
            ],
            [
             0.6666666666666666,
             "#ed7953"
            ],
            [
             0.7777777777777778,
             "#fb9f3a"
            ],
            [
             0.8888888888888888,
             "#fdca26"
            ],
            [
             1,
             "#f0f921"
            ]
           ],
           "sequentialminus": [
            [
             0,
             "#0d0887"
            ],
            [
             0.1111111111111111,
             "#46039f"
            ],
            [
             0.2222222222222222,
             "#7201a8"
            ],
            [
             0.3333333333333333,
             "#9c179e"
            ],
            [
             0.4444444444444444,
             "#bd3786"
            ],
            [
             0.5555555555555556,
             "#d8576b"
            ],
            [
             0.6666666666666666,
             "#ed7953"
            ],
            [
             0.7777777777777778,
             "#fb9f3a"
            ],
            [
             0.8888888888888888,
             "#fdca26"
            ],
            [
             1,
             "#f0f921"
            ]
           ]
          },
          "colorway": [
           "#636efa",
           "#EF553B",
           "#00cc96",
           "#ab63fa",
           "#FFA15A",
           "#19d3f3",
           "#FF6692",
           "#B6E880",
           "#FF97FF",
           "#FECB52"
          ],
          "font": {
           "color": "#2a3f5f"
          },
          "geo": {
           "bgcolor": "white",
           "lakecolor": "white",
           "landcolor": "#E5ECF6",
           "showlakes": true,
           "showland": true,
           "subunitcolor": "white"
          },
          "hoverlabel": {
           "align": "left"
          },
          "hovermode": "closest",
          "mapbox": {
           "style": "light"
          },
          "paper_bgcolor": "white",
          "plot_bgcolor": "#E5ECF6",
          "polar": {
           "angularaxis": {
            "gridcolor": "white",
            "linecolor": "white",
            "ticks": ""
           },
           "bgcolor": "#E5ECF6",
           "radialaxis": {
            "gridcolor": "white",
            "linecolor": "white",
            "ticks": ""
           }
          },
          "scene": {
           "xaxis": {
            "backgroundcolor": "#E5ECF6",
            "gridcolor": "white",
            "gridwidth": 2,
            "linecolor": "white",
            "showbackground": true,
            "ticks": "",
            "zerolinecolor": "white"
           },
           "yaxis": {
            "backgroundcolor": "#E5ECF6",
            "gridcolor": "white",
            "gridwidth": 2,
            "linecolor": "white",
            "showbackground": true,
            "ticks": "",
            "zerolinecolor": "white"
           },
           "zaxis": {
            "backgroundcolor": "#E5ECF6",
            "gridcolor": "white",
            "gridwidth": 2,
            "linecolor": "white",
            "showbackground": true,
            "ticks": "",
            "zerolinecolor": "white"
           }
          },
          "shapedefaults": {
           "line": {
            "color": "#2a3f5f"
           }
          },
          "ternary": {
           "aaxis": {
            "gridcolor": "white",
            "linecolor": "white",
            "ticks": ""
           },
           "baxis": {
            "gridcolor": "white",
            "linecolor": "white",
            "ticks": ""
           },
           "bgcolor": "#E5ECF6",
           "caxis": {
            "gridcolor": "white",
            "linecolor": "white",
            "ticks": ""
           }
          },
          "title": {
           "x": 0.05
          },
          "xaxis": {
           "automargin": true,
           "gridcolor": "white",
           "linecolor": "white",
           "ticks": "",
           "title": {
            "standoff": 15
           },
           "zerolinecolor": "white",
           "zerolinewidth": 2
          },
          "yaxis": {
           "automargin": true,
           "gridcolor": "white",
           "linecolor": "white",
           "ticks": "",
           "title": {
            "standoff": 15
           },
           "zerolinecolor": "white",
           "zerolinewidth": 2
          }
         }
        },
        "title": {
         "font": {
          "color": "#4D5663"
         },
         "text": "Verteilung der Ausprägungen in y_train"
        },
        "xaxis": {
         "gridcolor": "#E1E5ED",
         "showgrid": true,
         "tickfont": {
          "color": "#4D5663"
         },
         "title": {
          "font": {
           "color": "#4D5663"
          },
          "text": ""
         },
         "zerolinecolor": "#E1E5ED"
        },
        "yaxis": {
         "gridcolor": "#E1E5ED",
         "showgrid": true,
         "tickfont": {
          "color": "#4D5663"
         },
         "title": {
          "font": {
           "color": "#4D5663"
          },
          "text": ""
         },
         "zerolinecolor": "#E1E5ED"
        }
       }
      },
      "text/html": [
       "<div>\n",
       "        \n",
       "        \n",
       "            <div id=\"e046757f-9067-4d0c-bd2b-dd2453601f04\" class=\"plotly-graph-div\" style=\"height:525px; width:100%;\"></div>\n",
       "            <script type=\"text/javascript\">\n",
       "                require([\"plotly\"], function(Plotly) {\n",
       "                    window.PLOTLYENV=window.PLOTLYENV || {};\n",
       "                    window.PLOTLYENV.BASE_URL='https://plot.ly';\n",
       "                    \n",
       "                if (document.getElementById(\"e046757f-9067-4d0c-bd2b-dd2453601f04\")) {\n",
       "                    Plotly.newPlot(\n",
       "                        'e046757f-9067-4d0c-bd2b-dd2453601f04',\n",
       "                        [{\"marker\": {\"color\": \"rgba(255, 153, 51, 0.6)\", \"line\": {\"color\": \"rgba(255, 153, 51, 1.0)\", \"width\": 1}}, \"name\": \"0\", \"orientation\": \"v\", \"text\": \"\", \"type\": \"bar\", \"x\": [1, 7, 3, 2, 9, 0, 6, 8, 4, 5], \"y\": [6742, 6265, 6131, 5958, 5949, 5923, 5918, 5851, 5842, 5421]}],\n",
       "                        {\"barmode\": \"stack\", \"legend\": {\"bgcolor\": \"#F5F6F9\", \"font\": {\"color\": \"#4D5663\"}, \"traceorder\": \"normal\"}, \"paper_bgcolor\": \"#F5F6F9\", \"plot_bgcolor\": \"#F5F6F9\", \"template\": {\"data\": {\"bar\": [{\"error_x\": {\"color\": \"#2a3f5f\"}, \"error_y\": {\"color\": \"#2a3f5f\"}, \"marker\": {\"line\": {\"color\": \"#E5ECF6\", \"width\": 0.5}}, \"type\": \"bar\"}], \"barpolar\": [{\"marker\": {\"line\": {\"color\": \"#E5ECF6\", \"width\": 0.5}}, \"type\": \"barpolar\"}], \"carpet\": [{\"aaxis\": {\"endlinecolor\": \"#2a3f5f\", \"gridcolor\": \"white\", \"linecolor\": \"white\", \"minorgridcolor\": \"white\", \"startlinecolor\": \"#2a3f5f\"}, \"baxis\": {\"endlinecolor\": \"#2a3f5f\", \"gridcolor\": \"white\", \"linecolor\": \"white\", \"minorgridcolor\": \"white\", \"startlinecolor\": \"#2a3f5f\"}, \"type\": \"carpet\"}], \"choropleth\": [{\"colorbar\": {\"outlinewidth\": 0, \"ticks\": \"\"}, \"type\": \"choropleth\"}], \"contour\": [{\"colorbar\": {\"outlinewidth\": 0, \"ticks\": \"\"}, \"colorscale\": [[0.0, \"#0d0887\"], [0.1111111111111111, \"#46039f\"], [0.2222222222222222, \"#7201a8\"], [0.3333333333333333, \"#9c179e\"], [0.4444444444444444, \"#bd3786\"], [0.5555555555555556, \"#d8576b\"], [0.6666666666666666, \"#ed7953\"], [0.7777777777777778, \"#fb9f3a\"], [0.8888888888888888, \"#fdca26\"], [1.0, \"#f0f921\"]], \"type\": \"contour\"}], \"contourcarpet\": [{\"colorbar\": {\"outlinewidth\": 0, \"ticks\": \"\"}, \"type\": \"contourcarpet\"}], \"heatmap\": [{\"colorbar\": {\"outlinewidth\": 0, \"ticks\": \"\"}, \"colorscale\": [[0.0, \"#0d0887\"], [0.1111111111111111, \"#46039f\"], [0.2222222222222222, \"#7201a8\"], [0.3333333333333333, \"#9c179e\"], [0.4444444444444444, \"#bd3786\"], [0.5555555555555556, \"#d8576b\"], [0.6666666666666666, \"#ed7953\"], [0.7777777777777778, \"#fb9f3a\"], [0.8888888888888888, \"#fdca26\"], [1.0, \"#f0f921\"]], \"type\": \"heatmap\"}], \"heatmapgl\": [{\"colorbar\": {\"outlinewidth\": 0, \"ticks\": \"\"}, \"colorscale\": [[0.0, \"#0d0887\"], [0.1111111111111111, \"#46039f\"], [0.2222222222222222, \"#7201a8\"], [0.3333333333333333, \"#9c179e\"], [0.4444444444444444, \"#bd3786\"], [0.5555555555555556, \"#d8576b\"], [0.6666666666666666, \"#ed7953\"], [0.7777777777777778, \"#fb9f3a\"], [0.8888888888888888, \"#fdca26\"], [1.0, \"#f0f921\"]], \"type\": \"heatmapgl\"}], \"histogram\": [{\"marker\": {\"colorbar\": {\"outlinewidth\": 0, \"ticks\": \"\"}}, \"type\": \"histogram\"}], \"histogram2d\": [{\"colorbar\": {\"outlinewidth\": 0, \"ticks\": \"\"}, \"colorscale\": [[0.0, \"#0d0887\"], [0.1111111111111111, \"#46039f\"], [0.2222222222222222, \"#7201a8\"], [0.3333333333333333, \"#9c179e\"], [0.4444444444444444, \"#bd3786\"], [0.5555555555555556, \"#d8576b\"], [0.6666666666666666, \"#ed7953\"], [0.7777777777777778, \"#fb9f3a\"], [0.8888888888888888, \"#fdca26\"], [1.0, \"#f0f921\"]], \"type\": \"histogram2d\"}], \"histogram2dcontour\": [{\"colorbar\": {\"outlinewidth\": 0, \"ticks\": \"\"}, \"colorscale\": [[0.0, \"#0d0887\"], [0.1111111111111111, \"#46039f\"], [0.2222222222222222, \"#7201a8\"], [0.3333333333333333, \"#9c179e\"], [0.4444444444444444, \"#bd3786\"], [0.5555555555555556, \"#d8576b\"], [0.6666666666666666, \"#ed7953\"], [0.7777777777777778, \"#fb9f3a\"], [0.8888888888888888, \"#fdca26\"], [1.0, \"#f0f921\"]], \"type\": \"histogram2dcontour\"}], \"mesh3d\": [{\"colorbar\": {\"outlinewidth\": 0, \"ticks\": \"\"}, \"type\": \"mesh3d\"}], \"parcoords\": [{\"line\": {\"colorbar\": {\"outlinewidth\": 0, \"ticks\": \"\"}}, \"type\": \"parcoords\"}], \"pie\": [{\"automargin\": true, \"type\": \"pie\"}], \"scatter\": [{\"marker\": {\"colorbar\": {\"outlinewidth\": 0, \"ticks\": \"\"}}, \"type\": \"scatter\"}], \"scatter3d\": [{\"line\": {\"colorbar\": {\"outlinewidth\": 0, \"ticks\": \"\"}}, \"marker\": {\"colorbar\": {\"outlinewidth\": 0, \"ticks\": \"\"}}, \"type\": \"scatter3d\"}], \"scattercarpet\": [{\"marker\": {\"colorbar\": {\"outlinewidth\": 0, \"ticks\": \"\"}}, \"type\": \"scattercarpet\"}], \"scattergeo\": [{\"marker\": {\"colorbar\": {\"outlinewidth\": 0, \"ticks\": \"\"}}, \"type\": \"scattergeo\"}], \"scattergl\": [{\"marker\": {\"colorbar\": {\"outlinewidth\": 0, \"ticks\": \"\"}}, \"type\": \"scattergl\"}], \"scattermapbox\": [{\"marker\": {\"colorbar\": {\"outlinewidth\": 0, \"ticks\": \"\"}}, \"type\": \"scattermapbox\"}], \"scatterpolar\": [{\"marker\": {\"colorbar\": {\"outlinewidth\": 0, \"ticks\": \"\"}}, \"type\": \"scatterpolar\"}], \"scatterpolargl\": [{\"marker\": {\"colorbar\": {\"outlinewidth\": 0, \"ticks\": \"\"}}, \"type\": \"scatterpolargl\"}], \"scatterternary\": [{\"marker\": {\"colorbar\": {\"outlinewidth\": 0, \"ticks\": \"\"}}, \"type\": \"scatterternary\"}], \"surface\": [{\"colorbar\": {\"outlinewidth\": 0, \"ticks\": \"\"}, \"colorscale\": [[0.0, \"#0d0887\"], [0.1111111111111111, \"#46039f\"], [0.2222222222222222, \"#7201a8\"], [0.3333333333333333, \"#9c179e\"], [0.4444444444444444, \"#bd3786\"], [0.5555555555555556, \"#d8576b\"], [0.6666666666666666, \"#ed7953\"], [0.7777777777777778, \"#fb9f3a\"], [0.8888888888888888, \"#fdca26\"], [1.0, \"#f0f921\"]], \"type\": \"surface\"}], \"table\": [{\"cells\": {\"fill\": {\"color\": \"#EBF0F8\"}, \"line\": {\"color\": \"white\"}}, \"header\": {\"fill\": {\"color\": \"#C8D4E3\"}, \"line\": {\"color\": \"white\"}}, \"type\": \"table\"}]}, \"layout\": {\"annotationdefaults\": {\"arrowcolor\": \"#2a3f5f\", \"arrowhead\": 0, \"arrowwidth\": 1}, \"coloraxis\": {\"colorbar\": {\"outlinewidth\": 0, \"ticks\": \"\"}}, \"colorscale\": {\"diverging\": [[0, \"#8e0152\"], [0.1, \"#c51b7d\"], [0.2, \"#de77ae\"], [0.3, \"#f1b6da\"], [0.4, \"#fde0ef\"], [0.5, \"#f7f7f7\"], [0.6, \"#e6f5d0\"], [0.7, \"#b8e186\"], [0.8, \"#7fbc41\"], [0.9, \"#4d9221\"], [1, \"#276419\"]], \"sequential\": [[0.0, \"#0d0887\"], [0.1111111111111111, \"#46039f\"], [0.2222222222222222, \"#7201a8\"], [0.3333333333333333, \"#9c179e\"], [0.4444444444444444, \"#bd3786\"], [0.5555555555555556, \"#d8576b\"], [0.6666666666666666, \"#ed7953\"], [0.7777777777777778, \"#fb9f3a\"], [0.8888888888888888, \"#fdca26\"], [1.0, \"#f0f921\"]], \"sequentialminus\": [[0.0, \"#0d0887\"], [0.1111111111111111, \"#46039f\"], [0.2222222222222222, \"#7201a8\"], [0.3333333333333333, \"#9c179e\"], [0.4444444444444444, \"#bd3786\"], [0.5555555555555556, \"#d8576b\"], [0.6666666666666666, \"#ed7953\"], [0.7777777777777778, \"#fb9f3a\"], [0.8888888888888888, \"#fdca26\"], [1.0, \"#f0f921\"]]}, \"colorway\": [\"#636efa\", \"#EF553B\", \"#00cc96\", \"#ab63fa\", \"#FFA15A\", \"#19d3f3\", \"#FF6692\", \"#B6E880\", \"#FF97FF\", \"#FECB52\"], \"font\": {\"color\": \"#2a3f5f\"}, \"geo\": {\"bgcolor\": \"white\", \"lakecolor\": \"white\", \"landcolor\": \"#E5ECF6\", \"showlakes\": true, \"showland\": true, \"subunitcolor\": \"white\"}, \"hoverlabel\": {\"align\": \"left\"}, \"hovermode\": \"closest\", \"mapbox\": {\"style\": \"light\"}, \"paper_bgcolor\": \"white\", \"plot_bgcolor\": \"#E5ECF6\", \"polar\": {\"angularaxis\": {\"gridcolor\": \"white\", \"linecolor\": \"white\", \"ticks\": \"\"}, \"bgcolor\": \"#E5ECF6\", \"radialaxis\": {\"gridcolor\": \"white\", \"linecolor\": \"white\", \"ticks\": \"\"}}, \"scene\": {\"xaxis\": {\"backgroundcolor\": \"#E5ECF6\", \"gridcolor\": \"white\", \"gridwidth\": 2, \"linecolor\": \"white\", \"showbackground\": true, \"ticks\": \"\", \"zerolinecolor\": \"white\"}, \"yaxis\": {\"backgroundcolor\": \"#E5ECF6\", \"gridcolor\": \"white\", \"gridwidth\": 2, \"linecolor\": \"white\", \"showbackground\": true, \"ticks\": \"\", \"zerolinecolor\": \"white\"}, \"zaxis\": {\"backgroundcolor\": \"#E5ECF6\", \"gridcolor\": \"white\", \"gridwidth\": 2, \"linecolor\": \"white\", \"showbackground\": true, \"ticks\": \"\", \"zerolinecolor\": \"white\"}}, \"shapedefaults\": {\"line\": {\"color\": \"#2a3f5f\"}}, \"ternary\": {\"aaxis\": {\"gridcolor\": \"white\", \"linecolor\": \"white\", \"ticks\": \"\"}, \"baxis\": {\"gridcolor\": \"white\", \"linecolor\": \"white\", \"ticks\": \"\"}, \"bgcolor\": \"#E5ECF6\", \"caxis\": {\"gridcolor\": \"white\", \"linecolor\": \"white\", \"ticks\": \"\"}}, \"title\": {\"x\": 0.05}, \"xaxis\": {\"automargin\": true, \"gridcolor\": \"white\", \"linecolor\": \"white\", \"ticks\": \"\", \"title\": {\"standoff\": 15}, \"zerolinecolor\": \"white\", \"zerolinewidth\": 2}, \"yaxis\": {\"automargin\": true, \"gridcolor\": \"white\", \"linecolor\": \"white\", \"ticks\": \"\", \"title\": {\"standoff\": 15}, \"zerolinecolor\": \"white\", \"zerolinewidth\": 2}}}, \"title\": {\"font\": {\"color\": \"#4D5663\"}, \"text\": \"Verteilung der Auspr\\u00e4gungen in y_train\"}, \"xaxis\": {\"gridcolor\": \"#E1E5ED\", \"showgrid\": true, \"tickfont\": {\"color\": \"#4D5663\"}, \"title\": {\"font\": {\"color\": \"#4D5663\"}, \"text\": \"\"}, \"zerolinecolor\": \"#E1E5ED\"}, \"yaxis\": {\"gridcolor\": \"#E1E5ED\", \"showgrid\": true, \"tickfont\": {\"color\": \"#4D5663\"}, \"title\": {\"font\": {\"color\": \"#4D5663\"}, \"text\": \"\"}, \"zerolinecolor\": \"#E1E5ED\"}},\n",
       "                        {\"showLink\": true, \"linkText\": \"Export to plot.ly\", \"plotlyServerURL\": \"https://plot.ly\", \"responsive\": true}\n",
       "                    ).then(function(){\n",
       "                            \n",
       "var gd = document.getElementById('e046757f-9067-4d0c-bd2b-dd2453601f04');\n",
       "var x = new MutationObserver(function (mutations, observer) {{\n",
       "        var display = window.getComputedStyle(gd).display;\n",
       "        if (!display || display === 'none') {{\n",
       "            console.log([gd, 'removed!']);\n",
       "            Plotly.purge(gd);\n",
       "            observer.disconnect();\n",
       "        }}\n",
       "}});\n",
       "\n",
       "// Listen for the removal of the full notebook cells\n",
       "var notebookContainer = gd.closest('#notebook-container');\n",
       "if (notebookContainer) {{\n",
       "    x.observe(notebookContainer, {childList: true});\n",
       "}}\n",
       "\n",
       "// Listen for the clearing of the current output cell\n",
       "var outputEl = gd.closest('.output');\n",
       "if (outputEl) {{\n",
       "    x.observe(outputEl, {childList: true});\n",
       "}}\n",
       "\n",
       "                        })\n",
       "                };\n",
       "                });\n",
       "            </script>\n",
       "        </div>"
      ]
     },
     "metadata": {},
     "output_type": "display_data"
    }
   ],
   "source": [
    "#\n",
    "# Histogram of class counts (digits)\n",
    "#\n",
    "y_train_df = pd.DataFrame(y_train)\n",
    "y_train_df = y_train_df[0].value_counts()\n",
    "y_train_df.iplot(kind='bar',barmode='stack', title='Verteilung der Ausprägungen in y_train')"
   ]
  },
  {
   "cell_type": "code",
   "execution_count": 14,
   "metadata": {},
   "outputs": [
    {
     "name": "stdout",
     "output_type": "stream",
     "text": [
      "Relative Verteilung der Klassen innerhalb der TEST-Data\n",
      "0     9.871667\n",
      "1    11.236667\n",
      "2     9.930000\n",
      "3    10.218333\n",
      "4     9.736667\n",
      "5     9.035000\n",
      "6     9.863333\n",
      "7    10.441667\n",
      "8     9.751667\n",
      "9     9.915000\n",
      "dtype: float64\n"
     ]
    }
   ],
   "source": [
    "y_train_df = pd.DataFrame(y_train)\n",
    "print(\"Relative Verteilung der Klassen innerhalb der Train-Data\")\n",
    "yTrainRel = ((y_train_df.value_counts(normalize=True) * 100).sort_index())\n",
    "print(yTrainRel)"
   ]
  },
  {
   "cell_type": "code",
   "execution_count": 15,
   "metadata": {},
   "outputs": [
    {
     "data": {
      "application/vnd.plotly.v1+json": {
       "config": {
        "linkText": "Export to plot.ly",
        "plotlyServerURL": "https://plot.ly",
        "showLink": true
       },
       "data": [
        {
         "marker": {
          "color": "rgba(255, 153, 51, 0.6)",
          "line": {
           "color": "rgba(255, 153, 51, 1.0)",
           "width": 1
          }
         },
         "name": "0",
         "orientation": "v",
         "text": "",
         "type": "bar",
         "x": [
          1,
          2,
          7,
          3,
          9,
          4,
          0,
          8,
          6,
          5
         ],
         "y": [
          1135,
          1032,
          1028,
          1010,
          1009,
          982,
          980,
          974,
          958,
          892
         ]
        }
       ],
       "layout": {
        "barmode": "stack",
        "legend": {
         "bgcolor": "#F5F6F9",
         "font": {
          "color": "#4D5663"
         },
         "traceorder": "normal"
        },
        "paper_bgcolor": "#F5F6F9",
        "plot_bgcolor": "#F5F6F9",
        "template": {
         "data": {
          "bar": [
           {
            "error_x": {
             "color": "#2a3f5f"
            },
            "error_y": {
             "color": "#2a3f5f"
            },
            "marker": {
             "line": {
              "color": "#E5ECF6",
              "width": 0.5
             }
            },
            "type": "bar"
           }
          ],
          "barpolar": [
           {
            "marker": {
             "line": {
              "color": "#E5ECF6",
              "width": 0.5
             }
            },
            "type": "barpolar"
           }
          ],
          "carpet": [
           {
            "aaxis": {
             "endlinecolor": "#2a3f5f",
             "gridcolor": "white",
             "linecolor": "white",
             "minorgridcolor": "white",
             "startlinecolor": "#2a3f5f"
            },
            "baxis": {
             "endlinecolor": "#2a3f5f",
             "gridcolor": "white",
             "linecolor": "white",
             "minorgridcolor": "white",
             "startlinecolor": "#2a3f5f"
            },
            "type": "carpet"
           }
          ],
          "choropleth": [
           {
            "colorbar": {
             "outlinewidth": 0,
             "ticks": ""
            },
            "type": "choropleth"
           }
          ],
          "contour": [
           {
            "colorbar": {
             "outlinewidth": 0,
             "ticks": ""
            },
            "colorscale": [
             [
              0,
              "#0d0887"
             ],
             [
              0.1111111111111111,
              "#46039f"
             ],
             [
              0.2222222222222222,
              "#7201a8"
             ],
             [
              0.3333333333333333,
              "#9c179e"
             ],
             [
              0.4444444444444444,
              "#bd3786"
             ],
             [
              0.5555555555555556,
              "#d8576b"
             ],
             [
              0.6666666666666666,
              "#ed7953"
             ],
             [
              0.7777777777777778,
              "#fb9f3a"
             ],
             [
              0.8888888888888888,
              "#fdca26"
             ],
             [
              1,
              "#f0f921"
             ]
            ],
            "type": "contour"
           }
          ],
          "contourcarpet": [
           {
            "colorbar": {
             "outlinewidth": 0,
             "ticks": ""
            },
            "type": "contourcarpet"
           }
          ],
          "heatmap": [
           {
            "colorbar": {
             "outlinewidth": 0,
             "ticks": ""
            },
            "colorscale": [
             [
              0,
              "#0d0887"
             ],
             [
              0.1111111111111111,
              "#46039f"
             ],
             [
              0.2222222222222222,
              "#7201a8"
             ],
             [
              0.3333333333333333,
              "#9c179e"
             ],
             [
              0.4444444444444444,
              "#bd3786"
             ],
             [
              0.5555555555555556,
              "#d8576b"
             ],
             [
              0.6666666666666666,
              "#ed7953"
             ],
             [
              0.7777777777777778,
              "#fb9f3a"
             ],
             [
              0.8888888888888888,
              "#fdca26"
             ],
             [
              1,
              "#f0f921"
             ]
            ],
            "type": "heatmap"
           }
          ],
          "heatmapgl": [
           {
            "colorbar": {
             "outlinewidth": 0,
             "ticks": ""
            },
            "colorscale": [
             [
              0,
              "#0d0887"
             ],
             [
              0.1111111111111111,
              "#46039f"
             ],
             [
              0.2222222222222222,
              "#7201a8"
             ],
             [
              0.3333333333333333,
              "#9c179e"
             ],
             [
              0.4444444444444444,
              "#bd3786"
             ],
             [
              0.5555555555555556,
              "#d8576b"
             ],
             [
              0.6666666666666666,
              "#ed7953"
             ],
             [
              0.7777777777777778,
              "#fb9f3a"
             ],
             [
              0.8888888888888888,
              "#fdca26"
             ],
             [
              1,
              "#f0f921"
             ]
            ],
            "type": "heatmapgl"
           }
          ],
          "histogram": [
           {
            "marker": {
             "colorbar": {
              "outlinewidth": 0,
              "ticks": ""
             }
            },
            "type": "histogram"
           }
          ],
          "histogram2d": [
           {
            "colorbar": {
             "outlinewidth": 0,
             "ticks": ""
            },
            "colorscale": [
             [
              0,
              "#0d0887"
             ],
             [
              0.1111111111111111,
              "#46039f"
             ],
             [
              0.2222222222222222,
              "#7201a8"
             ],
             [
              0.3333333333333333,
              "#9c179e"
             ],
             [
              0.4444444444444444,
              "#bd3786"
             ],
             [
              0.5555555555555556,
              "#d8576b"
             ],
             [
              0.6666666666666666,
              "#ed7953"
             ],
             [
              0.7777777777777778,
              "#fb9f3a"
             ],
             [
              0.8888888888888888,
              "#fdca26"
             ],
             [
              1,
              "#f0f921"
             ]
            ],
            "type": "histogram2d"
           }
          ],
          "histogram2dcontour": [
           {
            "colorbar": {
             "outlinewidth": 0,
             "ticks": ""
            },
            "colorscale": [
             [
              0,
              "#0d0887"
             ],
             [
              0.1111111111111111,
              "#46039f"
             ],
             [
              0.2222222222222222,
              "#7201a8"
             ],
             [
              0.3333333333333333,
              "#9c179e"
             ],
             [
              0.4444444444444444,
              "#bd3786"
             ],
             [
              0.5555555555555556,
              "#d8576b"
             ],
             [
              0.6666666666666666,
              "#ed7953"
             ],
             [
              0.7777777777777778,
              "#fb9f3a"
             ],
             [
              0.8888888888888888,
              "#fdca26"
             ],
             [
              1,
              "#f0f921"
             ]
            ],
            "type": "histogram2dcontour"
           }
          ],
          "mesh3d": [
           {
            "colorbar": {
             "outlinewidth": 0,
             "ticks": ""
            },
            "type": "mesh3d"
           }
          ],
          "parcoords": [
           {
            "line": {
             "colorbar": {
              "outlinewidth": 0,
              "ticks": ""
             }
            },
            "type": "parcoords"
           }
          ],
          "pie": [
           {
            "automargin": true,
            "type": "pie"
           }
          ],
          "scatter": [
           {
            "marker": {
             "colorbar": {
              "outlinewidth": 0,
              "ticks": ""
             }
            },
            "type": "scatter"
           }
          ],
          "scatter3d": [
           {
            "line": {
             "colorbar": {
              "outlinewidth": 0,
              "ticks": ""
             }
            },
            "marker": {
             "colorbar": {
              "outlinewidth": 0,
              "ticks": ""
             }
            },
            "type": "scatter3d"
           }
          ],
          "scattercarpet": [
           {
            "marker": {
             "colorbar": {
              "outlinewidth": 0,
              "ticks": ""
             }
            },
            "type": "scattercarpet"
           }
          ],
          "scattergeo": [
           {
            "marker": {
             "colorbar": {
              "outlinewidth": 0,
              "ticks": ""
             }
            },
            "type": "scattergeo"
           }
          ],
          "scattergl": [
           {
            "marker": {
             "colorbar": {
              "outlinewidth": 0,
              "ticks": ""
             }
            },
            "type": "scattergl"
           }
          ],
          "scattermapbox": [
           {
            "marker": {
             "colorbar": {
              "outlinewidth": 0,
              "ticks": ""
             }
            },
            "type": "scattermapbox"
           }
          ],
          "scatterpolar": [
           {
            "marker": {
             "colorbar": {
              "outlinewidth": 0,
              "ticks": ""
             }
            },
            "type": "scatterpolar"
           }
          ],
          "scatterpolargl": [
           {
            "marker": {
             "colorbar": {
              "outlinewidth": 0,
              "ticks": ""
             }
            },
            "type": "scatterpolargl"
           }
          ],
          "scatterternary": [
           {
            "marker": {
             "colorbar": {
              "outlinewidth": 0,
              "ticks": ""
             }
            },
            "type": "scatterternary"
           }
          ],
          "surface": [
           {
            "colorbar": {
             "outlinewidth": 0,
             "ticks": ""
            },
            "colorscale": [
             [
              0,
              "#0d0887"
             ],
             [
              0.1111111111111111,
              "#46039f"
             ],
             [
              0.2222222222222222,
              "#7201a8"
             ],
             [
              0.3333333333333333,
              "#9c179e"
             ],
             [
              0.4444444444444444,
              "#bd3786"
             ],
             [
              0.5555555555555556,
              "#d8576b"
             ],
             [
              0.6666666666666666,
              "#ed7953"
             ],
             [
              0.7777777777777778,
              "#fb9f3a"
             ],
             [
              0.8888888888888888,
              "#fdca26"
             ],
             [
              1,
              "#f0f921"
             ]
            ],
            "type": "surface"
           }
          ],
          "table": [
           {
            "cells": {
             "fill": {
              "color": "#EBF0F8"
             },
             "line": {
              "color": "white"
             }
            },
            "header": {
             "fill": {
              "color": "#C8D4E3"
             },
             "line": {
              "color": "white"
             }
            },
            "type": "table"
           }
          ]
         },
         "layout": {
          "annotationdefaults": {
           "arrowcolor": "#2a3f5f",
           "arrowhead": 0,
           "arrowwidth": 1
          },
          "coloraxis": {
           "colorbar": {
            "outlinewidth": 0,
            "ticks": ""
           }
          },
          "colorscale": {
           "diverging": [
            [
             0,
             "#8e0152"
            ],
            [
             0.1,
             "#c51b7d"
            ],
            [
             0.2,
             "#de77ae"
            ],
            [
             0.3,
             "#f1b6da"
            ],
            [
             0.4,
             "#fde0ef"
            ],
            [
             0.5,
             "#f7f7f7"
            ],
            [
             0.6,
             "#e6f5d0"
            ],
            [
             0.7,
             "#b8e186"
            ],
            [
             0.8,
             "#7fbc41"
            ],
            [
             0.9,
             "#4d9221"
            ],
            [
             1,
             "#276419"
            ]
           ],
           "sequential": [
            [
             0,
             "#0d0887"
            ],
            [
             0.1111111111111111,
             "#46039f"
            ],
            [
             0.2222222222222222,
             "#7201a8"
            ],
            [
             0.3333333333333333,
             "#9c179e"
            ],
            [
             0.4444444444444444,
             "#bd3786"
            ],
            [
             0.5555555555555556,
             "#d8576b"
            ],
            [
             0.6666666666666666,
             "#ed7953"
            ],
            [
             0.7777777777777778,
             "#fb9f3a"
            ],
            [
             0.8888888888888888,
             "#fdca26"
            ],
            [
             1,
             "#f0f921"
            ]
           ],
           "sequentialminus": [
            [
             0,
             "#0d0887"
            ],
            [
             0.1111111111111111,
             "#46039f"
            ],
            [
             0.2222222222222222,
             "#7201a8"
            ],
            [
             0.3333333333333333,
             "#9c179e"
            ],
            [
             0.4444444444444444,
             "#bd3786"
            ],
            [
             0.5555555555555556,
             "#d8576b"
            ],
            [
             0.6666666666666666,
             "#ed7953"
            ],
            [
             0.7777777777777778,
             "#fb9f3a"
            ],
            [
             0.8888888888888888,
             "#fdca26"
            ],
            [
             1,
             "#f0f921"
            ]
           ]
          },
          "colorway": [
           "#636efa",
           "#EF553B",
           "#00cc96",
           "#ab63fa",
           "#FFA15A",
           "#19d3f3",
           "#FF6692",
           "#B6E880",
           "#FF97FF",
           "#FECB52"
          ],
          "font": {
           "color": "#2a3f5f"
          },
          "geo": {
           "bgcolor": "white",
           "lakecolor": "white",
           "landcolor": "#E5ECF6",
           "showlakes": true,
           "showland": true,
           "subunitcolor": "white"
          },
          "hoverlabel": {
           "align": "left"
          },
          "hovermode": "closest",
          "mapbox": {
           "style": "light"
          },
          "paper_bgcolor": "white",
          "plot_bgcolor": "#E5ECF6",
          "polar": {
           "angularaxis": {
            "gridcolor": "white",
            "linecolor": "white",
            "ticks": ""
           },
           "bgcolor": "#E5ECF6",
           "radialaxis": {
            "gridcolor": "white",
            "linecolor": "white",
            "ticks": ""
           }
          },
          "scene": {
           "xaxis": {
            "backgroundcolor": "#E5ECF6",
            "gridcolor": "white",
            "gridwidth": 2,
            "linecolor": "white",
            "showbackground": true,
            "ticks": "",
            "zerolinecolor": "white"
           },
           "yaxis": {
            "backgroundcolor": "#E5ECF6",
            "gridcolor": "white",
            "gridwidth": 2,
            "linecolor": "white",
            "showbackground": true,
            "ticks": "",
            "zerolinecolor": "white"
           },
           "zaxis": {
            "backgroundcolor": "#E5ECF6",
            "gridcolor": "white",
            "gridwidth": 2,
            "linecolor": "white",
            "showbackground": true,
            "ticks": "",
            "zerolinecolor": "white"
           }
          },
          "shapedefaults": {
           "line": {
            "color": "#2a3f5f"
           }
          },
          "ternary": {
           "aaxis": {
            "gridcolor": "white",
            "linecolor": "white",
            "ticks": ""
           },
           "baxis": {
            "gridcolor": "white",
            "linecolor": "white",
            "ticks": ""
           },
           "bgcolor": "#E5ECF6",
           "caxis": {
            "gridcolor": "white",
            "linecolor": "white",
            "ticks": ""
           }
          },
          "title": {
           "x": 0.05
          },
          "xaxis": {
           "automargin": true,
           "gridcolor": "white",
           "linecolor": "white",
           "ticks": "",
           "title": {
            "standoff": 15
           },
           "zerolinecolor": "white",
           "zerolinewidth": 2
          },
          "yaxis": {
           "automargin": true,
           "gridcolor": "white",
           "linecolor": "white",
           "ticks": "",
           "title": {
            "standoff": 15
           },
           "zerolinecolor": "white",
           "zerolinewidth": 2
          }
         }
        },
        "title": {
         "font": {
          "color": "#4D5663"
         },
         "text": "Verteilung der Ausprägungen in y_test"
        },
        "xaxis": {
         "gridcolor": "#E1E5ED",
         "showgrid": true,
         "tickfont": {
          "color": "#4D5663"
         },
         "title": {
          "font": {
           "color": "#4D5663"
          },
          "text": ""
         },
         "zerolinecolor": "#E1E5ED"
        },
        "yaxis": {
         "gridcolor": "#E1E5ED",
         "showgrid": true,
         "tickfont": {
          "color": "#4D5663"
         },
         "title": {
          "font": {
           "color": "#4D5663"
          },
          "text": ""
         },
         "zerolinecolor": "#E1E5ED"
        }
       }
      },
      "text/html": [
       "<div>\n",
       "        \n",
       "        \n",
       "            <div id=\"312fe46c-2858-4f1a-9a69-54c09369fc25\" class=\"plotly-graph-div\" style=\"height:525px; width:100%;\"></div>\n",
       "            <script type=\"text/javascript\">\n",
       "                require([\"plotly\"], function(Plotly) {\n",
       "                    window.PLOTLYENV=window.PLOTLYENV || {};\n",
       "                    window.PLOTLYENV.BASE_URL='https://plot.ly';\n",
       "                    \n",
       "                if (document.getElementById(\"312fe46c-2858-4f1a-9a69-54c09369fc25\")) {\n",
       "                    Plotly.newPlot(\n",
       "                        '312fe46c-2858-4f1a-9a69-54c09369fc25',\n",
       "                        [{\"marker\": {\"color\": \"rgba(255, 153, 51, 0.6)\", \"line\": {\"color\": \"rgba(255, 153, 51, 1.0)\", \"width\": 1}}, \"name\": \"0\", \"orientation\": \"v\", \"text\": \"\", \"type\": \"bar\", \"x\": [1, 2, 7, 3, 9, 4, 0, 8, 6, 5], \"y\": [1135, 1032, 1028, 1010, 1009, 982, 980, 974, 958, 892]}],\n",
       "                        {\"barmode\": \"stack\", \"legend\": {\"bgcolor\": \"#F5F6F9\", \"font\": {\"color\": \"#4D5663\"}, \"traceorder\": \"normal\"}, \"paper_bgcolor\": \"#F5F6F9\", \"plot_bgcolor\": \"#F5F6F9\", \"template\": {\"data\": {\"bar\": [{\"error_x\": {\"color\": \"#2a3f5f\"}, \"error_y\": {\"color\": \"#2a3f5f\"}, \"marker\": {\"line\": {\"color\": \"#E5ECF6\", \"width\": 0.5}}, \"type\": \"bar\"}], \"barpolar\": [{\"marker\": {\"line\": {\"color\": \"#E5ECF6\", \"width\": 0.5}}, \"type\": \"barpolar\"}], \"carpet\": [{\"aaxis\": {\"endlinecolor\": \"#2a3f5f\", \"gridcolor\": \"white\", \"linecolor\": \"white\", \"minorgridcolor\": \"white\", \"startlinecolor\": \"#2a3f5f\"}, \"baxis\": {\"endlinecolor\": \"#2a3f5f\", \"gridcolor\": \"white\", \"linecolor\": \"white\", \"minorgridcolor\": \"white\", \"startlinecolor\": \"#2a3f5f\"}, \"type\": \"carpet\"}], \"choropleth\": [{\"colorbar\": {\"outlinewidth\": 0, \"ticks\": \"\"}, \"type\": \"choropleth\"}], \"contour\": [{\"colorbar\": {\"outlinewidth\": 0, \"ticks\": \"\"}, \"colorscale\": [[0.0, \"#0d0887\"], [0.1111111111111111, \"#46039f\"], [0.2222222222222222, \"#7201a8\"], [0.3333333333333333, \"#9c179e\"], [0.4444444444444444, \"#bd3786\"], [0.5555555555555556, \"#d8576b\"], [0.6666666666666666, \"#ed7953\"], [0.7777777777777778, \"#fb9f3a\"], [0.8888888888888888, \"#fdca26\"], [1.0, \"#f0f921\"]], \"type\": \"contour\"}], \"contourcarpet\": [{\"colorbar\": {\"outlinewidth\": 0, \"ticks\": \"\"}, \"type\": \"contourcarpet\"}], \"heatmap\": [{\"colorbar\": {\"outlinewidth\": 0, \"ticks\": \"\"}, \"colorscale\": [[0.0, \"#0d0887\"], [0.1111111111111111, \"#46039f\"], [0.2222222222222222, \"#7201a8\"], [0.3333333333333333, \"#9c179e\"], [0.4444444444444444, \"#bd3786\"], [0.5555555555555556, \"#d8576b\"], [0.6666666666666666, \"#ed7953\"], [0.7777777777777778, \"#fb9f3a\"], [0.8888888888888888, \"#fdca26\"], [1.0, \"#f0f921\"]], \"type\": \"heatmap\"}], \"heatmapgl\": [{\"colorbar\": {\"outlinewidth\": 0, \"ticks\": \"\"}, \"colorscale\": [[0.0, \"#0d0887\"], [0.1111111111111111, \"#46039f\"], [0.2222222222222222, \"#7201a8\"], [0.3333333333333333, \"#9c179e\"], [0.4444444444444444, \"#bd3786\"], [0.5555555555555556, \"#d8576b\"], [0.6666666666666666, \"#ed7953\"], [0.7777777777777778, \"#fb9f3a\"], [0.8888888888888888, \"#fdca26\"], [1.0, \"#f0f921\"]], \"type\": \"heatmapgl\"}], \"histogram\": [{\"marker\": {\"colorbar\": {\"outlinewidth\": 0, \"ticks\": \"\"}}, \"type\": \"histogram\"}], \"histogram2d\": [{\"colorbar\": {\"outlinewidth\": 0, \"ticks\": \"\"}, \"colorscale\": [[0.0, \"#0d0887\"], [0.1111111111111111, \"#46039f\"], [0.2222222222222222, \"#7201a8\"], [0.3333333333333333, \"#9c179e\"], [0.4444444444444444, \"#bd3786\"], [0.5555555555555556, \"#d8576b\"], [0.6666666666666666, \"#ed7953\"], [0.7777777777777778, \"#fb9f3a\"], [0.8888888888888888, \"#fdca26\"], [1.0, \"#f0f921\"]], \"type\": \"histogram2d\"}], \"histogram2dcontour\": [{\"colorbar\": {\"outlinewidth\": 0, \"ticks\": \"\"}, \"colorscale\": [[0.0, \"#0d0887\"], [0.1111111111111111, \"#46039f\"], [0.2222222222222222, \"#7201a8\"], [0.3333333333333333, \"#9c179e\"], [0.4444444444444444, \"#bd3786\"], [0.5555555555555556, \"#d8576b\"], [0.6666666666666666, \"#ed7953\"], [0.7777777777777778, \"#fb9f3a\"], [0.8888888888888888, \"#fdca26\"], [1.0, \"#f0f921\"]], \"type\": \"histogram2dcontour\"}], \"mesh3d\": [{\"colorbar\": {\"outlinewidth\": 0, \"ticks\": \"\"}, \"type\": \"mesh3d\"}], \"parcoords\": [{\"line\": {\"colorbar\": {\"outlinewidth\": 0, \"ticks\": \"\"}}, \"type\": \"parcoords\"}], \"pie\": [{\"automargin\": true, \"type\": \"pie\"}], \"scatter\": [{\"marker\": {\"colorbar\": {\"outlinewidth\": 0, \"ticks\": \"\"}}, \"type\": \"scatter\"}], \"scatter3d\": [{\"line\": {\"colorbar\": {\"outlinewidth\": 0, \"ticks\": \"\"}}, \"marker\": {\"colorbar\": {\"outlinewidth\": 0, \"ticks\": \"\"}}, \"type\": \"scatter3d\"}], \"scattercarpet\": [{\"marker\": {\"colorbar\": {\"outlinewidth\": 0, \"ticks\": \"\"}}, \"type\": \"scattercarpet\"}], \"scattergeo\": [{\"marker\": {\"colorbar\": {\"outlinewidth\": 0, \"ticks\": \"\"}}, \"type\": \"scattergeo\"}], \"scattergl\": [{\"marker\": {\"colorbar\": {\"outlinewidth\": 0, \"ticks\": \"\"}}, \"type\": \"scattergl\"}], \"scattermapbox\": [{\"marker\": {\"colorbar\": {\"outlinewidth\": 0, \"ticks\": \"\"}}, \"type\": \"scattermapbox\"}], \"scatterpolar\": [{\"marker\": {\"colorbar\": {\"outlinewidth\": 0, \"ticks\": \"\"}}, \"type\": \"scatterpolar\"}], \"scatterpolargl\": [{\"marker\": {\"colorbar\": {\"outlinewidth\": 0, \"ticks\": \"\"}}, \"type\": \"scatterpolargl\"}], \"scatterternary\": [{\"marker\": {\"colorbar\": {\"outlinewidth\": 0, \"ticks\": \"\"}}, \"type\": \"scatterternary\"}], \"surface\": [{\"colorbar\": {\"outlinewidth\": 0, \"ticks\": \"\"}, \"colorscale\": [[0.0, \"#0d0887\"], [0.1111111111111111, \"#46039f\"], [0.2222222222222222, \"#7201a8\"], [0.3333333333333333, \"#9c179e\"], [0.4444444444444444, \"#bd3786\"], [0.5555555555555556, \"#d8576b\"], [0.6666666666666666, \"#ed7953\"], [0.7777777777777778, \"#fb9f3a\"], [0.8888888888888888, \"#fdca26\"], [1.0, \"#f0f921\"]], \"type\": \"surface\"}], \"table\": [{\"cells\": {\"fill\": {\"color\": \"#EBF0F8\"}, \"line\": {\"color\": \"white\"}}, \"header\": {\"fill\": {\"color\": \"#C8D4E3\"}, \"line\": {\"color\": \"white\"}}, \"type\": \"table\"}]}, \"layout\": {\"annotationdefaults\": {\"arrowcolor\": \"#2a3f5f\", \"arrowhead\": 0, \"arrowwidth\": 1}, \"coloraxis\": {\"colorbar\": {\"outlinewidth\": 0, \"ticks\": \"\"}}, \"colorscale\": {\"diverging\": [[0, \"#8e0152\"], [0.1, \"#c51b7d\"], [0.2, \"#de77ae\"], [0.3, \"#f1b6da\"], [0.4, \"#fde0ef\"], [0.5, \"#f7f7f7\"], [0.6, \"#e6f5d0\"], [0.7, \"#b8e186\"], [0.8, \"#7fbc41\"], [0.9, \"#4d9221\"], [1, \"#276419\"]], \"sequential\": [[0.0, \"#0d0887\"], [0.1111111111111111, \"#46039f\"], [0.2222222222222222, \"#7201a8\"], [0.3333333333333333, \"#9c179e\"], [0.4444444444444444, \"#bd3786\"], [0.5555555555555556, \"#d8576b\"], [0.6666666666666666, \"#ed7953\"], [0.7777777777777778, \"#fb9f3a\"], [0.8888888888888888, \"#fdca26\"], [1.0, \"#f0f921\"]], \"sequentialminus\": [[0.0, \"#0d0887\"], [0.1111111111111111, \"#46039f\"], [0.2222222222222222, \"#7201a8\"], [0.3333333333333333, \"#9c179e\"], [0.4444444444444444, \"#bd3786\"], [0.5555555555555556, \"#d8576b\"], [0.6666666666666666, \"#ed7953\"], [0.7777777777777778, \"#fb9f3a\"], [0.8888888888888888, \"#fdca26\"], [1.0, \"#f0f921\"]]}, \"colorway\": [\"#636efa\", \"#EF553B\", \"#00cc96\", \"#ab63fa\", \"#FFA15A\", \"#19d3f3\", \"#FF6692\", \"#B6E880\", \"#FF97FF\", \"#FECB52\"], \"font\": {\"color\": \"#2a3f5f\"}, \"geo\": {\"bgcolor\": \"white\", \"lakecolor\": \"white\", \"landcolor\": \"#E5ECF6\", \"showlakes\": true, \"showland\": true, \"subunitcolor\": \"white\"}, \"hoverlabel\": {\"align\": \"left\"}, \"hovermode\": \"closest\", \"mapbox\": {\"style\": \"light\"}, \"paper_bgcolor\": \"white\", \"plot_bgcolor\": \"#E5ECF6\", \"polar\": {\"angularaxis\": {\"gridcolor\": \"white\", \"linecolor\": \"white\", \"ticks\": \"\"}, \"bgcolor\": \"#E5ECF6\", \"radialaxis\": {\"gridcolor\": \"white\", \"linecolor\": \"white\", \"ticks\": \"\"}}, \"scene\": {\"xaxis\": {\"backgroundcolor\": \"#E5ECF6\", \"gridcolor\": \"white\", \"gridwidth\": 2, \"linecolor\": \"white\", \"showbackground\": true, \"ticks\": \"\", \"zerolinecolor\": \"white\"}, \"yaxis\": {\"backgroundcolor\": \"#E5ECF6\", \"gridcolor\": \"white\", \"gridwidth\": 2, \"linecolor\": \"white\", \"showbackground\": true, \"ticks\": \"\", \"zerolinecolor\": \"white\"}, \"zaxis\": {\"backgroundcolor\": \"#E5ECF6\", \"gridcolor\": \"white\", \"gridwidth\": 2, \"linecolor\": \"white\", \"showbackground\": true, \"ticks\": \"\", \"zerolinecolor\": \"white\"}}, \"shapedefaults\": {\"line\": {\"color\": \"#2a3f5f\"}}, \"ternary\": {\"aaxis\": {\"gridcolor\": \"white\", \"linecolor\": \"white\", \"ticks\": \"\"}, \"baxis\": {\"gridcolor\": \"white\", \"linecolor\": \"white\", \"ticks\": \"\"}, \"bgcolor\": \"#E5ECF6\", \"caxis\": {\"gridcolor\": \"white\", \"linecolor\": \"white\", \"ticks\": \"\"}}, \"title\": {\"x\": 0.05}, \"xaxis\": {\"automargin\": true, \"gridcolor\": \"white\", \"linecolor\": \"white\", \"ticks\": \"\", \"title\": {\"standoff\": 15}, \"zerolinecolor\": \"white\", \"zerolinewidth\": 2}, \"yaxis\": {\"automargin\": true, \"gridcolor\": \"white\", \"linecolor\": \"white\", \"ticks\": \"\", \"title\": {\"standoff\": 15}, \"zerolinecolor\": \"white\", \"zerolinewidth\": 2}}}, \"title\": {\"font\": {\"color\": \"#4D5663\"}, \"text\": \"Verteilung der Auspr\\u00e4gungen in y_test\"}, \"xaxis\": {\"gridcolor\": \"#E1E5ED\", \"showgrid\": true, \"tickfont\": {\"color\": \"#4D5663\"}, \"title\": {\"font\": {\"color\": \"#4D5663\"}, \"text\": \"\"}, \"zerolinecolor\": \"#E1E5ED\"}, \"yaxis\": {\"gridcolor\": \"#E1E5ED\", \"showgrid\": true, \"tickfont\": {\"color\": \"#4D5663\"}, \"title\": {\"font\": {\"color\": \"#4D5663\"}, \"text\": \"\"}, \"zerolinecolor\": \"#E1E5ED\"}},\n",
       "                        {\"showLink\": true, \"linkText\": \"Export to plot.ly\", \"plotlyServerURL\": \"https://plot.ly\", \"responsive\": true}\n",
       "                    ).then(function(){\n",
       "                            \n",
       "var gd = document.getElementById('312fe46c-2858-4f1a-9a69-54c09369fc25');\n",
       "var x = new MutationObserver(function (mutations, observer) {{\n",
       "        var display = window.getComputedStyle(gd).display;\n",
       "        if (!display || display === 'none') {{\n",
       "            console.log([gd, 'removed!']);\n",
       "            Plotly.purge(gd);\n",
       "            observer.disconnect();\n",
       "        }}\n",
       "}});\n",
       "\n",
       "// Listen for the removal of the full notebook cells\n",
       "var notebookContainer = gd.closest('#notebook-container');\n",
       "if (notebookContainer) {{\n",
       "    x.observe(notebookContainer, {childList: true});\n",
       "}}\n",
       "\n",
       "// Listen for the clearing of the current output cell\n",
       "var outputEl = gd.closest('.output');\n",
       "if (outputEl) {{\n",
       "    x.observe(outputEl, {childList: true});\n",
       "}}\n",
       "\n",
       "                        })\n",
       "                };\n",
       "                });\n",
       "            </script>\n",
       "        </div>"
      ]
     },
     "metadata": {},
     "output_type": "display_data"
    }
   ],
   "source": [
    "y_test_df = pd.DataFrame(y_test)\n",
    "y_test_df = y_test_df[0].value_counts()\n",
    "y_test_df.iplot(kind='bar',barmode='stack', title='Verteilung der Ausprägungen in y_test')"
   ]
  },
  {
   "cell_type": "code",
   "execution_count": 16,
   "metadata": {},
   "outputs": [],
   "source": [
    "y_test_df = pd.DataFrame(y_test)\n",
    "#print(\"Relative Verteilung der Klassen innerhalb der TEST-Data\")\n",
    "#print((y_test_df.value_counts(normalize=True) * 100).sort_index())\n",
    "yTestRel = ((y_test_df.value_counts(normalize=True) * 100).sort_index())"
   ]
  },
  {
   "cell_type": "code",
   "execution_count": 17,
   "metadata": {},
   "outputs": [
    {
     "data": {
      "text/html": [
       "<div>\n",
       "<style scoped>\n",
       "    .dataframe tbody tr th:only-of-type {\n",
       "        vertical-align: middle;\n",
       "    }\n",
       "\n",
       "    .dataframe tbody tr th {\n",
       "        vertical-align: top;\n",
       "    }\n",
       "\n",
       "    .dataframe thead th {\n",
       "        text-align: right;\n",
       "    }\n",
       "</style>\n",
       "<table border=\"1\" class=\"dataframe\">\n",
       "  <thead>\n",
       "    <tr style=\"text-align: right;\">\n",
       "      <th></th>\n",
       "      <th>TrainData-Rel</th>\n",
       "      <th>TestData-Rel</th>\n",
       "      <th>REL-Diff</th>\n",
       "    </tr>\n",
       "    <tr>\n",
       "      <th>0</th>\n",
       "      <th></th>\n",
       "      <th></th>\n",
       "      <th></th>\n",
       "    </tr>\n",
       "  </thead>\n",
       "  <tbody>\n",
       "    <tr>\n",
       "      <th>0</th>\n",
       "      <td>9.871667</td>\n",
       "      <td>9.80</td>\n",
       "      <td>0.071667</td>\n",
       "    </tr>\n",
       "    <tr>\n",
       "      <th>1</th>\n",
       "      <td>11.236667</td>\n",
       "      <td>11.35</td>\n",
       "      <td>-0.113333</td>\n",
       "    </tr>\n",
       "    <tr>\n",
       "      <th>2</th>\n",
       "      <td>9.930000</td>\n",
       "      <td>10.32</td>\n",
       "      <td>-0.390000</td>\n",
       "    </tr>\n",
       "    <tr>\n",
       "      <th>3</th>\n",
       "      <td>10.218333</td>\n",
       "      <td>10.10</td>\n",
       "      <td>0.118333</td>\n",
       "    </tr>\n",
       "    <tr>\n",
       "      <th>4</th>\n",
       "      <td>9.736667</td>\n",
       "      <td>9.82</td>\n",
       "      <td>-0.083333</td>\n",
       "    </tr>\n",
       "    <tr>\n",
       "      <th>5</th>\n",
       "      <td>9.035000</td>\n",
       "      <td>8.92</td>\n",
       "      <td>0.115000</td>\n",
       "    </tr>\n",
       "    <tr>\n",
       "      <th>6</th>\n",
       "      <td>9.863333</td>\n",
       "      <td>9.58</td>\n",
       "      <td>0.283333</td>\n",
       "    </tr>\n",
       "    <tr>\n",
       "      <th>7</th>\n",
       "      <td>10.441667</td>\n",
       "      <td>10.28</td>\n",
       "      <td>0.161667</td>\n",
       "    </tr>\n",
       "    <tr>\n",
       "      <th>8</th>\n",
       "      <td>9.751667</td>\n",
       "      <td>9.74</td>\n",
       "      <td>0.011667</td>\n",
       "    </tr>\n",
       "    <tr>\n",
       "      <th>9</th>\n",
       "      <td>9.915000</td>\n",
       "      <td>10.09</td>\n",
       "      <td>-0.175000</td>\n",
       "    </tr>\n",
       "  </tbody>\n",
       "</table>\n",
       "</div>"
      ],
      "text/plain": [
       "   TrainData-Rel  TestData-Rel  REL-Diff\n",
       "0                                       \n",
       "0       9.871667          9.80  0.071667\n",
       "1      11.236667         11.35 -0.113333\n",
       "2       9.930000         10.32 -0.390000\n",
       "3      10.218333         10.10  0.118333\n",
       "4       9.736667          9.82 -0.083333\n",
       "5       9.035000          8.92  0.115000\n",
       "6       9.863333          9.58  0.283333\n",
       "7      10.441667         10.28  0.161667\n",
       "8       9.751667          9.74  0.011667\n",
       "9       9.915000         10.09 -0.175000"
      ]
     },
     "metadata": {},
     "output_type": "display_data"
    }
   ],
   "source": [
    "dfRelativeVerteilung = pd.DataFrame()\n",
    "dfRelativeVerteilung['TrainData-Rel'] = yTrainRel\n",
    "dfRelativeVerteilung['TestData-Rel'] = yTestRel\n",
    "dfRelativeVerteilung['REL-Diff'] = yTrainRel - yTestRel\n",
    "\n",
    "display(dfRelativeVerteilung)"
   ]
  },
  {
   "cell_type": "markdown",
   "metadata": {},
   "source": [
    "Ich hätte das Dataset sowohl in Train als auch in Test \"gleichverteilter\" erwartet. \n",
    "Dennoch sind in allen Feature (\"0\"-\"9\") ausreichend Ausprägungen vorhanden, sodass eine Klassifikation möglich ist. Damit ist gemeint man kann ausreichend große Train / Test (hier keine Validation) Datasets hat. \n",
    "\n",
    "Ausserdem ist hervorzuheben dass sowohl in Train als auch Test die relative Ausprägung der unterschiedlichen Klassen inetwa gleich ist. Sprich Sowohl in TRAIN als auch in TEST sind am wenigsten \"5er\" Klassen/Ausprägungen und am häufigsten Ausprägungen der Klasse 1 anzutreffen.(Spoiler: Diesen Unterschied an der Anzahl der jeweiligen Input-Klassen werden wir später auch in der Prediction Quality sehen. Sprich die Klasse 5 wird später häufiger \"falsch(=als eine andere Klasse)\" predictet.\n",
    "\n",
    "Vergleichen wir nun die relative Ausprägung über die Datensätze hinweg so sind die Maximalwerte -0.39%(Klasse2), und 0,11833%(Klasse3). Ziel wäre es die relative Ausprägung einer Klasse sowohl in train als auch in Testdata gleich zu haben um auf einem möglichst genauen Abbild der Realität die Modelle zutrainieren. Hier ist die Abweichung je klasse unter 0.5%  == (0.005). Mit meiner Einschätzung sollte dies zu keiner Verfälschung führen.\n",
    "\n",
    "Auch wenn die Implementierung von Plotly über den Umweg der Umwandlung in Pandas Framweworks \"ziemlich\" umständlich ist, rentiert sich die Mühe dennoch. Durch die Interaktionsoption lässt sich \"schön\" mit den Grafiken interagieren."
   ]
  },
  {
   "cell_type": "markdown",
   "metadata": {},
   "source": [
    "# Prepare data for classification"
   ]
  },
  {
   "cell_type": "code",
   "execution_count": 18,
   "metadata": {},
   "outputs": [],
   "source": [
    "# \n",
    "# Change shape of data for model\n",
    "#\n",
    "x_train = x_train.reshape((x_train.shape[0], 28, 28, 1))\n",
    "x_test = x_test.reshape((x_test.shape[0], 28, 28, 1))"
   ]
  },
  {
   "cell_type": "code",
   "execution_count": 19,
   "metadata": {},
   "outputs": [],
   "source": [
    "# \n",
    "# Scale pixel values into range of 0 to 1\n",
    "#\n",
    "x_train = x_train.astype('float32')\n",
    "x_test = x_test.astype('float32')\n",
    "x_train = x_train / 255.0\n",
    "x_test = x_test / 255.0"
   ]
  },
  {
   "cell_type": "code",
   "execution_count": 20,
   "metadata": {},
   "outputs": [],
   "source": [
    "# \n",
    "# One-hot encoding for classes\n",
    "#\n",
    "y_train = to_categorical(y_train, num_classes=10)\n",
    "y_test = to_categorical(y_test, num_classes=10)\n",
    "\n",
    "# reverse "
   ]
  },
  {
   "cell_type": "code",
   "execution_count": 21,
   "metadata": {},
   "outputs": [
    {
     "data": {
      "text/plain": [
       "array([0., 0., 0., 0., 0., 1., 0., 0., 0., 0.], dtype=float32)"
      ]
     },
     "execution_count": 21,
     "metadata": {},
     "output_type": "execute_result"
    }
   ],
   "source": [
    "y_train[0]"
   ]
  },
  {
   "cell_type": "markdown",
   "metadata": {},
   "source": [
    "# Build the first model"
   ]
  },
  {
   "cell_type": "code",
   "execution_count": 22,
   "metadata": {},
   "outputs": [],
   "source": [
    "def create_model():\n",
    "    model = Sequential()\n",
    "    model.add(Conv2D(32, (3, 3), activation='relu', kernel_initializer='he_uniform', input_shape=(28, 28, 1)))\n",
    "    model.add(MaxPooling2D((2, 2)))\n",
    "    model.add(Flatten())\n",
    "    model.add(Dense(100, activation='relu', kernel_initializer='he_uniform'))\n",
    "    model.add(Dense(10, activation='softmax'))\n",
    "    model.compile(optimizer='adam', loss='categorical_crossentropy', metrics=['accuracy'])\n",
    "    return model"
   ]
  },
  {
   "cell_type": "code",
   "execution_count": 23,
   "metadata": {},
   "outputs": [],
   "source": [
    "modelSimpleBasic = create_model()"
   ]
  },
  {
   "cell_type": "code",
   "execution_count": 24,
   "metadata": {},
   "outputs": [
    {
     "name": "stdout",
     "output_type": "stream",
     "text": [
      "Epoch 1/5\n",
      "469/469 [==============================] - 28s 60ms/step - loss: 0.2008 - accuracy: 0.9398\n",
      "Epoch 2/5\n",
      "469/469 [==============================] - 25s 54ms/step - loss: 0.0666 - accuracy: 0.9797\n",
      "Epoch 3/5\n",
      "469/469 [==============================] - 27s 57ms/step - loss: 0.0433 - accuracy: 0.9869\n",
      "Epoch 4/5\n",
      "469/469 [==============================] - 25s 54ms/step - loss: 0.0301 - accuracy: 0.9906\n",
      "Epoch 5/5\n",
      "469/469 [==============================] - 25s 52ms/step - loss: 0.0229 - accuracy: 0.9926\n"
     ]
    }
   ],
   "source": [
    "history = modelSimpleBasic.fit(x_train, y_train, batch_size=128, epochs=5 )"
   ]
  },
  {
   "cell_type": "code",
   "execution_count": 25,
   "metadata": {},
   "outputs": [],
   "source": [
    "# save model to JSON"
   ]
  },
  {
   "cell_type": "code",
   "execution_count": 26,
   "metadata": {},
   "outputs": [
    {
     "data": {
      "text/plain": [
       "array([[1.2218548e-10, 1.0382464e-08, 1.1825452e-09, 8.3146263e-03,\n",
       "        5.0840242e-11, 9.9168491e-01, 9.6382374e-11, 4.0216599e-09,\n",
       "        2.3167071e-07, 2.0650565e-07]], dtype=float32)"
      ]
     },
     "execution_count": 26,
     "metadata": {},
     "output_type": "execute_result"
    }
   ],
   "source": [
    "modelSimpleBasic.predict(x_train[:1])"
   ]
  },
  {
   "cell_type": "code",
   "execution_count": 27,
   "metadata": {},
   "outputs": [
    {
     "data": {
      "text/plain": [
       "array([[0., 0., 0., 0., 0., 1., 0., 0., 0., 0.]], dtype=float32)"
      ]
     },
     "execution_count": 27,
     "metadata": {},
     "output_type": "execute_result"
    }
   ],
   "source": [
    "y_train[:1]"
   ]
  },
  {
   "cell_type": "code",
   "execution_count": 28,
   "metadata": {},
   "outputs": [
    {
     "name": "stdout",
     "output_type": "stream",
     "text": [
      "accuracy 0.98360\n"
     ]
    }
   ],
   "source": [
    "#\n",
    "# Measure the accuracy\n",
    "#\n",
    "_, acc = modelSimpleBasic.evaluate(x_test, y_test, verbose=0)\n",
    "print('accuracy {:.5f}'.format(acc))"
   ]
  },
  {
   "cell_type": "code",
   "execution_count": 29,
   "metadata": {},
   "outputs": [
    {
     "name": "stdout",
     "output_type": "stream",
     "text": [
      "with 10000 samples there are about 164 false classifications to expect.\n"
     ]
    }
   ],
   "source": [
    "#\n",
    "# Estimate the number of false classifications in production use\n",
    "#\n",
    "print('with {} samples there are about {:.0f} false classifications to expect.'.format( x_test.shape[0], (x_test.shape[0]*(1-acc))))"
   ]
  },
  {
   "cell_type": "markdown",
   "metadata": {},
   "source": [
    "# Print out training"
   ]
  },
  {
   "cell_type": "code",
   "execution_count": 30,
   "metadata": {},
   "outputs": [],
   "source": [
    "#\n",
    "# Plot loss and accuracy\n",
    "#\n",
    "def summarize_diagnostics(history,modelname):\n",
    "    plt.subplot(211)\n",
    "    plt.title('Cross Entropy Loss')\n",
    "    plt.plot(history.history['loss'], color='blue', label='train')\n",
    "    plt.subplot(212)\n",
    "    plt.title('Classification Accuracy')\n",
    "    plt.plot(history.history['accuracy'], color='green', label='train')\n",
    "    plt.subplots_adjust(hspace=0.5)\n",
    "    plt.savefig( 'results/' + modelname + '_plot.png')\n",
    "    plt.show()\n",
    "    plt.close()"
   ]
  },
  {
   "cell_type": "code",
   "execution_count": 31,
   "metadata": {},
   "outputs": [
    {
     "data": {
      "image/png": "[encoded data removed]",
      "text/plain": [
       "<Figure size 1152x648 with 2 Axes>"
      ]
     },
     "metadata": {
      "needs_background": "light"
     },
     "output_type": "display_data"
    }
   ],
   "source": [
    "summarize_diagnostics(history,'model-Basic')"
   ]
  },
  {
   "cell_type": "markdown",
   "metadata": {},
   "source": [
    "# Task: Repeat the training until you see overfitting (2 points)\n",
    "\n",
    "Change the training parameter (epochs) of the simple model until you see overfitting. Dokument the number of epochs from which on you see overfitting.\n",
    "\n",
    "**Note** make sure to restart training from epoch 0 and not to continue training of the model."
   ]
  },
  {
   "cell_type": "markdown",
   "metadata": {},
   "source": [
    "**Overfitting** = Jener Punkt(Anzahl an Epochen) in welchem nur noch der Training Error fällt&Training accuracy steigt/\"stagniert\", hierbei werden auf dem Validation(oder eben Testset) keine weiteren Verbesserungen mehr erzielt.\n",
    "\n",
    "**Version-1**<br> Wiederholen des bisherigen Neuronalen Netzes mit mehreren Epochen & Zeitgleich wird hier noch das Validation hinzugefügt um das Overfitting aufdecken zu können.\n",
    "\n",
    "Um nun die Anzahl der Epochen zu detektieren lasse ich zunächst oberes modell mit bis zu 20 Epochen laufen. Die dabei entstehenden Train Accuracy & Train Error vergleiche ich mit den Test Accuracy & Test Error der jeweiligen Epoche. Im nächten Schritt wird dann ein Early-Stopping implementiert.\n",
    "\n",
    "Zunächst muss das Model jedoch neu initalisiert werdne. Dazu rufe ich einfach nochmals die eingehende \"Modell-Erstellungs-Funktion\" auf.\n",
    "\n",
    "Overfitting(~auswendig lernen) findet dann statt, wenn der Train-Accuracy weiter steigt, während die Test-Accuracy bereits stagniert bzw bereits sich verringert, Das kann man einfach visualiseren indem man zu jeder Epoche sowohl die Train als auch die Test-Accuracy plotet. Overfitting bedeutet, dass das Modell den zugrunde liegenden Trend(der Trainingsdaten) zu eng an den Fehler oder dem  Rauschen anpasst.\n",
    "\n",
    "![image.png](./imgs/Overfitting.png)\n",
    "\n",
    "Veranschaulicht an oberer Grafik versuchen wir das Optimum(Minumum des TEST-Fehlers) in der Test-Accuracy zu finden. Aus diesem Grund Implementieren wir in der Version2 [Early-Stopping](https://github.com/JHC90/Basic-DataScience-Skills/wiki/0_EarlyStopping) . Hierbei wird das Modell solange trainiert, bis keine weitere Reduktion der Test-Accuracy (~besser gesagt ein Schwellwert an \"mindest performance-Schub\" nicht mehr über/unterschritten wird) erzielt wird. Dann bricht das Modell ab = Early Stopping.\n",
    "\n",
    "Zuvor betrachten wir jedoch die Performance eines Modelles ohne eien Early-Stopping Implementierug und lassen das Modell über 20 Epochen laufen."
   ]
  },
  {
   "cell_type": "code",
   "execution_count": 32,
   "metadata": {},
   "outputs": [],
   "source": [
    "# Neues Modell ohne ES initialisieren\n",
    "modelSimpleBasic_DemoOverfitting = create_model()"
   ]
  },
  {
   "cell_type": "code",
   "execution_count": 33,
   "metadata": {},
   "outputs": [
    {
     "name": "stdout",
     "output_type": "stream",
     "text": [
      "Epoch 1/20\n",
      "469/469 [==============================] - 26s 55ms/step - loss: 0.1802 - accuracy: 0.9459 - val_loss: 0.0757 - val_accuracy: 0.9758\n",
      "Epoch 2/20\n",
      "469/469 [==============================] - 26s 56ms/step - loss: 0.0623 - accuracy: 0.9813 - val_loss: 0.0614 - val_accuracy: 0.9799\n",
      "Epoch 3/20\n",
      "469/469 [==============================] - 26s 56ms/step - loss: 0.0399 - accuracy: 0.9880 - val_loss: 0.0550 - val_accuracy: 0.9823\n",
      "Epoch 4/20\n",
      "469/469 [==============================] - 26s 56ms/step - loss: 0.0280 - accuracy: 0.9914 - val_loss: 0.0473 - val_accuracy: 0.9841\n",
      "Epoch 5/20\n",
      "469/469 [==============================] - 27s 58ms/step - loss: 0.0184 - accuracy: 0.9946 - val_loss: 0.0450 - val_accuracy: 0.9855\n",
      "Epoch 6/20\n",
      "469/469 [==============================] - 27s 57ms/step - loss: 0.0137 - accuracy: 0.9958 - val_loss: 0.0491 - val_accuracy: 0.9847\n",
      "Epoch 7/20\n",
      "469/469 [==============================] - 26s 56ms/step - loss: 0.0118 - accuracy: 0.9963 - val_loss: 0.0444 - val_accuracy: 0.9860\n",
      "Epoch 8/20\n",
      "469/469 [==============================] - 27s 57ms/step - loss: 0.0075 - accuracy: 0.9979 - val_loss: 0.0425 - val_accuracy: 0.9875\n",
      "Epoch 9/20\n",
      "469/469 [==============================] - 27s 57ms/step - loss: 0.0079 - accuracy: 0.9975 - val_loss: 0.0507 - val_accuracy: 0.9845\n",
      "Epoch 10/20\n",
      "469/469 [==============================] - 26s 56ms/step - loss: 0.0075 - accuracy: 0.9975 - val_loss: 0.0501 - val_accuracy: 0.9858\n",
      "Epoch 11/20\n",
      "469/469 [==============================] - 26s 56ms/step - loss: 0.0050 - accuracy: 0.9985 - val_loss: 0.0535 - val_accuracy: 0.9852\n",
      "Epoch 12/20\n",
      "469/469 [==============================] - 26s 55ms/step - loss: 0.0043 - accuracy: 0.9987 - val_loss: 0.0615 - val_accuracy: 0.9857\n",
      "Epoch 13/20\n",
      "469/469 [==============================] - 26s 56ms/step - loss: 0.0031 - accuracy: 0.9992 - val_loss: 0.0543 - val_accuracy: 0.9855\n",
      "Epoch 14/20\n",
      "469/469 [==============================] - 26s 56ms/step - loss: 0.0045 - accuracy: 0.9985 - val_loss: 0.0629 - val_accuracy: 0.9839\n",
      "Epoch 15/20\n",
      "469/469 [==============================] - 26s 55ms/step - loss: 0.0043 - accuracy: 0.9985 - val_loss: 0.0611 - val_accuracy: 0.9859\n",
      "Epoch 16/20\n",
      "469/469 [==============================] - 27s 57ms/step - loss: 0.0037 - accuracy: 0.9987 - val_loss: 0.0660 - val_accuracy: 0.9845\n",
      "Epoch 17/20\n",
      "469/469 [==============================] - 26s 56ms/step - loss: 0.0033 - accuracy: 0.9990 - val_loss: 0.0569 - val_accuracy: 0.9866\n",
      "Epoch 18/20\n",
      "469/469 [==============================] - 26s 56ms/step - loss: 4.6663e-04 - accuracy: 0.9999 - val_loss: 0.0540 - val_accuracy: 0.9860\n",
      "Epoch 19/20\n",
      "469/469 [==============================] - 26s 56ms/step - loss: 1.5037e-04 - accuracy: 1.0000 - val_loss: 0.0550 - val_accuracy: 0.9871\n",
      "Epoch 20/20\n",
      "469/469 [==============================] - 26s 56ms/step - loss: 7.3321e-05 - accuracy: 1.0000 - val_loss: 0.0550 - val_accuracy: 0.9876\n"
     ]
    }
   ],
   "source": [
    "# Hier lasse ich insgesammt 20 Epochen laufen. Ich erhoffe mir als Insight in den anschließdendem Diagrammen\n",
    "# \"optische wahrzunehmen\" ab welcher Epochenzahl das Overfitting anzutreffen ist\n",
    "history2 = modelSimpleBasic_DemoOverfitting.fit(x_train, y_train, \n",
    "                    batch_size=128, \n",
    "                    epochs=20,\n",
    "                    validation_data=(x_test, y_test))"
   ]
  },
  {
   "cell_type": "code",
   "execution_count": 34,
   "metadata": {},
   "outputs": [
    {
     "data": {
      "image/png": "[encoded data removed]",
      "text/plain": [
       "<Figure size 1152x648 with 1 Axes>"
      ]
     },
     "metadata": {
      "needs_background": "light"
     },
     "output_type": "display_data"
    },
    {
     "data": {
      "image/png": "[encoded data removed]",
      "text/plain": [
       "<Figure size 1152x648 with 1 Axes>"
      ]
     },
     "metadata": {
      "needs_background": "light"
     },
     "output_type": "display_data"
    }
   ],
   "source": [
    "print_analysis_diagramm(history2)"
   ]
  },
  {
   "cell_type": "markdown",
   "metadata": {},
   "source": [
    "Betrachten wir obere Grafik, so ust zu erkennen, dass die Testaccuracy bereits ab ca epoche 3 sich nicht merklich erhöht, wohingegen die der Testloss ab Epoche 8/9 sich nicht mehr \"übertrieben\" verringert. Das charakteristische Overfitten(Testaccuracyy fällt ab einer gewissen Epochenzahl && Test Loss steigt ab einer gewissen Epochenzahl), ist hier zwar \"marginal\" aber nicht \"merklich\" optisch zu erkennen. Jedoch sind die Performance-Schübe nicht zwingend so hoch pro weiterer trainierter Epoche, sodass scih ein weitere trainieren merklich rentiert."
   ]
  },
  {
   "cell_type": "code",
   "execution_count": 35,
   "metadata": {},
   "outputs": [
    {
     "name": "stdout",
     "output_type": "stream",
     "text": [
      "accuracy 0.98760\n"
     ]
    }
   ],
   "source": [
    "_, acc = modelSimpleBasic_DemoOverfitting.evaluate(x_test, y_test, verbose=0)\n",
    "print('accuracy {:.5f}'.format(acc))"
   ]
  },
  {
   "cell_type": "markdown",
   "metadata": {},
   "source": [
    "# Early Stopping \n",
    "Aus der oberen Grafik ist \"visuell\" zu entnehmen dass das Training ab Epoche 2-3(hinsichtlich der Accuracy) bzw epoche 7-8(hinsichtlich des Losses) bereits abgeborchen werden könnte. Bzgl des Overfittings ist keine Verschlechterung der Modell performance durch eine höhere Epochenanzahl zu erkennen. Dies kannauch daran liegen,dass mit 20 Epochen \"noch nicht\" der Schwellwert hinsichtlich des Eintretens von Overfitting überschritten wurde.\n",
    "\n",
    "D.h die nachfolgenden 17-18/12-13 Epochen wurde sinnlos trainiert und haben \"nur\" Rechenkapazitäten verschleudert. Um diesem \"Overfitting/sinnloser Ressourcenbelegung\" entgegen zu wirken hat Keras eine Logik implementiert welche das Training abbricht, sofern keine Verbesserungen innerhalb eines gewissen Zeitspanne(=Epoche) um mindesten einen definierten Schwellwert stattfindt.\n",
    "\n",
    "Bei der Implementierung von Early-Stopping bin ich  nach diesem [Vorbild](https://machinelearningmastery.com/how-to-stop-training-deep-neural-networks-at-the-right-time-using-early-stopping/) vor gegangen."
   ]
  },
  {
   "cell_type": "code",
   "execution_count": 37,
   "metadata": {},
   "outputs": [],
   "source": [
    "modelSimpleBasic_DemoEarlyStopping = create_model()"
   ]
  },
  {
   "cell_type": "code",
   "execution_count": 38,
   "metadata": {},
   "outputs": [],
   "source": [
    "# Early-Stoping-Condition\n",
    "es = EarlyStopping(monitor='val_loss', mode='min', verbose=1, min_delta=1, patience=5)\n",
    "# Model Checkpoint Condition\n",
    "mc = ModelCheckpoint('./Modelle/ES-best_model.h5', monitor='val_loss', mode='min', verbose=1)"
   ]
  },
  {
   "cell_type": "code",
   "execution_count": 39,
   "metadata": {},
   "outputs": [
    {
     "name": "stdout",
     "output_type": "stream",
     "text": [
      "Epoch 1/20\n",
      "468/469 [============================>.] - ETA: 0s - loss: 0.1690 - accuracy: 0.9487\n",
      "Epoch 00001: saving model to ./Modelle\\ES-best_model.h5\n",
      "469/469 [==============================] - 27s 57ms/step - loss: 0.1690 - accuracy: 0.9487 - val_loss: 0.0717 - val_accuracy: 0.9788\n",
      "Epoch 2/20\n",
      "468/469 [============================>.] - ETA: 0s - loss: 0.0538 - accuracy: 0.9844\n",
      "Epoch 00002: saving model to ./Modelle\\ES-best_model.h5\n",
      "469/469 [==============================] - 26s 56ms/step - loss: 0.0539 - accuracy: 0.9843 - val_loss: 0.0521 - val_accuracy: 0.9832\n",
      "Epoch 3/20\n",
      "468/469 [============================>.] - ETA: 0s - loss: 0.0337 - accuracy: 0.9897\n",
      "Epoch 00003: saving model to ./Modelle\\ES-best_model.h5\n",
      "469/469 [==============================] - 26s 56ms/step - loss: 0.0337 - accuracy: 0.9897 - val_loss: 0.0541 - val_accuracy: 0.9828\n",
      "Epoch 4/20\n",
      "468/469 [============================>.] - ETA: 0s - loss: 0.0235 - accuracy: 0.9929\n",
      "Epoch 00004: saving model to ./Modelle\\ES-best_model.h5\n",
      "469/469 [==============================] - 26s 55ms/step - loss: 0.0235 - accuracy: 0.9929 - val_loss: 0.0501 - val_accuracy: 0.9836\n",
      "Epoch 5/20\n",
      "468/469 [============================>.] - ETA: 0s - loss: 0.0176 - accuracy: 0.9946\n",
      "Epoch 00005: saving model to ./Modelle\\ES-best_model.h5\n",
      "469/469 [==============================] - 27s 57ms/step - loss: 0.0177 - accuracy: 0.9946 - val_loss: 0.0533 - val_accuracy: 0.9833\n",
      "Epoch 6/20\n",
      "468/469 [============================>.] - ETA: 0s - loss: 0.0115 - accuracy: 0.9964\n",
      "Epoch 00006: saving model to ./Modelle\\ES-best_model.h5\n",
      "469/469 [==============================] - 27s 57ms/step - loss: 0.0116 - accuracy: 0.9964 - val_loss: 0.0589 - val_accuracy: 0.9827\n",
      "Epoch 00006: early stopping\n"
     ]
    }
   ],
   "source": [
    "history3 = modelSimpleBasic_DemoEarlyStopping.fit(x_train, y_train, \n",
    "                    batch_size=128, \n",
    "                    epochs=20,\n",
    "                    validation_data=(x_test, y_test), \n",
    "                    callbacks=[es, mc])"
   ]
  },
  {
   "cell_type": "code",
   "execution_count": 40,
   "metadata": {},
   "outputs": [
    {
     "name": "stdout",
     "output_type": "stream",
     "text": [
      "accuracy 0.98360\n"
     ]
    },
    {
     "data": {
      "image/png": "[encoded data removed]",
      "text/plain": [
       "<Figure size 1152x648 with 1 Axes>"
      ]
     },
     "metadata": {
      "needs_background": "light"
     },
     "output_type": "display_data"
    },
    {
     "data": {
      "image/png": "[encoded data removed]",
      "text/plain": [
       "<Figure size 1152x648 with 1 Axes>"
      ]
     },
     "metadata": {
      "needs_background": "light"
     },
     "output_type": "display_data"
    }
   ],
   "source": [
    "# Übersetzt wurde nun das 2te Modell gespeichert und in den folgenden 5 Epochen wurde keine \"ausreichende\" Verbesserung erzielt \n",
    "# & es wurden eben nicht die 20 möglichen Epochen durchlaufen\n",
    "\n",
    "# Laden der bisher besten Modelles in von der ES-Implementierung\n",
    "from keras.models import load_model\n",
    "saved_model = load_model('./Modelle/ES-best_model.h5')\n",
    "modelSimpleBasic_DemoEarlyStopping.predict(x_train[:1])\n",
    "_, acc = modelSimpleBasic.evaluate(x_test, y_test, verbose=0)\n",
    "print('accuracy {:.5f}'.format(acc))\n",
    "print_analysis_diagramm(history3)"
   ]
  },
  {
   "cell_type": "markdown",
   "metadata": {},
   "source": [
    "Trotz dessen dass das Modell laut Definition 20 Epochen trainieren hätte können bricht es nach Epoch 6 das Training ab. dabei ist die Bedingung, dass von einer Epoche zur nächsten ein Verbesserung um 1% hinsichtlich der Accuracy stattfindet. Diese Verbsserung von mindestens 1% wurde in der Epoche 2 \"noch\" erzielt. Die nachfolgenden Epochen erzielen zwar(meist) zunehmende Accuracys, jedoch sind die individuellen \"Performance Schübe\" in der Test-Accuracy unter 1%. Ergo bricht das Modell nach einer definierten Zeitspanne von 5 weiteren Versuchen=Epochen das Training ab und verwendet nun das bisher beste Modell(in unserem Falle das Modell aus Epoche 5 welches eine Testaccuracy von 0.9857 hat).\n",
    " "
   ]
  },
  {
   "cell_type": "markdown",
   "metadata": {},
   "source": [
    "# Task: Improve the model significantly (3 points)\n",
    "\n",
    "Your customer requires to have less than 1% of wrong classifications. Start to build a better model with significantly less than 100 wrong classifications in the 10000 test samples. Research the internet for the optimal model setup for MNIST classification and try to replicate this model here. Make sure to document the source where you found the hints for the improvement (link).\n",
    "\n",
    "**MNIST-Master-Solutions** gibt es zahlreiche. Ich habe die Architektur, welche ich nun weiter nutze von dieser  [Implementierung](https://www.kaggle.com/elcaiseri/mnist-simple-cnn-keras-accuracy-0-99-top-1) \"gestohlen\". Grob ist der Unteschied, dass in dem \"gestohlenen CNN-Model\" u.a. mehr Layer, eine tiefere Architektur, mehr Filter, eine Batchnormalization nach dem Flatten etc auftreten. Dadurch wird das Modell komplexer und benötigt mehr Ressourcen bzw Zeit für das Training."
   ]
  },
  {
   "cell_type": "code",
   "execution_count": 41,
   "metadata": {},
   "outputs": [],
   "source": [
    "def createStolenModel():\n",
    "    model2=Sequential()\n",
    "    #model.add(Lambda(standardize,input_shape=(28,28,1)))    \n",
    "    model2.add(Conv2D(filters=64, kernel_size = (3,3), activation=\"relu\", input_shape=(28,28,1)))\n",
    "    model2.add(Conv2D(filters=64, kernel_size = (3,3), activation=\"relu\"))\n",
    "    model2.add(MaxPooling2D(pool_size=(2,2)))\n",
    "    model2.add(BatchNormalization())\n",
    "    model2.add(Conv2D(filters=128, kernel_size = (3,3), activation=\"relu\"))\n",
    "    model2.add(Conv2D(filters=128, kernel_size = (3,3), activation=\"relu\"))\n",
    "\n",
    "    model2.add(MaxPooling2D(pool_size=(2,2)))\n",
    "    model2.add(BatchNormalization())    \n",
    "    model2.add(Conv2D(filters=256, kernel_size = (3,3), activation=\"relu\"))\n",
    "\n",
    "    model2.add(MaxPooling2D(pool_size=(2,2)))\n",
    "\n",
    "    model2.add(Flatten())\n",
    "    model2.add(BatchNormalization())\n",
    "    model2.add(Dense(512,activation=\"relu\"))\n",
    "\n",
    "    model2.add(Dense(10,activation=\"softmax\"))\n",
    "     # compile\n",
    "    model2.compile(optimizer='adam', loss='categorical_crossentropy', metrics=['accuracy'])  \n",
    "    return(model2)\n"
   ]
  },
  {
   "cell_type": "code",
   "execution_count": 42,
   "metadata": {},
   "outputs": [],
   "source": [
    "model2 = createStolenModel()"
   ]
  },
  {
   "cell_type": "code",
   "execution_count": 43,
   "metadata": {},
   "outputs": [
    {
     "name": "stdout",
     "output_type": "stream",
     "text": [
      "saved model to disk as ./Modelle/ES-StolenModel-FreshInitialized.json ./Modelle/ES-StolenModel-FreshInitialized.h5\n"
     ]
    }
   ],
   "source": [
    "#\n",
    "# Save a model for later use\n",
    "#\n",
    "from keras.models import model_from_json\n",
    "\n",
    "modelName=\"./Modelle/ES-StolenModel-FreshInitialized.json\"\n",
    "weightName = \"./Modelle/ES-StolenModel-FreshInitialized.h5\"\n",
    "\n",
    "# Speichern des Basic untrainierten Modelles mit den randomized Gewichten \n",
    "# => wenn ich später unterschiedliche Modelle drauf laufen lasse, dann haben alle zu Beginn \"die gleichen Karten\"\n",
    "\n",
    "# set to True if the model should be saved\n",
    "save_model = True\n",
    "if save_model:\n",
    "    model_json = model2.to_json()\n",
    "    with open( modelName , \"w\") as json_file:\n",
    "        json_file.write(model_json)\n",
    "    # serialize weights to HDF5\n",
    "    model2.save_weights( weightName )\n",
    "    print(\"saved model to disk as {} {}\".format(modelName,weightName))"
   ]
  },
  {
   "cell_type": "markdown",
   "metadata": {},
   "source": [
    "Ich verwende auch hier von anbeginn Early-Stopping. Letzlich will ich das Model nicht weitertrainieren als wie zu den gewünschten 99%. Ich nehm ganz genau 99,5 % es soll ja signifikant besser sein....bei noch besseren Ergebnissen einfach an der Zahl drehen & Vorsicht dass man nicht zu sehr in overfitting rutscht."
   ]
  },
  {
   "cell_type": "code",
   "execution_count": 44,
   "metadata": {},
   "outputs": [
    {
     "name": "stdout",
     "output_type": "stream",
     "text": [
      "Epoch 1/20\n",
      "938/938 [==============================] - ETA: 0s - loss: 0.0863 - accuracy: 0.9735\n",
      "Epoch 00001: saving model to .\\ES-best_StolenModel_ES99.h5\n",
      "938/938 [==============================] - 477s 508ms/step - loss: 0.0863 - accuracy: 0.9735 - val_loss: 0.0519 - val_accuracy: 0.9848\n",
      "Epoch 2/20\n",
      "938/938 [==============================] - ETA: 0s - loss: 0.0387 - accuracy: 0.9883\n",
      "Epoch 00002: saving model to .\\ES-best_StolenModel_ES99.h5\n",
      "938/938 [==============================] - 433s 462ms/step - loss: 0.0387 - accuracy: 0.9883 - val_loss: 0.0273 - val_accuracy: 0.9911\n",
      "Epoch 3/20\n",
      "938/938 [==============================] - ETA: 0s - loss: 0.0273 - accuracy: 0.9914\n",
      "Epoch 00003: saving model to .\\ES-best_StolenModel_ES99.h5\n",
      "938/938 [==============================] - 434s 462ms/step - loss: 0.0273 - accuracy: 0.9914 - val_loss: 0.0449 - val_accuracy: 0.9894\n",
      "Epoch 4/20\n",
      "938/938 [==============================] - ETA: 0s - loss: 0.0238 - accuracy: 0.9926\n",
      "Epoch 00004: saving model to .\\ES-best_StolenModel_ES99.h5\n",
      "938/938 [==============================] - 433s 462ms/step - loss: 0.0238 - accuracy: 0.9926 - val_loss: 0.0541 - val_accuracy: 0.9861\n",
      "Epoch 5/20\n",
      "938/938 [==============================] - ETA: 0s - loss: 0.0227 - accuracy: 0.9931\n",
      "Epoch 00005: saving model to .\\ES-best_StolenModel_ES99.h5\n",
      "938/938 [==============================] - 437s 466ms/step - loss: 0.0227 - accuracy: 0.9931 - val_loss: 0.0362 - val_accuracy: 0.9912\n",
      "Epoch 6/20\n",
      "938/938 [==============================] - ETA: 0s - loss: 0.0163 - accuracy: 0.9949\n",
      "Epoch 00006: saving model to .\\ES-best_StolenModel_ES99.h5\n",
      "938/938 [==============================] - 433s 462ms/step - loss: 0.0163 - accuracy: 0.9949 - val_loss: 0.0275 - val_accuracy: 0.9919\n"
     ]
    }
   ],
   "source": [
    "es = EarlyStopping(monitor='val_accuracy', mode='min', baseline=0.9925, patience=5)\n",
    "mc = ModelCheckpoint('./ES-best_StolenModel_ES99.h5', monitor='val_accuracy', mode='max', verbose=1)\n",
    "\n",
    "# train with history\n",
    "historyStolenModel = model2.fit(x_train, y_train, \n",
    "                                batch_size=64, \n",
    "                                epochs=20,\n",
    "                                validation_data=(x_test, y_test),\n",
    "                                callbacks=[es, mc])"
   ]
  },
  {
   "cell_type": "code",
   "execution_count": 46,
   "metadata": {},
   "outputs": [
    {
     "name": "stdout",
     "output_type": "stream",
     "text": [
      "accuracy 0.99190\n"
     ]
    },
    {
     "data": {
      "image/png": "[encoded data removed]",
      "text/plain": [
       "<Figure size 1152x648 with 1 Axes>"
      ]
     },
     "metadata": {
      "needs_background": "light"
     },
     "output_type": "display_data"
    },
    {
     "data": {
      "image/png": "[encoded data removed]",
      "text/plain": [
       "<Figure size 1152x648 with 1 Axes>"
      ]
     },
     "metadata": {
      "needs_background": "light"
     },
     "output_type": "display_data"
    }
   ],
   "source": [
    "# Laden der bisher besten Modelles in von der ES-Implementierung des gestohlenen MOdelles\n",
    "from keras.models import load_model\n",
    "saved_model = load_model('./ES-best_StolenModel_ES99.h5')\n",
    "saved_model.predict(x_train[:1])\n",
    "_, acc = saved_model.evaluate(x_test, y_test, verbose=0)\n",
    "print('accuracy {:.5f}'.format(acc))\n",
    "print_analysis_diagramm(historyStolenModel)"
   ]
  },
  {
   "cell_type": "markdown",
   "metadata": {},
   "source": [
    "# Benchmark\n",
    "\n",
    "Hier lasse ich das \"gestohlene\" Modell  über 10 Epochen OHNE ES laufen, sodass ich Vergleichswerte erhalte. Das macht an sich keinen Sinn, da ES ja genau dieses \"sinnlose\" trainieren verhindern soll. Ich mache dies an dieser stelle lediglich um aufzudecken wie das Modell eben ohne ES Trainiert, und wie geringfügig der \"Mehrwert\" im Vergleich zu den verbrauchten Ressourcen ist."
   ]
  },
  {
   "cell_type": "code",
   "execution_count": 47,
   "metadata": {},
   "outputs": [
    {
     "name": "stdout",
     "output_type": "stream",
     "text": [
      "loaded model from disk\n"
     ]
    }
   ],
   "source": [
    "# load model (has to be saved before, is not part of git)   \n",
    "# laden des untrainierten Modell mit den gleichen initilaen Randomized weights, wie es bereits das ES-Modell hatte\n",
    "modelName=\"./Modelle/ES-StolenModel-FreshInitialized.json\"\n",
    "weightName = \"./Modelle/ES-StolenModel-FreshInitialized.h5\"\n",
    "\n",
    "\n",
    "save_model = False\n",
    "if not save_model:\n",
    "    json_file = open(modelName, 'r')\n",
    "    loaded_model_json = json_file.read()\n",
    "    json_file.close()\n",
    "    loaded_model = model_from_json(loaded_model_json)\n",
    "    # load weights into new model\n",
    "    loaded_model.load_weights(weightName)\n",
    "    print(\"loaded model from disk\")\n",
    "\n",
    "loaded_model.compile(optimizer='adam', loss='categorical_crossentropy', metrics=['accuracy'])"
   ]
  },
  {
   "cell_type": "code",
   "execution_count": 48,
   "metadata": {
    "scrolled": true
   },
   "outputs": [
    {
     "name": "stdout",
     "output_type": "stream",
     "text": [
      "Epoch 1/10\n",
      "938/938 [==============================] - 436s 464ms/step - loss: 0.0856 - accuracy: 0.9730 - val_loss: 0.0495 - val_accuracy: 0.9850\n",
      "Epoch 2/10\n",
      "938/938 [==============================] - 434s 462ms/step - loss: 0.0370 - accuracy: 0.9889 - val_loss: 0.0294 - val_accuracy: 0.9899\n",
      "Epoch 3/10\n",
      "938/938 [==============================] - 434s 463ms/step - loss: 0.0312 - accuracy: 0.9908 - val_loss: 0.0343 - val_accuracy: 0.9889\n",
      "Epoch 4/10\n",
      "938/938 [==============================] - 437s 466ms/step - loss: 0.0243 - accuracy: 0.9927 - val_loss: 0.0299 - val_accuracy: 0.9913\n",
      "Epoch 5/10\n",
      "938/938 [==============================] - 437s 466ms/step - loss: 0.0214 - accuracy: 0.9937 - val_loss: 0.0727 - val_accuracy: 0.9806\n",
      "Epoch 6/10\n",
      "938/938 [==============================] - 434s 463ms/step - loss: 0.0188 - accuracy: 0.9943 - val_loss: 0.0417 - val_accuracy: 0.9884\n",
      "Epoch 7/10\n",
      "938/938 [==============================] - 433s 461ms/step - loss: 0.0171 - accuracy: 0.9949 - val_loss: 0.0461 - val_accuracy: 0.9883\n",
      "Epoch 8/10\n",
      "938/938 [==============================] - 437s 466ms/step - loss: 0.0133 - accuracy: 0.9961 - val_loss: 0.0374 - val_accuracy: 0.9905\n",
      "Epoch 9/10\n",
      "938/938 [==============================] - 665s 709ms/step - loss: 0.0126 - accuracy: 0.9961 - val_loss: 0.0353 - val_accuracy: 0.9899\n",
      "Epoch 10/10\n",
      "938/938 [==============================] - 806s 859ms/step - loss: 0.0110 - accuracy: 0.9968 - val_loss: 0.0308 - val_accuracy: 0.9926\n"
     ]
    }
   ],
   "source": [
    "historyStolenModelEpochsBenchmark = loaded_model.fit(x_train, y_train, \n",
    "                                batch_size=64, \n",
    "                                epochs=10,\n",
    "                                validation_data=(x_test, y_test)\n",
    "                                )"
   ]
  },
  {
   "cell_type": "code",
   "execution_count": 49,
   "metadata": {},
   "outputs": [
    {
     "data": {
      "image/png": "[encoded data removed]",
      "text/plain": [
       "<Figure size 1152x648 with 1 Axes>"
      ]
     },
     "metadata": {
      "needs_background": "light"
     },
     "output_type": "display_data"
    },
    {
     "data": {
      "image/png": "[encoded data removed]",
      "text/plain": [
       "<Figure size 1152x648 with 1 Axes>"
      ]
     },
     "metadata": {
      "needs_background": "light"
     },
     "output_type": "display_data"
    }
   ],
   "source": [
    "print_analysis_diagramm(historyStolenModelEpochsBenchmark)"
   ]
  },
  {
   "cell_type": "code",
   "execution_count": 50,
   "metadata": {},
   "outputs": [
    {
     "name": "stdout",
     "output_type": "stream",
     "text": [
      "Accuracy 0.99260\n"
     ]
    }
   ],
   "source": [
    "#\n",
    "# Measure the accuracy\n",
    "#\n",
    "_, acc = loaded_model.evaluate(x_test, y_test, verbose=0)\n",
    "print('Accuracy {:.5f}'.format(acc))"
   ]
  },
  {
   "cell_type": "markdown",
   "metadata": {},
   "source": [
    "Vergleichen wir Die Modelle mit ES und ohne ES gemessen an der Test -Accuracy.\n",
    "Für das Modell MIT ES erhalten wir eine Testaccuracy von 0.99190 und für Das Modell OHNE erhalten wir eine Testaccury von  0.99260. Ob die längere Rechenzeit des Modelles OHNE ES hierbei sich \"rentiert\" ist mit dem Kunden zu besprechen."
   ]
  },
  {
   "cell_type": "markdown",
   "metadata": {},
   "source": [
    "Zusammenfassend performt das obere \"getohlene Modell mit &ohne ES Implementierung\" erheblich besser als das initiale \"Basic-Modell\". Jedoch Frage ich mich inwiefern diese Darstellung \"realisitisch\" ist. MNIST it ein bekanntes Dataset, zu welchem zahlreiche performante Muster-Lösungen öffentlich exisiteren. Wäre dies ein DS-\"Hello-World\"-Projekt hätte man für das Finden einer passenden Architektur entsprechend "
   ]
  },
  {
   "cell_type": "code",
   "execution_count": 51,
   "metadata": {},
   "outputs": [
    {
     "name": "stdout",
     "output_type": "stream",
     "text": [
      "with 10000 samples there are about 74 false classifications to expect.\n"
     ]
    }
   ],
   "source": [
    "#\n",
    "# Estimate the number of false classifications in production use\n",
    "#\n",
    "print('with {} samples there are about {:.0f} false classifications to expect.'.format( x_test.shape[0], (x_test.shape[0]*(1-acc))))"
   ]
  },
  {
   "cell_type": "code",
   "execution_count": 82,
   "metadata": {},
   "outputs": [
    {
     "data": {
      "image/png": "[encoded data removed]",
      "text/plain": [
       "<Figure size 1152x648 with 2 Axes>"
      ]
     },
     "metadata": {},
     "output_type": "display_data"
    }
   ],
   "source": [
    "summarize_diagnostics(history,'01_model2')\n",
    "#summarize_diagnostics(history, loaded_model)\n"
   ]
  },
  {
   "cell_type": "markdown",
   "metadata": {},
   "source": [
    "# Save the model"
   ]
  },
  {
   "cell_type": "code",
   "execution_count": 53,
   "metadata": {},
   "outputs": [
    {
     "name": "stdout",
     "output_type": "stream",
     "text": [
      "saved model to disk as results/01_model.json results/01_model.h5\n"
     ]
    }
   ],
   "source": [
    "#\n",
    "# Save a model for later use\n",
    "\n",
    "prefix = 'results/01_'\n",
    "modelName = prefix + \"model.json\"\n",
    "weightName = prefix + \"model.h5\"\n",
    "\n",
    "# set to True if the model should be saved\n",
    "save_model = True\n",
    "if save_model:\n",
    "    model_json = model2.to_json()\n",
    "    with open( modelName , \"w\") as json_file:\n",
    "        json_file.write(model_json)\n",
    "    # serialize weights to HDF5\n",
    "    model2.save_weights( weightName )\n",
    "    print(\"saved model to disk as {} {}\".format(modelName,weightName))"
   ]
  },
  {
   "cell_type": "markdown",
   "metadata": {},
   "source": [
    "# Task: Find characteristics in the errors of the model (2 points)\n",
    "\n",
    "There are still too many false classifications using the model. Evaluate all test data and plot examples of failed classifications to get a better undestanding what goes wrong. Plot also the count of false classifications per class. Select one class of digits that you want to improve. You can also plot a confusion matrix to get a better insight.\n",
    "\n",
    "**Note**: Be aware that this type of debugging may create a bias which may seamingly increase the quality of the model in relation to the test data. But compared to the distribution of the real-world data the quality of the model can still be insufficient. We will handle this topic in the lecture. "
   ]
  },
  {
   "cell_type": "code",
   "execution_count": 54,
   "metadata": {},
   "outputs": [],
   "source": [
    "prefix = 'results/01_'\n",
    "modelName = prefix + \"model.json\"\n",
    "weightName = prefix + \"model.h5\""
   ]
  },
  {
   "cell_type": "code",
   "execution_count": 55,
   "metadata": {},
   "outputs": [
    {
     "name": "stdout",
     "output_type": "stream",
     "text": [
      "loaded model from disk\n"
     ]
    }
   ],
   "source": [
    "# Load the Model, hier laden, da ich während der Entwicklung nicht alles in einem Atemzug runter geskriptet habe. Mit dem Laden des\n",
    "# Trainierten Modelles kann ich mir den Großteil der oberen Ausführungen sparen\n",
    "json_file = open(modelName, 'r')\n",
    "loaded_model_json = json_file.read()\n",
    "json_file.close()\n",
    "loaded_model = model_from_json(loaded_model_json)\n",
    "# load weights into new model\n",
    "loaded_model.load_weights(weightName)\n",
    "print(\"loaded model from disk\")"
   ]
  },
  {
   "cell_type": "code",
   "execution_count": 56,
   "metadata": {},
   "outputs": [],
   "source": [
    "#\n",
    "# Plot 9 examples of digits which where classified wrong (also show true vs wrong class)\n",
    "#\n"
   ]
  },
  {
   "cell_type": "code",
   "execution_count": 57,
   "metadata": {},
   "outputs": [
    {
     "name": "stdout",
     "output_type": "stream",
     "text": [
      "0\n",
      "Current Time = 23:44:06\n",
      "Länge der Fehlerliste: 0\n",
      "#########################################\n",
      "2500\n",
      "Current Time = 23:56:31\n",
      "Länge der Fehlerliste: 34\n",
      "#########################################\n",
      "5000\n",
      "Current Time = 00:07:48\n",
      "Länge der Fehlerliste: 56\n",
      "#########################################\n",
      "7500\n",
      "Current Time = 00:18:11\n",
      "Länge der Fehlerliste: 65\n",
      "#########################################\n"
     ]
    }
   ],
   "source": [
    "testErrorsIndexes = []\n",
    "predictedValues = []\n",
    "realValues = []\n",
    "for i in range(0,len(x_test),1):\n",
    "    predictedValues.append(int(np.argmax(loaded_model.predict(x_test[i:i+1]))))\n",
    "    realValues.append(int(np.argmax(y_test[i])))\n",
    "    if(i%2500 == 0):\n",
    "        print(i)\n",
    "        now = datetime.now()\n",
    "        current_time = now.strftime(\"%H:%M:%S\")\n",
    "        print(\"Current Time =\", current_time)\n",
    "        print(\"Länge der Fehlerliste: \" +str(len(testErrorsIndexes)))\n",
    "        print('#########################################')\n",
    "    if(int(np.argmax(loaded_model.predict(x_test[i:i+1]))) != int(np.argmax(y_test[i]))):\n",
    "        testErrorsIndexes.append(i)"
   ]
  },
  {
   "cell_type": "code",
   "execution_count": 58,
   "metadata": {},
   "outputs": [],
   "source": [
    "# store to Drive\n",
    "f=open('./Modelle/predictedValues.txt','w')\n",
    "for ele in predictedValues:\n",
    "    f.write(str(ele) + \"\\n\")\n",
    "f.close()\n",
    "\n",
    "f=open('./Modelle/realValues.txt','w')\n",
    "for ele in realValues:\n",
    "    f.write(str(ele) + \"\\n\")\n",
    "f.close()\n",
    "\n",
    "f=open('./Modelle/testErrorsIndexes.txt','w')\n",
    "for ele in testErrorsIndexes:\n",
    "    f.write(str(ele) + \"\\n\")\n",
    "f.close()"
   ]
  },
  {
   "cell_type": "code",
   "execution_count": 59,
   "metadata": {},
   "outputs": [],
   "source": [
    "def readListFromFile(fileWithPath):\n",
    "    #print(fileWithPath)\n",
    "    currentList = []\n",
    "    with open(fileWithPath, 'r') as filehandle:\n",
    "        filecontents = filehandle.readlines()\n",
    "        for line in filecontents:\n",
    "            current_place = line[:-1]\n",
    "            currentList.append(int(current_place))\n",
    "    return(currentList)\n",
    "predictedValues = readListFromFile('./Modelle/predictedValues.txt')\n",
    "#print(predictedValues2)\n",
    "realValues = readListFromFile('./Modelle/realValues.txt')\n",
    "#print(realValues2)\n",
    "testErrorsIndexes = readListFromFile('./Modelle/testErrorsIndexes.txt')"
   ]
  },
  {
   "cell_type": "code",
   "execution_count": 60,
   "metadata": {},
   "outputs": [
    {
     "data": {
      "image/png": "[encoded data removed]",
      "text/plain": [
       "<Figure size 1152x648 with 9 Axes>"
      ]
     },
     "metadata": {
      "needs_background": "light"
     },
     "output_type": "display_data"
    },
    {
     "name": "stdout",
     "output_type": "stream",
     "text": [
      "Von Links nach Rechts und von Oben Nach Unten: \n",
      "######################################\n",
      "Wahre Zahl ist: 5\t\t ||\t\t  in der CFM die Spalte  \n",
      "Vorhergesagte Zahl: 6\t\t ||\t\t  in der CFM die Zeile  \n",
      "#############################################################################\n",
      "Wahre Zahl ist: 8\t\t ||\t\t  in der CFM die Spalte  \n",
      "Vorhergesagte Zahl: 4\t\t ||\t\t  in der CFM die Zeile  \n",
      "#############################################################################\n",
      "Wahre Zahl ist: 9\t\t ||\t\t  in der CFM die Spalte  \n",
      "Vorhergesagte Zahl: 4\t\t ||\t\t  in der CFM die Zeile  \n",
      "#############################################################################\n",
      "Wahre Zahl ist: 5\t\t ||\t\t  in der CFM die Spalte  \n",
      "Vorhergesagte Zahl: 7\t\t ||\t\t  in der CFM die Zeile  \n",
      "#############################################################################\n",
      "Wahre Zahl ist: 5\t\t ||\t\t  in der CFM die Spalte  \n",
      "Vorhergesagte Zahl: 3\t\t ||\t\t  in der CFM die Zeile  \n",
      "#############################################################################\n",
      "Wahre Zahl ist: 6\t\t ||\t\t  in der CFM die Spalte  \n",
      "Vorhergesagte Zahl: 4\t\t ||\t\t  in der CFM die Zeile  \n",
      "#############################################################################\n",
      "Wahre Zahl ist: 4\t\t ||\t\t  in der CFM die Spalte  \n",
      "Vorhergesagte Zahl: 9\t\t ||\t\t  in der CFM die Zeile  \n",
      "#############################################################################\n",
      "Wahre Zahl ist: 6\t\t ||\t\t  in der CFM die Spalte  \n",
      "Vorhergesagte Zahl: 1\t\t ||\t\t  in der CFM die Zeile  \n",
      "#############################################################################\n",
      "Wahre Zahl ist: 2\t\t ||\t\t  in der CFM die Spalte  \n",
      "Vorhergesagte Zahl: 6\t\t ||\t\t  in der CFM die Zeile  \n",
      "#############################################################################\n",
      "\n"
     ]
    }
   ],
   "source": [
    "# Jedes mal andere Fehlerhafte Bilder anzeigen via random shuffle der Fehlerliste\n",
    "random.shuffle(testErrorsIndexes) \n",
    "returnText= \"Von Links nach Rechts und von Oben Nach Unten: \\n######################################\\n\"\n",
    "for i in range(9):\n",
    "    plt.subplot(3,3,1 + i)\n",
    "   \n",
    "    \n",
    "   \n",
    "    plt.imshow(x_test[testErrorsIndexes[i]], cmap=plt.get_cmap('gray'))\n",
    "    \n",
    "    \n",
    "    returnText = returnText +(\"Wahre Zahl ist: \"+str(np.argmax(y_test[testErrorsIndexes[i]]))+str(\"\\t\\t ||\\t\\t  in der CFM die Spalte  \\n\"))\n",
    "    returnText = returnText +(\"Vorhergesagte Zahl: \"+str(np.argmax(loaded_model.predict(x_test[testErrorsIndexes[i]:testErrorsIndexes[i]+1]))) +str(\"\\t\\t ||\\t\\t  in der CFM die Zeile  \\n\"))\n",
    "   \n",
    "    returnText = returnText +(\"#############################################################################\\n\")\n",
    "plt.show()\n",
    "print(returnText)"
   ]
  },
  {
   "cell_type": "code",
   "execution_count": 61,
   "metadata": {},
   "outputs": [
    {
     "data": {
      "text/plain": [
       "<AxesSubplot:xlabel='Real-Value', ylabel='Predicted-Value'>"
      ]
     },
     "execution_count": 61,
     "metadata": {},
     "output_type": "execute_result"
    },
    {
     "data": {
      "image/png": "[encoded data removed]",
      "text/plain": [
       "<Figure size 1152x648 with 1 Axes>"
      ]
     },
     "metadata": {},
     "output_type": "display_data"
    }
   ],
   "source": [
    "#\n",
    "# Plot distribution of errors per class (digit)\n",
    "# Das mach mit SNS und einem Violinplot\n",
    "# create pandas df\n",
    "DfRealVSPredicted = pd.DataFrame()\n",
    "DfRealVSPredicted['Real-Value'] = realValues\n",
    "DfRealVSPredicted['Predicted-Value'] = predictedValues\n",
    "sns.set_style(\"whitegrid\")\n",
    "sns.violinplot(x=\"Real-Value\", y=\"Predicted-Value\", data=DfRealVSPredicted, palette=\"rainbow\")\n",
    "#sns.swarmplot(x=\"Real-Value\", y=\"Predicted-Value\", data=DfRealVSPredicted, color='black',size=3)\n",
    "#sns.boxplot(x=\"Real-Value\", y=\"Predicted-Value\", data=DfRealVSPredicted, palette=\"rainbow\")\n",
    "sns.stripplot(x=\"Real-Value\", y=\"Predicted-Value\", data=DfRealVSPredicted, palette=\"rainbow\")\n",
    "\n"
   ]
  },
  {
   "cell_type": "markdown",
   "metadata": {},
   "source": [
    "Betrachten wir obere Grafik, die Kombination aus Viloin und Stripplot. Als erstes erkennt man am Bauch der Violion je KLasse dass, die überweigende Vorhersage einer Klasse grundsätzlich die Klasse selbst ist. Das ist soweit schon mal gut :-) . Betrachten wir nun die Infomration des Strip-Plots, so können wir hier ablesen wie \"wiggly\" die Vorhersagen sind. Am Beispiel der Abszisse(=Real-Value=X-Achse) = 3, dass eine wahre 3 :\n",
    "1. überwiegend als Klasse 3 klassifiziert wird => Abzulesen am Bauch der Violine\n",
    "2. 1x als eine Klasse 5 klassifiziert wird\n",
    "3. 1x als eine Klasse 1 klassifizert wird\n",
    "\n",
    "Dieses Insight lässt sich auch an folgender Confusion Matrix ablesen:"
   ]
  },
  {
   "cell_type": "code",
   "execution_count": 62,
   "metadata": {},
   "outputs": [
    {
     "data": {
      "image/png": "[encoded data removed]",
      "text/plain": [
       "<Figure size 1152x648 with 2 Axes>"
      ]
     },
     "metadata": {},
     "output_type": "display_data"
    }
   ],
   "source": [
    "#\n",
    "# Bonus: plot confusion matrix for test data\n",
    "#\n",
    "predicted = predictedValues\n",
    "actual = realValues\n",
    "sns.set_style(\"white\")\n",
    "cnf_matrix = confusion_matrix(actual, predicted)\n",
    "labels = [\"0\",\"1\",\"2\",\"3\",\"4\",\"5\",\"6\",\"7\",\"8\",\"9\"]\n",
    "plot_confusion_matrix(cnf_matrix, classes=labels, title=\"MNIST-Confusion-Matrix\")"
   ]
  },
  {
   "cell_type": "markdown",
   "metadata": {},
   "source": [
    "**Result: (which digit did you select for improvement)**\n",
    "\n",
    "Betrachten wir die beiden Grafiken aus dem Violin/Swarm/Strip-Plot sowie die Confusion Matrix so erkennt man folgende Fehler:\n",
    "\n",
    "1) eine Wahre 5 wird 8 mal als eine 3 predicted\n",
    "2) eine wahre 4 wird 4 mal als eine 9 predicted\n",
    "\n",
    "ich konzentriere mich auf eben diese beiden Verbesserungen.\n",
    "\n",
    "Bei der 5 & 3 werde ich mehr Trainingsdaten hinzufügen,\n",
    "Bei der 4 & 9 füge ich augumentation hinzu\n",
    "\n",
    "Anmerkung:\n",
    "Eine wahre 7 wird insgesamt 10 mal als eine 2 predicted. Mit der hier erstellten Confusion Matrix hätte ich mich auf dieses Wertepaar fokusiert. Die hier erstelle CFM ist das Resultat einer Verbesserung zu dem zugehörigen Modell. Dieser Verbesserung wiederum wurde implementiert nachdem ich die \"Verbesserung für 5&3 && 4&9\" implementiert hatte. \n",
    "\n",
    "Das gesamte Notebook hier ist das Resultat eines \"einzigen\" Runs (Button Restart the notebook and run all Cells). Um die Verbesserung der 7&1 Werte würde ich nach jetzigem Status mehr von diesen Daten in die Trainingsdaten aufnehmen(siehe Update your Training Strategy; Solution1)(Füge nach der Funktion \"def addContent()\" den Aufruf mit addContent(1, 200) && addContent(7, 200)) hinzu. "
   ]
  },
  {
   "cell_type": "markdown",
   "metadata": {},
   "source": [
    "# Task: Update your training strategy (2 points)\n",
    "\n",
    "Beside many other options, there are two possible ways to improve your model:\n",
    "\n",
    "1. Add more data for those classes which are poorely classified\n",
    "1. Add augmentation for the training data\n",
    "\n",
    "Select **one** of the two strategies and implement it. Test if there is an improvement.\n",
    "\n",
    "## More training data\n",
    "\n",
    "Find the EMNIST dataset in the internet and load 200 examples of the digit with the most errors (from last task).\n",
    "If you have used the confusion matrix, select also digits from the other class (where the most wrong digits from the selected class landed).\n",
    "Extend the current training set with those images and labels and retrain your model.\n",
    "Document the resulting accuracy.\n",
    "\n",
    "\n",
    "## Augmentation\n",
    "\n",
    "Search the internet for the ImageDataGenerator class of the Keras framework and implement such a generator for the training of the model. Select suitable augmentation which fits to the use-case. \n",
    "Document the resulting accuracy.\n",
    "\n"
   ]
  },
  {
   "cell_type": "markdown",
   "metadata": {},
   "source": [
    "# Lösung 1- Mehr Daten"
   ]
  },
  {
   "cell_type": "code",
   "execution_count": 63,
   "metadata": {},
   "outputs": [
    {
     "name": "stdout",
     "output_type": "stream",
     "text": [
      "training data: X=(240000, 28, 28), y=(240000, 28, 28)\n",
      "test     data: X=(240000,), y=(240000,)\n",
      "<class 'numpy.ndarray'>\n",
      "<class 'numpy.ndarray'>\n"
     ]
    }
   ],
   "source": [
    "imagesEMNIST, labelsEMNIST = extract_training_samples('digits')\n",
    "print('training data: X=%s, y=%s' % (imagesEMNIST.shape, imagesEMNIST.shape))\n",
    "print('test     data: X=%s, y=%s' % (labelsEMNIST.shape, labelsEMNIST.shape))\n",
    "print(type(imagesEMNIST))\n",
    "print(type(labelsEMNIST))"
   ]
  },
  {
   "cell_type": "code",
   "execution_count": 64,
   "metadata": {},
   "outputs": [
    {
     "name": "stdout",
     "output_type": "stream",
     "text": [
      "training data: X=(60000, 28, 28), y=(60000,)\n",
      "test     data: X=(10000, 28, 28), y=(10000,)\n",
      "<class 'numpy.ndarray'>\n",
      "<class 'numpy.ndarray'>\n"
     ]
    }
   ],
   "source": [
    "(x_train, y_train), (x_test, y_test) = mnist.load_data()\n",
    "print('training data: X=%s, y=%s' % (x_train.shape, y_train.shape))\n",
    "print('test     data: X=%s, y=%s' % (x_test.shape, y_test.shape))\n",
    "print(type(x_train))\n",
    "print(type(y_train))"
   ]
  },
  {
   "cell_type": "code",
   "execution_count": 65,
   "metadata": {},
   "outputs": [],
   "source": [
    "#print(labelsEMNIST[0])\n",
    "\n",
    "y_trainLIST=list(y_train)\n",
    "x_trainLIST=list(x_train)\n",
    "imagesEMNISTList=list(imagesEMNIST)\n",
    "labelsEMNISTList=list(labelsEMNIST)\n",
    "\n",
    "\n",
    "'''print(len(y_trainLIST))\n",
    "print(len(x_trainLIST))\n",
    "\n",
    "i = 0\n",
    "print(y_trainLIST[i])\n",
    "print(labelsEMNISTList[i])\n",
    "print(x_trainLIST[i])\n",
    "print(imagesEMNISTList[i])\n",
    "'''\n",
    "\n",
    "def addContent(incomoningNumber, instances2BeAdded):\n",
    "    abbruchCounter = 0 \n",
    "    \n",
    "    for i in range(0, len(labelsEMNISTList),1):\n",
    "        if(labelsEMNISTList[i] == incomoningNumber):\n",
    "            y_trainLIST.append(labelsEMNISTList[i])\n",
    "            x_trainLIST.append(imagesEMNISTList[i])\n",
    "            abbruchCounter  = abbruchCounter +1\n",
    "        if(abbruchCounter == instances2BeAdded):\n",
    "            break\n",
    "addContent(3, 200)\n",
    "addContent(5, 200)\n",
    "\n",
    "y_train_extended = np.array(y_trainLIST) \n",
    "x_train_extended = np.array(x_trainLIST) \n",
    "\n"
   ]
  },
  {
   "cell_type": "code",
   "execution_count": 66,
   "metadata": {},
   "outputs": [
    {
     "name": "stdout",
     "output_type": "stream",
     "text": [
      "training data: X=(60400, 28, 28, 1), y=(60400, 10)\n",
      "test     data: X=(10000, 28, 28, 1), y=(10000, 10)\n"
     ]
    }
   ],
   "source": [
    "x_train_extended = x_train_extended.reshape((x_train_extended.shape[0], 28, 28, 1))\n",
    "x_test = x_test.reshape((x_test.shape[0], 28, 28, 1))\n",
    "\n",
    "x_train_extended = x_train_extended.astype('float32')\n",
    "x_test = x_test.astype('float32')\n",
    "\n",
    "x_train_extended = x_train_extended / 255.0\n",
    "x_test = x_test / 255.0\n",
    "\n",
    "y_train_extended = to_categorical(y_train_extended, num_classes=10)\n",
    "y_test = to_categorical(y_test, num_classes=10)\n",
    "\n",
    "print('training data: X=%s, y=%s' % (x_train_extended.shape, y_train_extended.shape))\n",
    "print('test     data: X=%s, y=%s' % (x_test.shape, y_test.shape))"
   ]
  },
  {
   "cell_type": "code",
   "execution_count": 67,
   "metadata": {},
   "outputs": [
    {
     "name": "stdout",
     "output_type": "stream",
     "text": [
      "Epoch 1/20\n",
      "944/944 [==============================] - ETA: 0s - loss: 0.0829 - accuracy: 0.9749\n",
      "Epoch 00001: saving model to ./Modelle\\ES-best_StolenModel_ExtendedData.h5\n",
      "944/944 [==============================] - 721s 764ms/step - loss: 0.0829 - accuracy: 0.9749 - val_loss: 0.0408 - val_accuracy: 0.9880\n",
      "Epoch 2/20\n",
      "944/944 [==============================] - ETA: 0s - loss: 0.0382 - accuracy: 0.9884\n",
      "Epoch 00002: saving model to ./Modelle\\ES-best_StolenModel_ExtendedData.h5\n",
      "944/944 [==============================] - 481s 509ms/step - loss: 0.0382 - accuracy: 0.9884 - val_loss: 0.0361 - val_accuracy: 0.9898\n"
     ]
    }
   ],
   "source": [
    "# Calc Modell\n",
    "model3_ExtendedData = createStolenModel()\n",
    "es = EarlyStopping(monitor='val_accuracy', mode='min', baseline=0.995)\n",
    "mc = ModelCheckpoint('./Modelle/ES-best_StolenModel_ExtendedData.h5', monitor='val_loss', mode='min', verbose=1)\n",
    "\n",
    "# train with history\n",
    "historyStolenModel_Extended = model3_ExtendedData.fit(x_train_extended, y_train_extended, \n",
    "                                batch_size=64, \n",
    "                                epochs=20,\n",
    "                                validation_data=(x_test, y_test),\n",
    "                                callbacks=[es, mc])"
   ]
  },
  {
   "cell_type": "code",
   "execution_count": 68,
   "metadata": {},
   "outputs": [
    {
     "name": "stdout",
     "output_type": "stream",
     "text": [
      "accuracy 0.98980\n"
     ]
    }
   ],
   "source": [
    "_, acc = model3_ExtendedData.evaluate(x_test, y_test, verbose=0)\n",
    "print('accuracy {:.5f}'.format(acc))"
   ]
  },
  {
   "cell_type": "code",
   "execution_count": 69,
   "metadata": {},
   "outputs": [
    {
     "name": "stdout",
     "output_type": "stream",
     "text": [
      "0\n",
      "Current Time = 00:48:58\n",
      "Länge der Fehlerliste: 0\n",
      "#########################################\n",
      "2500\n",
      "Current Time = 00:53:17\n",
      "Länge der Fehlerliste: 34\n",
      "#########################################\n",
      "5000\n",
      "Current Time = 00:57:35\n",
      "Länge der Fehlerliste: 56\n",
      "#########################################\n",
      "7500\n",
      "Current Time = 01:01:53\n",
      "Länge der Fehlerliste: 65\n",
      "#########################################\n"
     ]
    }
   ],
   "source": [
    "testErrorsIndexesExtended = []\n",
    "predictedValuesExtended = []\n",
    "realValuesExtended = []\n",
    "for i in range(0,len(x_test),1):\n",
    "    predictedValuesExtended.append(int(np.argmax(model3_ExtendedData.predict(x_test[i:i+1]))))\n",
    "    realValuesExtended.append(int(np.argmax(y_test[i])))\n",
    "    if(i%2500 == 0):\n",
    "        print(i)\n",
    "        now = datetime.now()\n",
    "        current_time = now.strftime(\"%H:%M:%S\")\n",
    "        print(\"Current Time =\", current_time)\n",
    "        print(\"Länge der Fehlerliste: \" +str(len(testErrorsIndexesExtended)))\n",
    "        print('#########################################')\n",
    "    if(int(np.argmax(loaded_model.predict(x_test[i:i+1]))) != int(np.argmax(y_test[i]))):\n",
    "        testErrorsIndexesExtended.append(i)\n",
    "        \n",
    "f=open('predictedValuesExtended.txt','w')\n",
    "for ele in predictedValuesExtended:\n",
    "    f.write(str(ele) + \"\\n\")\n",
    "f.close()\n",
    "\n",
    "f=open('realValuesExtended.txt','w')\n",
    "for ele in realValuesExtended:\n",
    "    f.write(str(ele) + \"\\n\")\n",
    "f.close()\n",
    "\n",
    "f=open('testErrorsIndexesExtended.txt','w')\n",
    "for ele in testErrorsIndexesExtended:\n",
    "    f.write(str(ele) + \"\\n\")\n",
    "f.close()"
   ]
  },
  {
   "cell_type": "raw",
   "metadata": {},
   "source": [
    "def readListFromFile(fileWithPath):\n",
    "    #print(fileWithPath)\n",
    "    currentList = []\n",
    "    with open(fileWithPath, 'r') as filehandle:\n",
    "        filecontents = filehandle.readlines()\n",
    "        for line in filecontents:\n",
    "            current_place = line[:-1]\n",
    "            currentList.append(int(current_place))\n",
    "    return(currentList)\n",
    "predictedValues = readListFromFile('./Modelle/predictedValuesExtended.txt')\n",
    "#print(predictedValues2)\n",
    "realValues = readListFromFile('./Modelle/realValuesExtended.txt')\n",
    "#print(realValues2)\n",
    "testErrorsIndexes = readListFromFile('./Modelle/testErrorsIndexesExtended.txt')"
   ]
  },
  {
   "cell_type": "code",
   "execution_count": 70,
   "metadata": {},
   "outputs": [
    {
     "data": {
      "image/png": "[encoded data removed]",
      "text/plain": [
       "<Figure size 1152x648 with 2 Axes>"
      ]
     },
     "metadata": {},
     "output_type": "display_data"
    }
   ],
   "source": [
    "predicted = predictedValuesExtended\n",
    "actual = realValuesExtended\n",
    "sns.set_style(\"white\")\n",
    "cnf_matrix = confusion_matrix(actual, predicted)\n",
    "labels = [\"0\",\"1\",\"2\",\"3\",\"4\",\"5\",\"6\",\"7\",\"8\",\"9\"]\n",
    "plot_confusion_matrix(cnf_matrix, classes=labels, title=\"MNIST-Confusion-Matrix\")"
   ]
  },
  {
   "cell_type": "markdown",
   "metadata": {},
   "source": [
    "Durch das hinzufügen weiterer (3er & 5er Image-)Daten haben wir bei den wahren 5er die fälschlicherweis als 3 klassifizierten auf eine Anzahl von ursprünlgich 8(Modell ohne extended Data) auf eine Anzahl von 2(Model mit extended Data) verringern können."
   ]
  },
  {
   "cell_type": "markdown",
   "metadata": {},
   "source": [
    "# # Lösung 2- Data-Augumentation\n",
    "Die Augumenataion nehme ich nach folgendem [Vorbild](https://machinelearningmastery.com/image-augmentation-deep-learning-keras/) vor."
   ]
  },
  {
   "cell_type": "markdown",
   "metadata": {},
   "source": [
    "https://machinelearningmastery.com/image-augmentation-deep-learning-keras/"
   ]
  },
  {
   "cell_type": "code",
   "execution_count": 71,
   "metadata": {},
   "outputs": [
    {
     "name": "stdout",
     "output_type": "stream",
     "text": [
      "training data: X=(60000, 28, 28), y=(60000,)\n",
      "test     data: X=(10000, 28, 28), y=(10000,)\n",
      "training data: X=(60000, 28, 28, 1), y=(60400, 10)\n",
      "test     data: X=(10000, 28, 28, 1), y=(10000, 10)\n"
     ]
    }
   ],
   "source": [
    "# Laden des MNSIT-Data-Sets, da ich einen unverfäälschen Vergleich zu den anderen Modellen haben möchte \n",
    "# => das extended Dataset muss somit mit den ursprünglichen Daten überschrieben werden\n",
    "(x_train, y_train), (x_test, y_test) = mnist.load_data()\n",
    "print('training data: X=%s, y=%s' % (x_train.shape, y_train.shape))\n",
    "print('test     data: X=%s, y=%s' % (x_test.shape, y_test.shape))\n",
    "\n",
    "\n",
    "x_train_Augumenation = x_train.reshape((x_train.shape[0], 28, 28, 1))\n",
    "x_test = x_test.reshape((x_test.shape[0], 28, 28, 1))\n",
    "\n",
    "x_train_Augumenation = x_train_Augumenation.astype('float32')\n",
    "x_test = x_test.astype('float32')\n",
    "\n",
    "x_train_Augumenation = x_train_Augumenation / 255.0\n",
    "x_test = x_test / 255.0\n",
    "\n",
    "y_train_Augumenation = to_categorical(y_train, num_classes=10)\n",
    "y_test = to_categorical(y_test, num_classes=10)\n",
    "\n",
    "print('training data: X=%s, y=%s' % (x_train_Augumenation.shape, y_train_extended.shape))\n",
    "print('test     data: X=%s, y=%s' % (x_test.shape, y_test.shape))"
   ]
  },
  {
   "cell_type": "code",
   "execution_count": 72,
   "metadata": {},
   "outputs": [],
   "source": [
    "from keras.preprocessing.image import ImageDataGenerator\n",
    "# applying transformation to image = Data Augumentation\n",
    "train_gen = ImageDataGenerator(rotation_range=8, \n",
    "                               width_shift_range=0.08, \n",
    "                               shear_range=0.3, \n",
    "                               height_shift_range=0.08, \n",
    "                               zoom_range=0.08 )\n",
    "test_gen = ImageDataGenerator()"
   ]
  },
  {
   "cell_type": "code",
   "execution_count": 73,
   "metadata": {},
   "outputs": [],
   "source": [
    "training_set= train_gen.flow(x_train_Augumenation, y_train_Augumenation, batch_size=64)\n",
    "test_set= train_gen.flow(x_test, y_test, batch_size=64)"
   ]
  },
  {
   "cell_type": "code",
   "execution_count": 74,
   "metadata": {},
   "outputs": [
    {
     "name": "stdout",
     "output_type": "stream",
     "text": [
      "Epoch 1/20\n",
      "937/937 [==============================] - ETA: 0s - loss: 0.1185 - accuracy: 0.9637\n",
      "Epoch 00001: saving model to ./Modelle\\ES-best_StolenModel_ExtendedData.h5\n",
      "937/937 [==============================] - 447s 477ms/step - loss: 0.1185 - accuracy: 0.9637 - val_loss: 0.0699 - val_accuracy: 0.9793\n",
      "Epoch 2/20\n",
      "937/937 [==============================] - ETA: 0s - loss: 0.0554 - accuracy: 0.9838\n",
      "Epoch 00002: saving model to ./Modelle\\ES-best_StolenModel_ExtendedData.h5\n",
      "937/937 [==============================] - 442s 472ms/step - loss: 0.0554 - accuracy: 0.9838 - val_loss: 0.0432 - val_accuracy: 0.9876\n"
     ]
    }
   ],
   "source": [
    "model4_Augumentation = createStolenModel()\n",
    "es = EarlyStopping(monitor='val_accuracy', mode='min', baseline=0.995)\n",
    "mc = ModelCheckpoint('./Modelle/ES-best_StolenModel_ExtendedData.h5', monitor='val_loss', mode='min', verbose=1)\n",
    "\n",
    "# train with history\n",
    "historyStolenModel_Augumentation = model4_Augumentation.fit_generator(training_set,\n",
    "                                steps_per_epoch=60000//64, \n",
    "                                validation_data=test_set,\n",
    "                                validation_steps=10000//64,\n",
    "                                epochs=20,\n",
    "                                callbacks=[es, mc])"
   ]
  },
  {
   "cell_type": "code",
   "execution_count": 75,
   "metadata": {},
   "outputs": [
    {
     "name": "stdout",
     "output_type": "stream",
     "text": [
      "accuracy 0.98790\n"
     ]
    }
   ],
   "source": [
    "_, acc = model4_Augumentation.evaluate(x_test, y_test, verbose=0)\n",
    "print('accuracy {:.5f}'.format(acc))"
   ]
  },
  {
   "cell_type": "code",
   "execution_count": 76,
   "metadata": {},
   "outputs": [
    {
     "name": "stdout",
     "output_type": "stream",
     "text": [
      "0\n",
      "Current Time = 01:21:23\n",
      "Länge der Fehlerliste: 0\n",
      "#########################################\n",
      "2500\n",
      "Current Time = 01:25:41\n",
      "Länge der Fehlerliste: 34\n",
      "#########################################\n",
      "5000\n",
      "Current Time = 01:30:01\n",
      "Länge der Fehlerliste: 56\n",
      "#########################################\n",
      "7500\n",
      "Current Time = 01:34:19\n",
      "Länge der Fehlerliste: 65\n",
      "#########################################\n"
     ]
    }
   ],
   "source": [
    "testErrorsIndexesAugumentation = []\n",
    "predictedValuesAugumentation = []\n",
    "realValuesAugumentation = []\n",
    "for i in range(0,len(x_test),1):\n",
    "    predictedValuesAugumentation.append(int(np.argmax(model4_Augumentation.predict(x_test[i:i+1]))))\n",
    "    realValuesAugumentation.append(int(np.argmax(y_test[i])))\n",
    "    if(i%2500 == 0):\n",
    "        print(i)\n",
    "        now = datetime.now()\n",
    "        current_time = now.strftime(\"%H:%M:%S\")\n",
    "        print(\"Current Time =\", current_time)\n",
    "        print(\"Länge der Fehlerliste: \" +str(len(testErrorsIndexesAugumentation)))\n",
    "        print('#########################################')\n",
    "    if(int(np.argmax(loaded_model.predict(x_test[i:i+1]))) != int(np.argmax(y_test[i]))):\n",
    "        testErrorsIndexesAugumentation.append(i)\n",
    "        \n",
    "f=open('predictedValuesAugumentation.txt','w')\n",
    "for ele in predictedValuesAugumentation:\n",
    "    f.write(str(ele) + \"\\n\")\n",
    "f.close()\n",
    "\n",
    "f=open('realValuesAugumentation.txt','w')\n",
    "for ele in realValuesAugumentation:\n",
    "    f.write(str(ele) + \"\\n\")\n",
    "f.close()\n",
    "\n",
    "f=open('testErrorsIndexesAugumentation.txt','w')\n",
    "for ele in testErrorsIndexesAugumentation:\n",
    "    f.write(str(ele) + \"\\n\")\n",
    "f.close()"
   ]
  },
  {
   "cell_type": "raw",
   "metadata": {},
   "source": [
    "def readListFromFile(fileWithPath):\n",
    "    #print(fileWithPath)\n",
    "    currentList = []\n",
    "    with open(fileWithPath, 'r') as filehandle:\n",
    "        filecontents = filehandle.readlines()\n",
    "        for line in filecontents:\n",
    "            current_place = line[:-1]\n",
    "            currentList.append(int(current_place))\n",
    "    return(currentList)\n",
    "predictedValues = readListFromFile('./Modelle/predictedValuesAugumentation.txt')\n",
    "#print(predictedValues2)\n",
    "realValues = readListFromFile('./Modelle/realValuesAugumentation.txt')\n",
    "#print(realValues2)\n",
    "testErrorsIndexes = readListFromFile('./Modelle/testErrorsIndexesAugumentation.txt')\n"
   ]
  },
  {
   "cell_type": "code",
   "execution_count": 77,
   "metadata": {},
   "outputs": [
    {
     "data": {
      "image/png": "[encoded data removed]",
      "text/plain": [
       "<Figure size 1152x648 with 2 Axes>"
      ]
     },
     "metadata": {},
     "output_type": "display_data"
    }
   ],
   "source": [
    "predicted = predictedValuesAugumentation\n",
    "actual = realValuesAugumentation\n",
    "sns.set_style(\"white\")\n",
    "cnf_matrix = confusion_matrix(actual, predicted)\n",
    "labels = [\"0\",\"1\",\"2\",\"3\",\"4\",\"5\",\"6\",\"7\",\"8\",\"9\"]\n",
    "plot_confusion_matrix(cnf_matrix, classes=labels, title=\"MNIST-Confusion-Matrix\")"
   ]
  },
  {
   "cell_type": "markdown",
   "metadata": {},
   "source": [
    "Vergleichen wir nun die Data-Augumentation mit der Verbsserungsstratgie von \"mehr Daten\", so erzielt das Hinzufügen von Daten eine Testperformance von 0.98980 und die Data-Augumentationeine Testperformance von 0.98790. Die Ausgagns-Test-Accuracy war bei: 0.99260, somit haben die beiden Verbesserungsversuche in diesem Falle die individuellen Fehler (5&3 && 4&9) zwar verbessert, jedoch insgesamt die Performance des Modelles verringert. \n",
    "\n",
    "Zusammenfassend würde ich somit mit dem Modell mit der Accuracy von 0.99190(mit ES) bzw. 0.99260(ohne ES) bei dem Kunden pitchen."
   ]
  },
  {
   "cell_type": "code",
   "execution_count": 79,
   "metadata": {},
   "outputs": [
    {
     "name": "stdout",
     "output_type": "stream",
     "text": [
      "2020-08-16 01:38:41.344262\n",
      "Der Lauf des gesamten Notebooks dauert: 4:16:27.829717\n"
     ]
    }
   ],
   "source": [
    "tend = datetime.now()\n",
    "print(tend)\n",
    "print(\"Der Lauf des gesamten Notebooks dauert: \" + str(tend-tstart))"
   ]
  }
 ],
 "metadata": {
  "kernelspec": {
   "display_name": "Python 3",
   "language": "python",
   "name": "python3"
  },
  "language_info": {
   "codemirror_mode": {
    "name": "ipython",
    "version": 3
   },
   "file_extension": ".py",
   "mimetype": "text/x-python",
   "name": "python",
   "nbconvert_exporter": "python",
   "pygments_lexer": "ipython3",
   "version": "3.8.5"
  }
 },
 "nbformat": 4,
 "nbformat_minor": 4
}
